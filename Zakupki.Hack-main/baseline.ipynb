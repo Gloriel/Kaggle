{
 "cells": [
  {
   "cell_type": "code",
   "execution_count": null,
   "metadata": {},
   "outputs": [],
   "source": [
    "# Идеология задачи (рекомендательной системы, которая будет предлагать 35 наиболее реальных участий)\n",
    "# Если рассчитывается 35 рекомендаций, то выдавать меньше - просто снижать вероятность успеха \n",
    "# Из пула нужна выбирать наиболее вероятные через введение внутреннего скора (логику ранжирования определяем сами)"
   ]
  },
  {
   "cell_type": "code",
   "execution_count": null,
   "metadata": {
    "ExecuteTime": {
     "end_time": "2021-02-05T06:33:09.331820Z",
     "start_time": "2021-02-05T06:33:08.645889Z"
    }
   },
   "outputs": [],
   "source": [
    "import pandas as pd\n",
    "from tqdm import tqdm_notebook\n",
    "import warnings\n",
    "warnings.filterwarnings('ignore')"
   ]
  },
  {
   "cell_type": "code",
   "execution_count": null,
   "metadata": {
    "ExecuteTime": {
     "end_time": "2021-02-05T06:33:20.195633Z",
     "start_time": "2021-02-05T06:33:10.347371Z"
    }
   },
   "outputs": [],
   "source": [
    "#считывание данных \n",
    "train_data = pd.read_csv(r\"C:\\Users\\Mr Alex\\Downloads\\data\\train_data.csv\", sep=';')\n",
    "train_labels = pd.read_csv(r\"C:\\Users\\Mr Alex\\Downloads\\data\\train_labels.csv\", sep=';') #Участники тендера\n",
    "test_data = pd.read_csv(r\"C:\\Users\\Mr Alex\\Downloads\\data\\test_data.csv\", sep=';')"
   ]
  },
  {
   "cell_type": "code",
   "execution_count": null,
   "metadata": {
    "ExecuteTime": {
     "end_time": "2021-02-05T06:33:22.794865Z",
     "start_time": "2021-02-05T06:33:22.266828Z"
    }
   },
   "outputs": [],
   "source": [
    "#Заполнение пропусков строкой 'None'\n",
    "train_data = train_data.fillna('None')\n",
    "test_data = test_data.fillna('None')"
   ]
  },
  {
   "cell_type": "markdown",
   "metadata": {},
   "source": [
    "#### Обработка okpd2 и additional_code"
   ]
  },
  {
   "cell_type": "code",
   "execution_count": null,
   "metadata": {
    "ExecuteTime": {
     "end_time": "2021-02-05T06:33:33.646818Z",
     "start_time": "2021-02-05T06:33:27.859699Z"
    }
   },
   "outputs": [],
   "source": [
    "train_data['okpd2_or_additional_code'] = train_data[['okpd2_code',\n",
    "                                                     'additional_code']].apply(lambda x: x[0] if x[1] == 'None' else x[1], axis=1)\n",
    "test_data['okpd2_or_additional_code'] = test_data[['okpd2_code', 'additional_code']].apply(\n",
    "    lambda x: x[0] if x[1] == 'None' else x[1], axis=1)"
   ]
  },
  {
   "cell_type": "code",
   "execution_count": null,
   "metadata": {
    "ExecuteTime": {
     "end_time": "2021-02-05T06:33:37.396303Z",
     "start_time": "2021-02-05T06:33:37.226321Z"
    }
   },
   "outputs": [],
   "source": [
    "#Просмотр частоты значений \n",
    "train_data['okpd2_or_additional_code'].value_counts()"
   ]
  },
  {
   "cell_type": "markdown",
   "metadata": {},
   "source": [
    "#### Формирование описания тендера"
   ]
  },
  {
   "cell_type": "code",
   "execution_count": null,
   "metadata": {
    "ExecuteTime": {
     "end_time": "2021-02-05T06:33:45.745643Z",
     "start_time": "2021-02-05T06:33:43.058603Z"
    }
   },
   "outputs": [],
   "source": [
    "train_data['text_description_tender'] = train_data['purchase_name'] + \" \" + train_data['lot_name'] + \" \" + train_data['okpd2_names'] + \" \" + train_data['additional_code_names'] + \" \" + train_data['item_descriptions']"
   ]
  },
  {
   "cell_type": "code",
   "execution_count": null,
   "metadata": {
    "ExecuteTime": {
     "end_time": "2021-02-05T06:33:57.249365Z",
     "start_time": "2021-02-05T06:33:57.209426Z"
    }
   },
   "outputs": [],
   "source": [
    "train_data.head(3).T"
   ]
  },
  {
   "cell_type": "markdown",
   "metadata": {},
   "source": [
    "#### Работа с историей участий поставщика"
   ]
  },
  {
   "cell_type": "code",
   "execution_count": null,
   "metadata": {
    "ExecuteTime": {
     "end_time": "2021-02-05T06:34:49.396833Z",
     "start_time": "2021-02-05T06:34:48.113769Z"
    }
   },
   "outputs": [],
   "source": [
    "inn_kpp_history = pd.merge(train_labels, train_data[['pn_lot_anon','region_code', 'okpd2_or_additional_code']], on=['pn_lot_anon'])"
   ]
  },
  {
   "cell_type": "code",
   "execution_count": null,
   "metadata": {
    "ExecuteTime": {
     "end_time": "2021-02-05T06:34:51.034701Z",
     "start_time": "2021-02-05T06:34:51.002696Z"
    }
   },
   "outputs": [],
   "source": [
    "inn_kpp_history.head()"
   ]
  },
  {
   "cell_type": "code",
   "execution_count": null,
   "metadata": {
    "ExecuteTime": {
     "end_time": "2021-02-05T06:35:11.838462Z",
     "start_time": "2021-02-05T06:35:06.644440Z"
    }
   },
   "outputs": [],
   "source": [
    "#группировка по поставщику \n",
    "inn_kpp_history = inn_kpp_history.groupby('participant_inn_kpp_anon').apply(lambda x: [\n",
    "    list(x['pn_lot_anon']),\n",
    "    list(x['is_winner']), \n",
    "    list(x['fz']), \n",
    "    list(x['region_code']), \n",
    "    list(x['okpd2_or_additional_code'])]).apply(pd.Series)"
   ]
  },
  {
   "cell_type": "code",
   "execution_count": null,
   "metadata": {
    "ExecuteTime": {
     "end_time": "2021-02-05T06:35:15.905652Z",
     "start_time": "2021-02-05T06:35:15.889693Z"
    }
   },
   "outputs": [],
   "source": [
    "inn_kpp_history = inn_kpp_history.reset_index()\n",
    "inn_kpp_history.columns = ['participant_inn_kpp_anon', 'list_pn_lot_anon',\n",
    "                           'list_is_winner', 'list_fz', 'list_region_code',\n",
    "                           'list_okpd2_or_additional_code']"
   ]
  },
  {
   "cell_type": "code",
   "execution_count": null,
   "metadata": {
    "ExecuteTime": {
     "end_time": "2021-02-05T06:35:17.572063Z",
     "start_time": "2021-02-05T06:35:17.551035Z"
    }
   },
   "outputs": [],
   "source": [
    "inn_kpp_history.head()"
   ]
  },
  {
   "cell_type": "code",
   "execution_count": null,
   "metadata": {
    "ExecuteTime": {
     "end_time": "2021-02-05T06:52:27.597314Z",
     "start_time": "2021-02-05T06:52:27.576315Z"
    }
   },
   "outputs": [],
   "source": [
    "comb['region_code'] = train_data['region_code'].astype('object')"
   ]
  },
  {
   "cell_type": "code",
   "execution_count": null,
   "metadata": {
    "ExecuteTime": {
     "end_time": "2021-02-05T06:53:29.703129Z",
     "start_time": "2021-02-05T06:53:29.700089Z"
    }
   },
   "outputs": [],
   "source": [
    "comb = [train_data, test_data]"
   ]
  },
  {
   "cell_type": "code",
   "execution_count": null,
   "metadata": {
    "ExecuteTime": {
     "end_time": "2021-02-05T06:54:57.485805Z",
     "start_time": "2021-02-05T06:54:57.466806Z"
    }
   },
   "outputs": [],
   "source": [
    "for c in comb:\n",
    "    c['region_code'] = c['region_code'].astype('object')"
   ]
  },
  {
   "cell_type": "code",
   "execution_count": null,
   "metadata": {
    "ExecuteTime": {
     "end_time": "2021-02-05T06:57:09.614766Z",
     "start_time": "2021-02-05T06:57:05.706768Z"
    }
   },
   "outputs": [],
   "source": [
    "train_data.describe(include='all')"
   ]
  },
  {
   "cell_type": "code",
   "execution_count": null,
   "metadata": {
    "ExecuteTime": {
     "end_time": "2021-02-05T07:03:23.393468Z",
     "start_time": "2021-02-05T07:03:23.337474Z"
    }
   },
   "outputs": [],
   "source": [
    "train_data['fz'].value_counts(normalize=True)"
   ]
  },
  {
   "cell_type": "code",
   "execution_count": null,
   "metadata": {
    "ExecuteTime": {
     "end_time": "2021-02-05T06:56:03.509652Z",
     "start_time": "2021-02-05T06:56:03.211622Z"
    }
   },
   "outputs": [],
   "source": [
    "train_data['list_fz'].unique()"
   ]
  },
  {
   "cell_type": "code",
   "execution_count": null,
   "metadata": {},
   "outputs": [],
   "source": []
  },
  {
   "cell_type": "markdown",
   "metadata": {},
   "source": [
    "#### Рекомендательная система"
   ]
  },
  {
   "cell_type": "markdown",
   "metadata": {},
   "source": [
    "Выбирается 35 случайный процедур из подвыборки с совпадением региона и ОКПД2 кода актуальной процедуры с регионами и ОКПД2 кодами из истории участия поставщика"
   ]
  },
  {
   "cell_type": "code",
   "execution_count": null,
   "metadata": {
    "ExecuteTime": {
     "end_time": "2021-02-05T06:36:34.898798Z",
     "start_time": "2021-02-05T06:35:32.555780Z"
    },
    "scrolled": true
   },
   "outputs": [],
   "source": [
    "inn_kpp_recommendation = []\n",
    "similarity_score = 1\n",
    "for inn_kpp in tqdm_notebook(inn_kpp_history.values):\n",
    "    participant_inn_kpp_anon, list_participant_inn_kpp_anon, list_is_winner, list_fz, list_region_code, list_okpd2_or_additional_code = inn_kpp\n",
    "    # подвыборка с совпадением региона и ОКПД2 кода актуальной с историей поставщика\n",
    "    recommendation = test_data[test_data['region_code'].isin(\n",
    "        list_region_code) & test_data['okpd2_or_additional_code'].isin(list_okpd2_or_additional_code)]\n",
    "    if recommendation.shape[0] >= 35:\n",
    "        # выбор 35 случайных актуальных процедур из подвыборки\n",
    "        recommendation = recommendation.sample(35)['pn_lot_anon'].values\n",
    "        for actual_pn_lot in recommendation:\n",
    "            inn_kpp_recommendation.append(\n",
    "                [participant_inn_kpp_anon, actual_pn_lot, similarity_score])"
   ]
  },
  {
   "cell_type": "markdown",
   "metadata": {},
   "source": [
    "#### Пример формирования файла рекомендаций"
   ]
  },
  {
   "cell_type": "code",
   "execution_count": null,
   "metadata": {},
   "outputs": [],
   "source": [
    "recommendation = pd.DataFrame(inn_kpp_recommendation, columns=['inn_kpp', 'actual_recommended_pn_lot', 'similarity_score'])\n",
    "recommendation.to_csv(\"TushkanProphets.csv\", index=False, sep=';')"
   ]
  },
  {
   "cell_type": "code",
   "execution_count": null,
   "metadata": {},
   "outputs": [],
   "source": [
    "recommendation"
   ]
  },
  {
   "cell_type": "markdown",
   "metadata": {},
   "source": [
    "# Подсчёт метрик"
   ]
  },
  {
   "cell_type": "code",
   "execution_count": null,
   "metadata": {},
   "outputs": [],
   "source": [
    "test_labels = pd.read_csv(\"ваша тестирующая выборка\", sep=';')"
   ]
  },
  {
   "cell_type": "code",
   "execution_count": null,
   "metadata": {},
   "outputs": [],
   "source": [
    "true = set((test_labels['pn_lot_anon'] + \"_\" + test_labels['participant_inn_kpp_anon']).values)"
   ]
  },
  {
   "cell_type": "code",
   "execution_count": null,
   "metadata": {},
   "outputs": [],
   "source": [
    "pred = set((recommendation['actual_recommended_pn_lot'] + \"_\" + recommendation['inn_kpp']).values)"
   ]
  },
  {
   "cell_type": "code",
   "execution_count": null,
   "metadata": {},
   "outputs": [],
   "source": [
    "intersection = len(true.intersection(pred))"
   ]
  },
  {
   "cell_type": "code",
   "execution_count": null,
   "metadata": {},
   "outputs": [],
   "source": [
    "print(f\"Точность: {intersection / len(pred) * 100}\")\n",
    "print(f\"Полнота: {intersection / len(true) * 100}\")"
   ]
  }
 ],
 "metadata": {
  "hide_input": false,
  "kernelspec": {
   "display_name": "Python 3",
   "language": "python",
   "name": "python3"
  },
  "language_info": {
   "codemirror_mode": {
    "name": "ipython",
    "version": 3
   },
   "file_extension": ".py",
   "mimetype": "text/x-python",
   "name": "python",
   "nbconvert_exporter": "python",
   "pygments_lexer": "ipython3",
   "version": "3.8.3"
  },
  "latex_envs": {
   "LaTeX_envs_menu_present": true,
   "autoclose": false,
   "autocomplete": true,
   "bibliofile": "biblio.bib",
   "cite_by": "apalike",
   "current_citInitial": 1,
   "eqLabelWithNumbers": true,
   "eqNumInitial": 1,
   "hotkeys": {
    "equation": "Ctrl-E",
    "itemize": "Ctrl-I"
   },
   "labels_anchors": false,
   "latex_user_defs": false,
   "report_style_numbering": false,
   "user_envs_cfg": false
  },
  "nbTranslate": {
   "displayLangs": [
    "*"
   ],
   "hotkey": "alt-t",
   "langInMainMenu": true,
   "sourceLang": "en",
   "targetLang": "fr",
   "useGoogleTranslate": true
  },
  "toc": {
   "base_numbering": 1,
   "nav_menu": {},
   "number_sections": true,
   "sideBar": true,
   "skip_h1_title": false,
   "title_cell": "Table of Contents",
   "title_sidebar": "Contents",
   "toc_cell": false,
   "toc_position": {},
   "toc_section_display": true,
   "toc_window_display": false
  },
  "varInspector": {
   "cols": {
    "lenName": 16,
    "lenType": 16,
    "lenVar": 40
   },
   "kernels_config": {
    "python": {
     "delete_cmd_postfix": "",
     "delete_cmd_prefix": "del ",
     "library": "var_list.py",
     "varRefreshCmd": "print(var_dic_list())"
    },
    "r": {
     "delete_cmd_postfix": ") ",
     "delete_cmd_prefix": "rm(",
     "library": "var_list.r",
     "varRefreshCmd": "cat(var_dic_list()) "
    }
   },
   "types_to_exclude": [
    "module",
    "function",
    "builtin_function_or_method",
    "instance",
    "_Feature"
   ],
   "window_display": false
  }
 },
 "nbformat": 4,
 "nbformat_minor": 4
}
