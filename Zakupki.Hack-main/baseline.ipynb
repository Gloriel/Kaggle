{
 "cells": [
  {
   "cell_type": "code",
   "execution_count": null,
   "metadata": {},
   "outputs": [],
   "source": [
    "# Идеология задачи (рекомендательной системы, которая будет предлагать 35 наиболее реальных участий)\n",
    "# Если рассчитывается 35, то выдавать меньше - просто снижать вероятность успеха \n",
    "# Из пула нужна выбирать наиболее вероятные через введение внутреннего скора (логику определяем сами)"
   ]
  },
  {
   "cell_type": "code",
   "execution_count": null,
   "metadata": {},
   "outputs": [],
   "source": []
  },
  {
   "cell_type": "code",
   "execution_count": null,
   "metadata": {},
   "outputs": [],
   "source": []
  },
  {
   "cell_type": "code",
   "execution_count": null,
   "metadata": {},
   "outputs": [],
   "source": []
  },
  {
   "cell_type": "code",
   "execution_count": 1,
   "metadata": {
    "ExecuteTime": {
     "end_time": "2021-02-05T06:33:09.331820Z",
     "start_time": "2021-02-05T06:33:08.645889Z"
    }
   },
   "outputs": [],
   "source": [
    "import pandas as pd\n",
    "from tqdm import tqdm_notebook\n",
    "import warnings\n",
    "warnings.filterwarnings('ignore')"
   ]
  },
  {
   "cell_type": "code",
   "execution_count": 2,
   "metadata": {
    "ExecuteTime": {
     "end_time": "2021-02-05T06:33:20.195633Z",
     "start_time": "2021-02-05T06:33:10.347371Z"
    }
   },
   "outputs": [],
   "source": [
    "#считывание данных \n",
    "train_data = pd.read_csv(r\"C:\\Users\\Mr Alex\\Downloads\\data\\train_data.csv\", sep=';')\n",
    "train_labels = pd.read_csv(r\"C:\\Users\\Mr Alex\\Downloads\\data\\train_labels.csv\", sep=';')\n",
    "test_data = pd.read_csv(r\"C:\\Users\\Mr Alex\\Downloads\\data\\test_data.csv\", sep=';')"
   ]
  },
  {
   "cell_type": "code",
   "execution_count": 3,
   "metadata": {
    "ExecuteTime": {
     "end_time": "2021-02-05T06:33:22.794865Z",
     "start_time": "2021-02-05T06:33:22.266828Z"
    }
   },
   "outputs": [],
   "source": [
    "#Заполнение пропусков строкой 'None'\n",
    "train_data = train_data.fillna('None')\n",
    "test_data = test_data.fillna('None')"
   ]
  },
  {
   "cell_type": "markdown",
   "metadata": {},
   "source": [
    "#### Обработка okpd2 и additional_code"
   ]
  },
  {
   "cell_type": "code",
   "execution_count": 4,
   "metadata": {
    "ExecuteTime": {
     "end_time": "2021-02-05T06:33:33.646818Z",
     "start_time": "2021-02-05T06:33:27.859699Z"
    }
   },
   "outputs": [],
   "source": [
    "train_data['okpd2_or_additional_code'] = train_data[['okpd2_code',\n",
    "                                                     'additional_code']].apply(lambda x: x[0] if x[1] == 'None' else x[1], axis=1)\n",
    "test_data['okpd2_or_additional_code'] = test_data[['okpd2_code', 'additional_code']].apply(\n",
    "    lambda x: x[0] if x[1] == 'None' else x[1], axis=1)"
   ]
  },
  {
   "cell_type": "code",
   "execution_count": 5,
   "metadata": {
    "ExecuteTime": {
     "end_time": "2021-02-05T06:33:37.396303Z",
     "start_time": "2021-02-05T06:33:37.226321Z"
    }
   },
   "outputs": [
    {
     "data": {
      "text/plain": [
       "drug    65646\n",
       "32.5    36292\n",
       "71.1    17836\n",
       "20.5    15591\n",
       "26.2    14783\n",
       "        ...  \n",
       "80.3        1\n",
       "1.7         1\n",
       "14.2        1\n",
       "2.3         1\n",
       "9.9         1\n",
       "Name: okpd2_or_additional_code, Length: 657, dtype: int64"
      ]
     },
     "execution_count": 5,
     "metadata": {},
     "output_type": "execute_result"
    }
   ],
   "source": [
    "#Просмотр частоты значений \n",
    "train_data['okpd2_or_additional_code'].value_counts()"
   ]
  },
  {
   "cell_type": "markdown",
   "metadata": {},
   "source": [
    "#### Формирование описания тендера"
   ]
  },
  {
   "cell_type": "code",
   "execution_count": 6,
   "metadata": {
    "ExecuteTime": {
     "end_time": "2021-02-05T06:33:45.745643Z",
     "start_time": "2021-02-05T06:33:43.058603Z"
    }
   },
   "outputs": [],
   "source": [
    "train_data['text_description_tender'] = train_data['purchase_name'] + \" \" + train_data['lot_name'] + \" \" + train_data['okpd2_names'] + \" \" + train_data['additional_code_names'] + \" \" + train_data['item_descriptions']"
   ]
  },
  {
   "cell_type": "code",
   "execution_count": 8,
   "metadata": {
    "ExecuteTime": {
     "end_time": "2021-02-05T06:33:57.249365Z",
     "start_time": "2021-02-05T06:33:57.209426Z"
    }
   },
   "outputs": [
    {
     "data": {
      "text/html": [
       "<div>\n",
       "<style scoped>\n",
       "    .dataframe tbody tr th:only-of-type {\n",
       "        vertical-align: middle;\n",
       "    }\n",
       "\n",
       "    .dataframe tbody tr th {\n",
       "        vertical-align: top;\n",
       "    }\n",
       "\n",
       "    .dataframe thead th {\n",
       "        text-align: right;\n",
       "    }\n",
       "</style>\n",
       "<table border=\"1\" class=\"dataframe\">\n",
       "  <thead>\n",
       "    <tr style=\"text-align: right;\">\n",
       "      <th></th>\n",
       "      <th>0</th>\n",
       "      <th>1</th>\n",
       "      <th>2</th>\n",
       "    </tr>\n",
       "  </thead>\n",
       "  <tbody>\n",
       "    <tr>\n",
       "      <th>pn_lot_anon</th>\n",
       "      <td>pn_lot_7031618</td>\n",
       "      <td>pn_lot_7808247</td>\n",
       "      <td>pn_lot_7009496</td>\n",
       "    </tr>\n",
       "    <tr>\n",
       "      <th>fz</th>\n",
       "      <td>44fz</td>\n",
       "      <td>44fz</td>\n",
       "      <td>44fz</td>\n",
       "    </tr>\n",
       "    <tr>\n",
       "      <th>region_code</th>\n",
       "      <td>2</td>\n",
       "      <td>2</td>\n",
       "      <td>2</td>\n",
       "    </tr>\n",
       "    <tr>\n",
       "      <th>min_publish_date</th>\n",
       "      <td>2019-08-26</td>\n",
       "      <td>2019-03-12</td>\n",
       "      <td>2019-03-14</td>\n",
       "    </tr>\n",
       "    <tr>\n",
       "      <th>purchase_name</th>\n",
       "      <td>Услуги по проведению финансового аудита</td>\n",
       "      <td>Приобретение призов для проведения конкурса по...</td>\n",
       "      <td>приобретение призов для проведения мероприятия...</td>\n",
       "    </tr>\n",
       "    <tr>\n",
       "      <th>lot_name</th>\n",
       "      <td>None</td>\n",
       "      <td>None</td>\n",
       "      <td>None</td>\n",
       "    </tr>\n",
       "    <tr>\n",
       "      <th>lot_price</th>\n",
       "      <td>123500</td>\n",
       "      <td>144000</td>\n",
       "      <td>124200</td>\n",
       "    </tr>\n",
       "    <tr>\n",
       "      <th>okpd2_code</th>\n",
       "      <td>69.2</td>\n",
       "      <td>26.4</td>\n",
       "      <td>26.2</td>\n",
       "    </tr>\n",
       "    <tr>\n",
       "      <th>okpd2_names</th>\n",
       "      <td>Услуги по проведению финансового аудита</td>\n",
       "      <td>Телефоны головные, наушники и комбинированные ...</td>\n",
       "      <td>Устройства запоминающие внешние</td>\n",
       "    </tr>\n",
       "    <tr>\n",
       "      <th>additional_code</th>\n",
       "      <td>None</td>\n",
       "      <td>None</td>\n",
       "      <td>None</td>\n",
       "    </tr>\n",
       "    <tr>\n",
       "      <th>additional_code_names</th>\n",
       "      <td>None</td>\n",
       "      <td>None</td>\n",
       "      <td>None</td>\n",
       "    </tr>\n",
       "    <tr>\n",
       "      <th>item_descriptions</th>\n",
       "      <td>Услуги по проведению финансового аудита</td>\n",
       "      <td>Телефоны головные, наушники и комбинированные ...</td>\n",
       "      <td>Устройства запоминающие внешние</td>\n",
       "    </tr>\n",
       "    <tr>\n",
       "      <th>okpd2_or_additional_code</th>\n",
       "      <td>69.2</td>\n",
       "      <td>26.4</td>\n",
       "      <td>26.2</td>\n",
       "    </tr>\n",
       "    <tr>\n",
       "      <th>text_description_tender</th>\n",
       "      <td>Услуги по проведению финансового аудита None У...</td>\n",
       "      <td>Приобретение призов для проведения конкурса по...</td>\n",
       "      <td>приобретение призов для проведения мероприятия...</td>\n",
       "    </tr>\n",
       "  </tbody>\n",
       "</table>\n",
       "</div>"
      ],
      "text/plain": [
       "                                                                          0  \\\n",
       "pn_lot_anon                                                  pn_lot_7031618   \n",
       "fz                                                                     44fz   \n",
       "region_code                                                               2   \n",
       "min_publish_date                                                 2019-08-26   \n",
       "purchase_name                       Услуги по проведению финансового аудита   \n",
       "lot_name                                                               None   \n",
       "lot_price                                                            123500   \n",
       "okpd2_code                                                             69.2   \n",
       "okpd2_names                         Услуги по проведению финансового аудита   \n",
       "additional_code                                                        None   \n",
       "additional_code_names                                                  None   \n",
       "item_descriptions                  Услуги по проведению финансового аудита    \n",
       "okpd2_or_additional_code                                               69.2   \n",
       "text_description_tender   Услуги по проведению финансового аудита None У...   \n",
       "\n",
       "                                                                          1  \\\n",
       "pn_lot_anon                                                  pn_lot_7808247   \n",
       "fz                                                                     44fz   \n",
       "region_code                                                               2   \n",
       "min_publish_date                                                 2019-03-12   \n",
       "purchase_name             Приобретение призов для проведения конкурса по...   \n",
       "lot_name                                                               None   \n",
       "lot_price                                                            144000   \n",
       "okpd2_code                                                             26.4   \n",
       "okpd2_names               Телефоны головные, наушники и комбинированные ...   \n",
       "additional_code                                                        None   \n",
       "additional_code_names                                                  None   \n",
       "item_descriptions         Телефоны головные, наушники и комбинированные ...   \n",
       "okpd2_or_additional_code                                               26.4   \n",
       "text_description_tender   Приобретение призов для проведения конкурса по...   \n",
       "\n",
       "                                                                          2  \n",
       "pn_lot_anon                                                  pn_lot_7009496  \n",
       "fz                                                                     44fz  \n",
       "region_code                                                               2  \n",
       "min_publish_date                                                 2019-03-14  \n",
       "purchase_name             приобретение призов для проведения мероприятия...  \n",
       "lot_name                                                               None  \n",
       "lot_price                                                            124200  \n",
       "okpd2_code                                                             26.2  \n",
       "okpd2_names                                 Устройства запоминающие внешние  \n",
       "additional_code                                                        None  \n",
       "additional_code_names                                                  None  \n",
       "item_descriptions                          Устройства запоминающие внешние   \n",
       "okpd2_or_additional_code                                               26.2  \n",
       "text_description_tender   приобретение призов для проведения мероприятия...  "
      ]
     },
     "execution_count": 8,
     "metadata": {},
     "output_type": "execute_result"
    }
   ],
   "source": [
    "train_data.head(3).T"
   ]
  },
  {
   "cell_type": "markdown",
   "metadata": {},
   "source": [
    "#### Работа с историей участий поставщика"
   ]
  },
  {
   "cell_type": "code",
   "execution_count": 9,
   "metadata": {
    "ExecuteTime": {
     "end_time": "2021-02-05T06:34:49.396833Z",
     "start_time": "2021-02-05T06:34:48.113769Z"
    }
   },
   "outputs": [],
   "source": [
    "inn_kpp_history = pd.merge(train_labels, train_data[['pn_lot_anon','region_code', 'okpd2_or_additional_code']], on=['pn_lot_anon'])"
   ]
  },
  {
   "cell_type": "code",
   "execution_count": 10,
   "metadata": {
    "ExecuteTime": {
     "end_time": "2021-02-05T06:34:51.034701Z",
     "start_time": "2021-02-05T06:34:51.002696Z"
    }
   },
   "outputs": [
    {
     "data": {
      "text/html": [
       "<div>\n",
       "<style scoped>\n",
       "    .dataframe tbody tr th:only-of-type {\n",
       "        vertical-align: middle;\n",
       "    }\n",
       "\n",
       "    .dataframe tbody tr th {\n",
       "        vertical-align: top;\n",
       "    }\n",
       "\n",
       "    .dataframe thead th {\n",
       "        text-align: right;\n",
       "    }\n",
       "</style>\n",
       "<table border=\"1\" class=\"dataframe\">\n",
       "  <thead>\n",
       "    <tr style=\"text-align: right;\">\n",
       "      <th></th>\n",
       "      <th>pn_lot_anon</th>\n",
       "      <th>participant_inn_kpp_anon</th>\n",
       "      <th>is_winner</th>\n",
       "      <th>fz</th>\n",
       "      <th>region_code</th>\n",
       "      <th>okpd2_or_additional_code</th>\n",
       "    </tr>\n",
       "  </thead>\n",
       "  <tbody>\n",
       "    <tr>\n",
       "      <th>0</th>\n",
       "      <td>pn_lot_1770702</td>\n",
       "      <td>inn_kpp_3661899</td>\n",
       "      <td>1</td>\n",
       "      <td>44fz</td>\n",
       "      <td>1</td>\n",
       "      <td>42.1</td>\n",
       "    </tr>\n",
       "    <tr>\n",
       "      <th>1</th>\n",
       "      <td>pn_lot_1058704</td>\n",
       "      <td>inn_kpp_3661899</td>\n",
       "      <td>1</td>\n",
       "      <td>44fz</td>\n",
       "      <td>1</td>\n",
       "      <td>42.9</td>\n",
       "    </tr>\n",
       "    <tr>\n",
       "      <th>2</th>\n",
       "      <td>pn_lot_4186044</td>\n",
       "      <td>inn_kpp_3661899</td>\n",
       "      <td>1</td>\n",
       "      <td>44fz</td>\n",
       "      <td>1</td>\n",
       "      <td>42.1</td>\n",
       "    </tr>\n",
       "    <tr>\n",
       "      <th>3</th>\n",
       "      <td>pn_lot_6882961</td>\n",
       "      <td>inn_kpp_3661899</td>\n",
       "      <td>1</td>\n",
       "      <td>44fz</td>\n",
       "      <td>1</td>\n",
       "      <td>42.9</td>\n",
       "    </tr>\n",
       "    <tr>\n",
       "      <th>4</th>\n",
       "      <td>pn_lot_5821609</td>\n",
       "      <td>inn_kpp_3661899</td>\n",
       "      <td>1</td>\n",
       "      <td>44fz</td>\n",
       "      <td>1</td>\n",
       "      <td>42.1</td>\n",
       "    </tr>\n",
       "  </tbody>\n",
       "</table>\n",
       "</div>"
      ],
      "text/plain": [
       "      pn_lot_anon participant_inn_kpp_anon  is_winner    fz  region_code  \\\n",
       "0  pn_lot_1770702          inn_kpp_3661899          1  44fz            1   \n",
       "1  pn_lot_1058704          inn_kpp_3661899          1  44fz            1   \n",
       "2  pn_lot_4186044          inn_kpp_3661899          1  44fz            1   \n",
       "3  pn_lot_6882961          inn_kpp_3661899          1  44fz            1   \n",
       "4  pn_lot_5821609          inn_kpp_3661899          1  44fz            1   \n",
       "\n",
       "  okpd2_or_additional_code  \n",
       "0                     42.1  \n",
       "1                     42.9  \n",
       "2                     42.1  \n",
       "3                     42.9  \n",
       "4                     42.1  "
      ]
     },
     "execution_count": 10,
     "metadata": {},
     "output_type": "execute_result"
    }
   ],
   "source": [
    "inn_kpp_history.head()"
   ]
  },
  {
   "cell_type": "code",
   "execution_count": 11,
   "metadata": {
    "ExecuteTime": {
     "end_time": "2021-02-05T06:35:11.838462Z",
     "start_time": "2021-02-05T06:35:06.644440Z"
    }
   },
   "outputs": [],
   "source": [
    "#группировка по поставщику \n",
    "inn_kpp_history = inn_kpp_history.groupby('participant_inn_kpp_anon').apply(lambda x: [\n",
    "    list(x['pn_lot_anon']),\n",
    "    list(x['is_winner']), \n",
    "    list(x['fz']), \n",
    "    list(x['region_code']), \n",
    "    list(x['okpd2_or_additional_code'])]).apply(pd.Series)"
   ]
  },
  {
   "cell_type": "code",
   "execution_count": 12,
   "metadata": {
    "ExecuteTime": {
     "end_time": "2021-02-05T06:35:15.905652Z",
     "start_time": "2021-02-05T06:35:15.889693Z"
    }
   },
   "outputs": [],
   "source": [
    "inn_kpp_history = inn_kpp_history.reset_index()\n",
    "inn_kpp_history.columns = ['participant_inn_kpp_anon', 'list_pn_lot_anon',\n",
    "                           'list_is_winner', 'list_fz', 'list_region_code',\n",
    "                           'list_okpd2_or_additional_code']"
   ]
  },
  {
   "cell_type": "code",
   "execution_count": 13,
   "metadata": {
    "ExecuteTime": {
     "end_time": "2021-02-05T06:35:17.572063Z",
     "start_time": "2021-02-05T06:35:17.551035Z"
    }
   },
   "outputs": [
    {
     "data": {
      "text/html": [
       "<div>\n",
       "<style scoped>\n",
       "    .dataframe tbody tr th:only-of-type {\n",
       "        vertical-align: middle;\n",
       "    }\n",
       "\n",
       "    .dataframe tbody tr th {\n",
       "        vertical-align: top;\n",
       "    }\n",
       "\n",
       "    .dataframe thead th {\n",
       "        text-align: right;\n",
       "    }\n",
       "</style>\n",
       "<table border=\"1\" class=\"dataframe\">\n",
       "  <thead>\n",
       "    <tr style=\"text-align: right;\">\n",
       "      <th></th>\n",
       "      <th>participant_inn_kpp_anon</th>\n",
       "      <th>list_pn_lot_anon</th>\n",
       "      <th>list_is_winner</th>\n",
       "      <th>list_fz</th>\n",
       "      <th>list_region_code</th>\n",
       "      <th>list_okpd2_or_additional_code</th>\n",
       "    </tr>\n",
       "  </thead>\n",
       "  <tbody>\n",
       "    <tr>\n",
       "      <th>0</th>\n",
       "      <td>inn_kpp_1000018</td>\n",
       "      <td>[pn_lot_5330449, pn_lot_648665, pn_lot_81155, ...</td>\n",
       "      <td>[0, 0, 0, 1, 1, 1, 1, 1, 0, 0, 0, 1, 1, 1, 1, ...</td>\n",
       "      <td>[44fz, 44fz, 44fz, 44fz, 44fz, 44fz, 44fz, 44f...</td>\n",
       "      <td>[64, 50, 50, 77, 50, 64, 77, 77, 77, 77, 50, 7...</td>\n",
       "      <td>[58.2, 26.2, 26.4, 26.3, 26.2, 58.2, 26.2, 27....</td>\n",
       "    </tr>\n",
       "    <tr>\n",
       "      <th>1</th>\n",
       "      <td>inn_kpp_1001268</td>\n",
       "      <td>[pn_lot_7608031, pn_lot_9976372, pn_lot_671651...</td>\n",
       "      <td>[1, 1, 1, 1, 0, 0, 1, 0, 1, 1, 1, 1, 1, 0, 1, ...</td>\n",
       "      <td>[44fz, 44fz, 44fz, 44fz, 44fz, 44fz, 44fz, 44f...</td>\n",
       "      <td>[77, 79, 79, 79, 79, 27, 79, 79, 79, 79, 79, 7...</td>\n",
       "      <td>[86.9, 86.1, 86.2, 86.9, 86.9, 86.9, 86.9, 86....</td>\n",
       "    </tr>\n",
       "    <tr>\n",
       "      <th>2</th>\n",
       "      <td>inn_kpp_1002518</td>\n",
       "      <td>[pn_lot_5287076, pn_lot_7474816, pn_lot_121000...</td>\n",
       "      <td>[0, 0, 1, 1, 0, 0, 1, 1, 1, 0, 0, 1, 0, 0, 0, ...</td>\n",
       "      <td>[44fz, 44fz, 44fz, 44fz, 44fz, 44fz, 44fz, 44f...</td>\n",
       "      <td>[41, 27, 82, 65, 65, 65, 41, 41, 41, 41, 82, 4...</td>\n",
       "      <td>[30.3, 27.1, 27.1, 25.1, 30.9, 29.2, 25.9, 25....</td>\n",
       "    </tr>\n",
       "    <tr>\n",
       "      <th>3</th>\n",
       "      <td>inn_kpp_1003261</td>\n",
       "      <td>[pn_lot_2647783]</td>\n",
       "      <td>[1]</td>\n",
       "      <td>[223fz]</td>\n",
       "      <td>[54]</td>\n",
       "      <td>[28.2]</td>\n",
       "    </tr>\n",
       "    <tr>\n",
       "      <th>4</th>\n",
       "      <td>inn_kpp_1003291</td>\n",
       "      <td>[pn_lot_7794721, pn_lot_4767800, pn_lot_915979...</td>\n",
       "      <td>[0, 1, 1, 1, 1, 1, 1, 1, 1, 1, 1, 1, 1, 1, 0, ...</td>\n",
       "      <td>[44fz, 44fz, 44fz, 44fz, 44fz, 44fz, 44fz, 44f...</td>\n",
       "      <td>[50, 12, 50, 50, 51, 69, 11, 12, 11, 12, 12, 1...</td>\n",
       "      <td>[32.5, 32.5, 32.5, 32.5, 32.5, 32.5, 32.5, 21....</td>\n",
       "    </tr>\n",
       "  </tbody>\n",
       "</table>\n",
       "</div>"
      ],
      "text/plain": [
       "  participant_inn_kpp_anon                                   list_pn_lot_anon  \\\n",
       "0          inn_kpp_1000018  [pn_lot_5330449, pn_lot_648665, pn_lot_81155, ...   \n",
       "1          inn_kpp_1001268  [pn_lot_7608031, pn_lot_9976372, pn_lot_671651...   \n",
       "2          inn_kpp_1002518  [pn_lot_5287076, pn_lot_7474816, pn_lot_121000...   \n",
       "3          inn_kpp_1003261                                   [pn_lot_2647783]   \n",
       "4          inn_kpp_1003291  [pn_lot_7794721, pn_lot_4767800, pn_lot_915979...   \n",
       "\n",
       "                                      list_is_winner  \\\n",
       "0  [0, 0, 0, 1, 1, 1, 1, 1, 0, 0, 0, 1, 1, 1, 1, ...   \n",
       "1  [1, 1, 1, 1, 0, 0, 1, 0, 1, 1, 1, 1, 1, 0, 1, ...   \n",
       "2  [0, 0, 1, 1, 0, 0, 1, 1, 1, 0, 0, 1, 0, 0, 0, ...   \n",
       "3                                                [1]   \n",
       "4  [0, 1, 1, 1, 1, 1, 1, 1, 1, 1, 1, 1, 1, 1, 0, ...   \n",
       "\n",
       "                                             list_fz  \\\n",
       "0  [44fz, 44fz, 44fz, 44fz, 44fz, 44fz, 44fz, 44f...   \n",
       "1  [44fz, 44fz, 44fz, 44fz, 44fz, 44fz, 44fz, 44f...   \n",
       "2  [44fz, 44fz, 44fz, 44fz, 44fz, 44fz, 44fz, 44f...   \n",
       "3                                            [223fz]   \n",
       "4  [44fz, 44fz, 44fz, 44fz, 44fz, 44fz, 44fz, 44f...   \n",
       "\n",
       "                                    list_region_code  \\\n",
       "0  [64, 50, 50, 77, 50, 64, 77, 77, 77, 77, 50, 7...   \n",
       "1  [77, 79, 79, 79, 79, 27, 79, 79, 79, 79, 79, 7...   \n",
       "2  [41, 27, 82, 65, 65, 65, 41, 41, 41, 41, 82, 4...   \n",
       "3                                               [54]   \n",
       "4  [50, 12, 50, 50, 51, 69, 11, 12, 11, 12, 12, 1...   \n",
       "\n",
       "                       list_okpd2_or_additional_code  \n",
       "0  [58.2, 26.2, 26.4, 26.3, 26.2, 58.2, 26.2, 27....  \n",
       "1  [86.9, 86.1, 86.2, 86.9, 86.9, 86.9, 86.9, 86....  \n",
       "2  [30.3, 27.1, 27.1, 25.1, 30.9, 29.2, 25.9, 25....  \n",
       "3                                             [28.2]  \n",
       "4  [32.5, 32.5, 32.5, 32.5, 32.5, 32.5, 32.5, 21....  "
      ]
     },
     "execution_count": 13,
     "metadata": {},
     "output_type": "execute_result"
    }
   ],
   "source": [
    "inn_kpp_history.head()"
   ]
  },
  {
   "cell_type": "code",
   "execution_count": 20,
   "metadata": {
    "ExecuteTime": {
     "end_time": "2021-02-05T06:52:27.597314Z",
     "start_time": "2021-02-05T06:52:27.576315Z"
    }
   },
   "outputs": [],
   "source": [
    "comb['region_code'] = train_data['region_code'].astype('object')"
   ]
  },
  {
   "cell_type": "code",
   "execution_count": 23,
   "metadata": {
    "ExecuteTime": {
     "end_time": "2021-02-05T06:53:29.703129Z",
     "start_time": "2021-02-05T06:53:29.700089Z"
    }
   },
   "outputs": [],
   "source": [
    "comb = [train_data, test_data]"
   ]
  },
  {
   "cell_type": "code",
   "execution_count": 24,
   "metadata": {
    "ExecuteTime": {
     "end_time": "2021-02-05T06:54:57.485805Z",
     "start_time": "2021-02-05T06:54:57.466806Z"
    }
   },
   "outputs": [],
   "source": [
    "for c in comb:\n",
    "    c['region_code'] = c['region_code'].astype('object')"
   ]
  },
  {
   "cell_type": "code",
   "execution_count": 29,
   "metadata": {
    "ExecuteTime": {
     "end_time": "2021-02-05T06:57:09.614766Z",
     "start_time": "2021-02-05T06:57:05.706768Z"
    }
   },
   "outputs": [
    {
     "data": {
      "text/html": [
       "<div>\n",
       "<style scoped>\n",
       "    .dataframe tbody tr th:only-of-type {\n",
       "        vertical-align: middle;\n",
       "    }\n",
       "\n",
       "    .dataframe tbody tr th {\n",
       "        vertical-align: top;\n",
       "    }\n",
       "\n",
       "    .dataframe thead th {\n",
       "        text-align: right;\n",
       "    }\n",
       "</style>\n",
       "<table border=\"1\" class=\"dataframe\">\n",
       "  <thead>\n",
       "    <tr style=\"text-align: right;\">\n",
       "      <th></th>\n",
       "      <th>pn_lot_anon</th>\n",
       "      <th>fz</th>\n",
       "      <th>region_code</th>\n",
       "      <th>min_publish_date</th>\n",
       "      <th>purchase_name</th>\n",
       "      <th>lot_name</th>\n",
       "      <th>lot_price</th>\n",
       "      <th>okpd2_code</th>\n",
       "      <th>okpd2_names</th>\n",
       "      <th>additional_code</th>\n",
       "      <th>additional_code_names</th>\n",
       "      <th>item_descriptions</th>\n",
       "      <th>okpd2_or_additional_code</th>\n",
       "      <th>text_description_tender</th>\n",
       "    </tr>\n",
       "  </thead>\n",
       "  <tbody>\n",
       "    <tr>\n",
       "      <th>count</th>\n",
       "      <td>778901</td>\n",
       "      <td>778901</td>\n",
       "      <td>778901.0</td>\n",
       "      <td>778901</td>\n",
       "      <td>778901</td>\n",
       "      <td>778901</td>\n",
       "      <td>7.789010e+05</td>\n",
       "      <td>778901</td>\n",
       "      <td>778901</td>\n",
       "      <td>778901</td>\n",
       "      <td>778901</td>\n",
       "      <td>778901</td>\n",
       "      <td>778901</td>\n",
       "      <td>778901</td>\n",
       "    </tr>\n",
       "    <tr>\n",
       "      <th>unique</th>\n",
       "      <td>778901</td>\n",
       "      <td>2</td>\n",
       "      <td>92.0</td>\n",
       "      <td>475</td>\n",
       "      <td>528202</td>\n",
       "      <td>100723</td>\n",
       "      <td>NaN</td>\n",
       "      <td>349</td>\n",
       "      <td>43430</td>\n",
       "      <td>644</td>\n",
       "      <td>12194</td>\n",
       "      <td>449290</td>\n",
       "      <td>657</td>\n",
       "      <td>713526</td>\n",
       "    </tr>\n",
       "    <tr>\n",
       "      <th>top</th>\n",
       "      <td>pn_lot_2388707</td>\n",
       "      <td>44fz</td>\n",
       "      <td>77.0</td>\n",
       "      <td>2020-03-30</td>\n",
       "      <td>Поставка канцелярских товаров</td>\n",
       "      <td>None</td>\n",
       "      <td>NaN</td>\n",
       "      <td>None</td>\n",
       "      <td>None</td>\n",
       "      <td>None</td>\n",
       "      <td>None</td>\n",
       "      <td>None</td>\n",
       "      <td>drug</td>\n",
       "      <td>Бензин автомобильный АИ-92 экологического клас...</td>\n",
       "    </tr>\n",
       "    <tr>\n",
       "      <th>freq</th>\n",
       "      <td>1</td>\n",
       "      <td>649744</td>\n",
       "      <td>82252.0</td>\n",
       "      <td>5518</td>\n",
       "      <td>3839</td>\n",
       "      <td>649668</td>\n",
       "      <td>NaN</td>\n",
       "      <td>91694</td>\n",
       "      <td>91694</td>\n",
       "      <td>558068</td>\n",
       "      <td>558068</td>\n",
       "      <td>83734</td>\n",
       "      <td>65646</td>\n",
       "      <td>304</td>\n",
       "    </tr>\n",
       "    <tr>\n",
       "      <th>mean</th>\n",
       "      <td>NaN</td>\n",
       "      <td>NaN</td>\n",
       "      <td>NaN</td>\n",
       "      <td>NaN</td>\n",
       "      <td>NaN</td>\n",
       "      <td>NaN</td>\n",
       "      <td>3.420793e+06</td>\n",
       "      <td>NaN</td>\n",
       "      <td>NaN</td>\n",
       "      <td>NaN</td>\n",
       "      <td>NaN</td>\n",
       "      <td>NaN</td>\n",
       "      <td>NaN</td>\n",
       "      <td>NaN</td>\n",
       "    </tr>\n",
       "    <tr>\n",
       "      <th>std</th>\n",
       "      <td>NaN</td>\n",
       "      <td>NaN</td>\n",
       "      <td>NaN</td>\n",
       "      <td>NaN</td>\n",
       "      <td>NaN</td>\n",
       "      <td>NaN</td>\n",
       "      <td>1.008930e+08</td>\n",
       "      <td>NaN</td>\n",
       "      <td>NaN</td>\n",
       "      <td>NaN</td>\n",
       "      <td>NaN</td>\n",
       "      <td>NaN</td>\n",
       "      <td>NaN</td>\n",
       "      <td>NaN</td>\n",
       "    </tr>\n",
       "    <tr>\n",
       "      <th>min</th>\n",
       "      <td>NaN</td>\n",
       "      <td>NaN</td>\n",
       "      <td>NaN</td>\n",
       "      <td>NaN</td>\n",
       "      <td>NaN</td>\n",
       "      <td>NaN</td>\n",
       "      <td>0.000000e+00</td>\n",
       "      <td>NaN</td>\n",
       "      <td>NaN</td>\n",
       "      <td>NaN</td>\n",
       "      <td>NaN</td>\n",
       "      <td>NaN</td>\n",
       "      <td>NaN</td>\n",
       "      <td>NaN</td>\n",
       "    </tr>\n",
       "    <tr>\n",
       "      <th>25%</th>\n",
       "      <td>NaN</td>\n",
       "      <td>NaN</td>\n",
       "      <td>NaN</td>\n",
       "      <td>NaN</td>\n",
       "      <td>NaN</td>\n",
       "      <td>NaN</td>\n",
       "      <td>9.900000e+04</td>\n",
       "      <td>NaN</td>\n",
       "      <td>NaN</td>\n",
       "      <td>NaN</td>\n",
       "      <td>NaN</td>\n",
       "      <td>NaN</td>\n",
       "      <td>NaN</td>\n",
       "      <td>NaN</td>\n",
       "    </tr>\n",
       "    <tr>\n",
       "      <th>50%</th>\n",
       "      <td>NaN</td>\n",
       "      <td>NaN</td>\n",
       "      <td>NaN</td>\n",
       "      <td>NaN</td>\n",
       "      <td>NaN</td>\n",
       "      <td>NaN</td>\n",
       "      <td>3.054280e+05</td>\n",
       "      <td>NaN</td>\n",
       "      <td>NaN</td>\n",
       "      <td>NaN</td>\n",
       "      <td>NaN</td>\n",
       "      <td>NaN</td>\n",
       "      <td>NaN</td>\n",
       "      <td>NaN</td>\n",
       "    </tr>\n",
       "    <tr>\n",
       "      <th>75%</th>\n",
       "      <td>NaN</td>\n",
       "      <td>NaN</td>\n",
       "      <td>NaN</td>\n",
       "      <td>NaN</td>\n",
       "      <td>NaN</td>\n",
       "      <td>NaN</td>\n",
       "      <td>9.914156e+05</td>\n",
       "      <td>NaN</td>\n",
       "      <td>NaN</td>\n",
       "      <td>NaN</td>\n",
       "      <td>NaN</td>\n",
       "      <td>NaN</td>\n",
       "      <td>NaN</td>\n",
       "      <td>NaN</td>\n",
       "    </tr>\n",
       "    <tr>\n",
       "      <th>max</th>\n",
       "      <td>NaN</td>\n",
       "      <td>NaN</td>\n",
       "      <td>NaN</td>\n",
       "      <td>NaN</td>\n",
       "      <td>NaN</td>\n",
       "      <td>NaN</td>\n",
       "      <td>4.678006e+10</td>\n",
       "      <td>NaN</td>\n",
       "      <td>NaN</td>\n",
       "      <td>NaN</td>\n",
       "      <td>NaN</td>\n",
       "      <td>NaN</td>\n",
       "      <td>NaN</td>\n",
       "      <td>NaN</td>\n",
       "    </tr>\n",
       "  </tbody>\n",
       "</table>\n",
       "</div>"
      ],
      "text/plain": [
       "           pn_lot_anon      fz  region_code min_publish_date  \\\n",
       "count           778901  778901     778901.0           778901   \n",
       "unique          778901       2         92.0              475   \n",
       "top     pn_lot_2388707    44fz         77.0       2020-03-30   \n",
       "freq                 1  649744      82252.0             5518   \n",
       "mean               NaN     NaN          NaN              NaN   \n",
       "std                NaN     NaN          NaN              NaN   \n",
       "min                NaN     NaN          NaN              NaN   \n",
       "25%                NaN     NaN          NaN              NaN   \n",
       "50%                NaN     NaN          NaN              NaN   \n",
       "75%                NaN     NaN          NaN              NaN   \n",
       "max                NaN     NaN          NaN              NaN   \n",
       "\n",
       "                        purchase_name lot_name     lot_price okpd2_code  \\\n",
       "count                          778901   778901  7.789010e+05     778901   \n",
       "unique                         528202   100723           NaN        349   \n",
       "top     Поставка канцелярских товаров     None           NaN       None   \n",
       "freq                             3839   649668           NaN      91694   \n",
       "mean                              NaN      NaN  3.420793e+06        NaN   \n",
       "std                               NaN      NaN  1.008930e+08        NaN   \n",
       "min                               NaN      NaN  0.000000e+00        NaN   \n",
       "25%                               NaN      NaN  9.900000e+04        NaN   \n",
       "50%                               NaN      NaN  3.054280e+05        NaN   \n",
       "75%                               NaN      NaN  9.914156e+05        NaN   \n",
       "max                               NaN      NaN  4.678006e+10        NaN   \n",
       "\n",
       "       okpd2_names additional_code additional_code_names item_descriptions  \\\n",
       "count       778901          778901                778901            778901   \n",
       "unique       43430             644                 12194            449290   \n",
       "top           None            None                  None              None   \n",
       "freq         91694          558068                558068             83734   \n",
       "mean           NaN             NaN                   NaN               NaN   \n",
       "std            NaN             NaN                   NaN               NaN   \n",
       "min            NaN             NaN                   NaN               NaN   \n",
       "25%            NaN             NaN                   NaN               NaN   \n",
       "50%            NaN             NaN                   NaN               NaN   \n",
       "75%            NaN             NaN                   NaN               NaN   \n",
       "max            NaN             NaN                   NaN               NaN   \n",
       "\n",
       "       okpd2_or_additional_code  \\\n",
       "count                    778901   \n",
       "unique                      657   \n",
       "top                        drug   \n",
       "freq                      65646   \n",
       "mean                        NaN   \n",
       "std                         NaN   \n",
       "min                         NaN   \n",
       "25%                         NaN   \n",
       "50%                         NaN   \n",
       "75%                         NaN   \n",
       "max                         NaN   \n",
       "\n",
       "                                  text_description_tender  \n",
       "count                                              778901  \n",
       "unique                                             713526  \n",
       "top     Бензин автомобильный АИ-92 экологического клас...  \n",
       "freq                                                  304  \n",
       "mean                                                  NaN  \n",
       "std                                                   NaN  \n",
       "min                                                   NaN  \n",
       "25%                                                   NaN  \n",
       "50%                                                   NaN  \n",
       "75%                                                   NaN  \n",
       "max                                                   NaN  "
      ]
     },
     "execution_count": 29,
     "metadata": {},
     "output_type": "execute_result"
    }
   ],
   "source": [
    "train_data.describe(include='all')"
   ]
  },
  {
   "cell_type": "code",
   "execution_count": 36,
   "metadata": {
    "ExecuteTime": {
     "end_time": "2021-02-05T07:03:23.393468Z",
     "start_time": "2021-02-05T07:03:23.337474Z"
    }
   },
   "outputs": [
    {
     "data": {
      "text/plain": [
       "44fz     0.83418\n",
       "223fz    0.16582\n",
       "Name: fz, dtype: float64"
      ]
     },
     "execution_count": 36,
     "metadata": {},
     "output_type": "execute_result"
    }
   ],
   "source": [
    "train_data['fz'].value_counts(normalize=True)"
   ]
  },
  {
   "cell_type": "code",
   "execution_count": 25,
   "metadata": {
    "ExecuteTime": {
     "end_time": "2021-02-05T06:56:03.509652Z",
     "start_time": "2021-02-05T06:56:03.211622Z"
    }
   },
   "outputs": [
    {
     "ename": "KeyError",
     "evalue": "'list_fz'",
     "output_type": "error",
     "traceback": [
      "\u001b[1;31m---------------------------------------------------------------------------\u001b[0m",
      "\u001b[1;31mKeyError\u001b[0m                                  Traceback (most recent call last)",
      "\u001b[1;32mC:\\Anaconda3\\lib\\site-packages\\pandas\\core\\indexes\\base.py\u001b[0m in \u001b[0;36mget_loc\u001b[1;34m(self, key, method, tolerance)\u001b[0m\n\u001b[0;32m   2894\u001b[0m             \u001b[1;32mtry\u001b[0m\u001b[1;33m:\u001b[0m\u001b[1;33m\u001b[0m\u001b[1;33m\u001b[0m\u001b[0m\n\u001b[1;32m-> 2895\u001b[1;33m                 \u001b[1;32mreturn\u001b[0m \u001b[0mself\u001b[0m\u001b[1;33m.\u001b[0m\u001b[0m_engine\u001b[0m\u001b[1;33m.\u001b[0m\u001b[0mget_loc\u001b[0m\u001b[1;33m(\u001b[0m\u001b[0mcasted_key\u001b[0m\u001b[1;33m)\u001b[0m\u001b[1;33m\u001b[0m\u001b[1;33m\u001b[0m\u001b[0m\n\u001b[0m\u001b[0;32m   2896\u001b[0m             \u001b[1;32mexcept\u001b[0m \u001b[0mKeyError\u001b[0m \u001b[1;32mas\u001b[0m \u001b[0merr\u001b[0m\u001b[1;33m:\u001b[0m\u001b[1;33m\u001b[0m\u001b[1;33m\u001b[0m\u001b[0m\n",
      "\u001b[1;32mpandas\\_libs\\index.pyx\u001b[0m in \u001b[0;36mpandas._libs.index.IndexEngine.get_loc\u001b[1;34m()\u001b[0m\n",
      "\u001b[1;32mpandas\\_libs\\index.pyx\u001b[0m in \u001b[0;36mpandas._libs.index.IndexEngine.get_loc\u001b[1;34m()\u001b[0m\n",
      "\u001b[1;32mpandas\\_libs\\hashtable_class_helper.pxi\u001b[0m in \u001b[0;36mpandas._libs.hashtable.PyObjectHashTable.get_item\u001b[1;34m()\u001b[0m\n",
      "\u001b[1;32mpandas\\_libs\\hashtable_class_helper.pxi\u001b[0m in \u001b[0;36mpandas._libs.hashtable.PyObjectHashTable.get_item\u001b[1;34m()\u001b[0m\n",
      "\u001b[1;31mKeyError\u001b[0m: 'list_fz'",
      "\nThe above exception was the direct cause of the following exception:\n",
      "\u001b[1;31mKeyError\u001b[0m                                  Traceback (most recent call last)",
      "\u001b[1;32m<ipython-input-25-c206b196b3a1>\u001b[0m in \u001b[0;36m<module>\u001b[1;34m\u001b[0m\n\u001b[1;32m----> 1\u001b[1;33m \u001b[0mtrain_data\u001b[0m\u001b[1;33m[\u001b[0m\u001b[1;34m'list_fz'\u001b[0m\u001b[1;33m]\u001b[0m\u001b[1;33m.\u001b[0m\u001b[0munique\u001b[0m\u001b[1;33m(\u001b[0m\u001b[1;33m)\u001b[0m\u001b[1;33m\u001b[0m\u001b[1;33m\u001b[0m\u001b[0m\n\u001b[0m",
      "\u001b[1;32mC:\\Anaconda3\\lib\\site-packages\\pandas\\core\\frame.py\u001b[0m in \u001b[0;36m__getitem__\u001b[1;34m(self, key)\u001b[0m\n\u001b[0;32m   2900\u001b[0m             \u001b[1;32mif\u001b[0m \u001b[0mself\u001b[0m\u001b[1;33m.\u001b[0m\u001b[0mcolumns\u001b[0m\u001b[1;33m.\u001b[0m\u001b[0mnlevels\u001b[0m \u001b[1;33m>\u001b[0m \u001b[1;36m1\u001b[0m\u001b[1;33m:\u001b[0m\u001b[1;33m\u001b[0m\u001b[1;33m\u001b[0m\u001b[0m\n\u001b[0;32m   2901\u001b[0m                 \u001b[1;32mreturn\u001b[0m \u001b[0mself\u001b[0m\u001b[1;33m.\u001b[0m\u001b[0m_getitem_multilevel\u001b[0m\u001b[1;33m(\u001b[0m\u001b[0mkey\u001b[0m\u001b[1;33m)\u001b[0m\u001b[1;33m\u001b[0m\u001b[1;33m\u001b[0m\u001b[0m\n\u001b[1;32m-> 2902\u001b[1;33m             \u001b[0mindexer\u001b[0m \u001b[1;33m=\u001b[0m \u001b[0mself\u001b[0m\u001b[1;33m.\u001b[0m\u001b[0mcolumns\u001b[0m\u001b[1;33m.\u001b[0m\u001b[0mget_loc\u001b[0m\u001b[1;33m(\u001b[0m\u001b[0mkey\u001b[0m\u001b[1;33m)\u001b[0m\u001b[1;33m\u001b[0m\u001b[1;33m\u001b[0m\u001b[0m\n\u001b[0m\u001b[0;32m   2903\u001b[0m             \u001b[1;32mif\u001b[0m \u001b[0mis_integer\u001b[0m\u001b[1;33m(\u001b[0m\u001b[0mindexer\u001b[0m\u001b[1;33m)\u001b[0m\u001b[1;33m:\u001b[0m\u001b[1;33m\u001b[0m\u001b[1;33m\u001b[0m\u001b[0m\n\u001b[0;32m   2904\u001b[0m                 \u001b[0mindexer\u001b[0m \u001b[1;33m=\u001b[0m \u001b[1;33m[\u001b[0m\u001b[0mindexer\u001b[0m\u001b[1;33m]\u001b[0m\u001b[1;33m\u001b[0m\u001b[1;33m\u001b[0m\u001b[0m\n",
      "\u001b[1;32mC:\\Anaconda3\\lib\\site-packages\\pandas\\core\\indexes\\base.py\u001b[0m in \u001b[0;36mget_loc\u001b[1;34m(self, key, method, tolerance)\u001b[0m\n\u001b[0;32m   2895\u001b[0m                 \u001b[1;32mreturn\u001b[0m \u001b[0mself\u001b[0m\u001b[1;33m.\u001b[0m\u001b[0m_engine\u001b[0m\u001b[1;33m.\u001b[0m\u001b[0mget_loc\u001b[0m\u001b[1;33m(\u001b[0m\u001b[0mcasted_key\u001b[0m\u001b[1;33m)\u001b[0m\u001b[1;33m\u001b[0m\u001b[1;33m\u001b[0m\u001b[0m\n\u001b[0;32m   2896\u001b[0m             \u001b[1;32mexcept\u001b[0m \u001b[0mKeyError\u001b[0m \u001b[1;32mas\u001b[0m \u001b[0merr\u001b[0m\u001b[1;33m:\u001b[0m\u001b[1;33m\u001b[0m\u001b[1;33m\u001b[0m\u001b[0m\n\u001b[1;32m-> 2897\u001b[1;33m                 \u001b[1;32mraise\u001b[0m \u001b[0mKeyError\u001b[0m\u001b[1;33m(\u001b[0m\u001b[0mkey\u001b[0m\u001b[1;33m)\u001b[0m \u001b[1;32mfrom\u001b[0m \u001b[0merr\u001b[0m\u001b[1;33m\u001b[0m\u001b[1;33m\u001b[0m\u001b[0m\n\u001b[0m\u001b[0;32m   2898\u001b[0m \u001b[1;33m\u001b[0m\u001b[0m\n\u001b[0;32m   2899\u001b[0m         \u001b[1;32mif\u001b[0m \u001b[0mtolerance\u001b[0m \u001b[1;32mis\u001b[0m \u001b[1;32mnot\u001b[0m \u001b[1;32mNone\u001b[0m\u001b[1;33m:\u001b[0m\u001b[1;33m\u001b[0m\u001b[1;33m\u001b[0m\u001b[0m\n",
      "\u001b[1;31mKeyError\u001b[0m: 'list_fz'"
     ]
    }
   ],
   "source": [
    "train_data['list_fz'].unique()"
   ]
  },
  {
   "cell_type": "code",
   "execution_count": null,
   "metadata": {},
   "outputs": [],
   "source": []
  },
  {
   "cell_type": "markdown",
   "metadata": {},
   "source": [
    "#### Рекомендательная система"
   ]
  },
  {
   "cell_type": "markdown",
   "metadata": {},
   "source": [
    "Выбирается 35 случайный процедур из подвыборки с совпадением региона и ОКПД2 кода актуальной процедуры с регионами и ОКПД2 кодами из истории участия поставщика"
   ]
  },
  {
   "cell_type": "code",
   "execution_count": 14,
   "metadata": {
    "ExecuteTime": {
     "end_time": "2021-02-05T06:36:34.898798Z",
     "start_time": "2021-02-05T06:35:32.555780Z"
    },
    "scrolled": true
   },
   "outputs": [
    {
     "data": {
      "application/vnd.jupyter.widget-view+json": {
       "model_id": "95c550f391cf4b71995193a91ea8d968",
       "version_major": 2,
       "version_minor": 0
      },
      "text/plain": [
       "HBox(children=(HTML(value=''), FloatProgress(value=0.0, max=16499.0), HTML(value='')))"
      ]
     },
     "metadata": {},
     "output_type": "display_data"
    },
    {
     "name": "stdout",
     "output_type": "stream",
     "text": [
      "\n"
     ]
    }
   ],
   "source": [
    "inn_kpp_recommendation = []\n",
    "similarity_score = 1\n",
    "for inn_kpp in tqdm_notebook(inn_kpp_history.values):\n",
    "    participant_inn_kpp_anon, list_participant_inn_kpp_anon, list_is_winner, list_fz, list_region_code, list_okpd2_or_additional_code = inn_kpp\n",
    "    # подвыборка с совпадением региона и ОКПД2 кода актуальной с историей поставщика\n",
    "    recommendation = test_data[test_data['region_code'].isin(\n",
    "        list_region_code) & test_data['okpd2_or_additional_code'].isin(list_okpd2_or_additional_code)]\n",
    "    if recommendation.shape[0] >= 35:\n",
    "        # выбор 35 случайных актуальных процедур из подвыборки\n",
    "        recommendation = recommendation.sample(35)['pn_lot_anon'].values\n",
    "        for actual_pn_lot in recommendation:\n",
    "            inn_kpp_recommendation.append(\n",
    "                [participant_inn_kpp_anon, actual_pn_lot, similarity_score])"
   ]
  },
  {
   "cell_type": "markdown",
   "metadata": {},
   "source": [
    "#### Пример формирования файла рекомендаций"
   ]
  },
  {
   "cell_type": "code",
   "execution_count": null,
   "metadata": {},
   "outputs": [],
   "source": [
    "recommendation = pd.DataFrame(inn_kpp_recommendation, columns=['inn_kpp', 'actual_recommended_pn_lot', 'similarity_score'])\n",
    "recommendation.to_csv(\"TushkanProphets.csv\", index=False, sep=';')"
   ]
  },
  {
   "cell_type": "code",
   "execution_count": null,
   "metadata": {},
   "outputs": [],
   "source": [
    "recommendation"
   ]
  },
  {
   "cell_type": "markdown",
   "metadata": {},
   "source": [
    "# Подсчёт метрик"
   ]
  },
  {
   "cell_type": "code",
   "execution_count": null,
   "metadata": {},
   "outputs": [],
   "source": [
    "test_labels = pd.read_csv(\"ваша тестирующая выборка\", sep=';')"
   ]
  },
  {
   "cell_type": "code",
   "execution_count": null,
   "metadata": {},
   "outputs": [],
   "source": [
    "true = set((test_labels['pn_lot_anon'] + \"_\" + test_labels['participant_inn_kpp_anon']).values)"
   ]
  },
  {
   "cell_type": "code",
   "execution_count": null,
   "metadata": {},
   "outputs": [],
   "source": [
    "pred = set((recommendation['actual_recommended_pn_lot'] + \"_\" + recommendation['inn_kpp']).values)"
   ]
  },
  {
   "cell_type": "code",
   "execution_count": null,
   "metadata": {},
   "outputs": [],
   "source": [
    "intersection = len(true.intersection(pred))"
   ]
  },
  {
   "cell_type": "code",
   "execution_count": null,
   "metadata": {},
   "outputs": [],
   "source": [
    "print(f\"Точность: {intersection / len(pred) * 100}\")\n",
    "print(f\"Полнота: {intersection / len(true) * 100}\")"
   ]
  }
 ],
 "metadata": {
  "hide_input": false,
  "kernelspec": {
   "display_name": "Python 3",
   "language": "python",
   "name": "python3"
  },
  "language_info": {
   "codemirror_mode": {
    "name": "ipython",
    "version": 3
   },
   "file_extension": ".py",
   "mimetype": "text/x-python",
   "name": "python",
   "nbconvert_exporter": "python",
   "pygments_lexer": "ipython3",
   "version": "3.8.3"
  },
  "latex_envs": {
   "LaTeX_envs_menu_present": true,
   "autoclose": false,
   "autocomplete": true,
   "bibliofile": "biblio.bib",
   "cite_by": "apalike",
   "current_citInitial": 1,
   "eqLabelWithNumbers": true,
   "eqNumInitial": 1,
   "hotkeys": {
    "equation": "Ctrl-E",
    "itemize": "Ctrl-I"
   },
   "labels_anchors": false,
   "latex_user_defs": false,
   "report_style_numbering": false,
   "user_envs_cfg": false
  },
  "nbTranslate": {
   "displayLangs": [
    "*"
   ],
   "hotkey": "alt-t",
   "langInMainMenu": true,
   "sourceLang": "en",
   "targetLang": "fr",
   "useGoogleTranslate": true
  },
  "toc": {
   "base_numbering": 1,
   "nav_menu": {},
   "number_sections": true,
   "sideBar": true,
   "skip_h1_title": false,
   "title_cell": "Table of Contents",
   "title_sidebar": "Contents",
   "toc_cell": false,
   "toc_position": {},
   "toc_section_display": true,
   "toc_window_display": false
  },
  "varInspector": {
   "cols": {
    "lenName": 16,
    "lenType": 16,
    "lenVar": 40
   },
   "kernels_config": {
    "python": {
     "delete_cmd_postfix": "",
     "delete_cmd_prefix": "del ",
     "library": "var_list.py",
     "varRefreshCmd": "print(var_dic_list())"
    },
    "r": {
     "delete_cmd_postfix": ") ",
     "delete_cmd_prefix": "rm(",
     "library": "var_list.r",
     "varRefreshCmd": "cat(var_dic_list()) "
    }
   },
   "types_to_exclude": [
    "module",
    "function",
    "builtin_function_or_method",
    "instance",
    "_Feature"
   ],
   "window_display": false
  }
 },
 "nbformat": 4,
 "nbformat_minor": 4
}
