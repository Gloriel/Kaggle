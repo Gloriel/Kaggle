{
 "cells": [
  {
   "cell_type": "markdown",
   "metadata": {},
   "source": [
    "## Load the dataset"
   ]
  },
  {
   "cell_type": "code",
   "execution_count": 1,
   "metadata": {
    "ExecuteTime": {
     "end_time": "2021-02-03T05:42:50.204368Z",
     "start_time": "2021-02-03T05:42:47.657213Z"
    }
   },
   "outputs": [],
   "source": [
    "import numpy as np\n",
    "import pandas as pd\n",
    "\n",
    "import missingno\n",
    "import matplotlib.pyplot as plt\n",
    "import matplotlib as mpl\n",
    "import seaborn as sns\n",
    "import plotly.graph_objects as go\n",
    "import plotly.express as px\n",
    "\n",
    "import scipy as sp\n",
    "from scipy.stats import skew\n",
    "\n",
    "import warnings\n",
    "warnings.filterwarnings(\"ignore\")"
   ]
  },
  {
   "cell_type": "code",
   "execution_count": 8,
   "metadata": {
    "ExecuteTime": {
     "end_time": "2021-02-03T05:48:08.657803Z",
     "start_time": "2021-02-03T05:48:08.633798Z"
    }
   },
   "outputs": [],
   "source": [
    "df = pd.read_csv(\"train.csv\")"
   ]
  },
  {
   "cell_type": "code",
   "execution_count": 9,
   "metadata": {
    "ExecuteTime": {
     "end_time": "2021-02-03T05:48:14.695705Z",
     "start_time": "2021-02-03T05:48:14.648743Z"
    }
   },
   "outputs": [
    {
     "name": "stdout",
     "output_type": "stream",
     "text": [
      "<class 'pandas.core.frame.DataFrame'>\n",
      "RangeIndex: 1460 entries, 0 to 1459\n",
      "Data columns (total 81 columns):\n",
      " #   Column         Non-Null Count  Dtype  \n",
      "---  ------         --------------  -----  \n",
      " 0   Id             1460 non-null   int64  \n",
      " 1   MSSubClass     1460 non-null   int64  \n",
      " 2   MSZoning       1460 non-null   object \n",
      " 3   LotFrontage    1201 non-null   float64\n",
      " 4   LotArea        1460 non-null   int64  \n",
      " 5   Street         1460 non-null   object \n",
      " 6   Alley          91 non-null     object \n",
      " 7   LotShape       1460 non-null   object \n",
      " 8   LandContour    1460 non-null   object \n",
      " 9   Utilities      1460 non-null   object \n",
      " 10  LotConfig      1460 non-null   object \n",
      " 11  LandSlope      1460 non-null   object \n",
      " 12  Neighborhood   1460 non-null   object \n",
      " 13  Condition1     1460 non-null   object \n",
      " 14  Condition2     1460 non-null   object \n",
      " 15  BldgType       1460 non-null   object \n",
      " 16  HouseStyle     1460 non-null   object \n",
      " 17  OverallQual    1460 non-null   int64  \n",
      " 18  OverallCond    1460 non-null   int64  \n",
      " 19  YearBuilt      1460 non-null   int64  \n",
      " 20  YearRemodAdd   1460 non-null   int64  \n",
      " 21  RoofStyle      1460 non-null   object \n",
      " 22  RoofMatl       1460 non-null   object \n",
      " 23  Exterior1st    1460 non-null   object \n",
      " 24  Exterior2nd    1460 non-null   object \n",
      " 25  MasVnrType     1452 non-null   object \n",
      " 26  MasVnrArea     1452 non-null   float64\n",
      " 27  ExterQual      1460 non-null   object \n",
      " 28  ExterCond      1460 non-null   object \n",
      " 29  Foundation     1460 non-null   object \n",
      " 30  BsmtQual       1423 non-null   object \n",
      " 31  BsmtCond       1423 non-null   object \n",
      " 32  BsmtExposure   1422 non-null   object \n",
      " 33  BsmtFinType1   1423 non-null   object \n",
      " 34  BsmtFinSF1     1460 non-null   int64  \n",
      " 35  BsmtFinType2   1422 non-null   object \n",
      " 36  BsmtFinSF2     1460 non-null   int64  \n",
      " 37  BsmtUnfSF      1460 non-null   int64  \n",
      " 38  TotalBsmtSF    1460 non-null   int64  \n",
      " 39  Heating        1460 non-null   object \n",
      " 40  HeatingQC      1460 non-null   object \n",
      " 41  CentralAir     1460 non-null   object \n",
      " 42  Electrical     1459 non-null   object \n",
      " 43  1stFlrSF       1460 non-null   int64  \n",
      " 44  2ndFlrSF       1460 non-null   int64  \n",
      " 45  LowQualFinSF   1460 non-null   int64  \n",
      " 46  GrLivArea      1460 non-null   int64  \n",
      " 47  BsmtFullBath   1460 non-null   int64  \n",
      " 48  BsmtHalfBath   1460 non-null   int64  \n",
      " 49  FullBath       1460 non-null   int64  \n",
      " 50  HalfBath       1460 non-null   int64  \n",
      " 51  BedroomAbvGr   1460 non-null   int64  \n",
      " 52  KitchenAbvGr   1460 non-null   int64  \n",
      " 53  KitchenQual    1460 non-null   object \n",
      " 54  TotRmsAbvGrd   1460 non-null   int64  \n",
      " 55  Functional     1460 non-null   object \n",
      " 56  Fireplaces     1460 non-null   int64  \n",
      " 57  FireplaceQu    770 non-null    object \n",
      " 58  GarageType     1379 non-null   object \n",
      " 59  GarageYrBlt    1379 non-null   float64\n",
      " 60  GarageFinish   1379 non-null   object \n",
      " 61  GarageCars     1460 non-null   int64  \n",
      " 62  GarageArea     1460 non-null   int64  \n",
      " 63  GarageQual     1379 non-null   object \n",
      " 64  GarageCond     1379 non-null   object \n",
      " 65  PavedDrive     1460 non-null   object \n",
      " 66  WoodDeckSF     1460 non-null   int64  \n",
      " 67  OpenPorchSF    1460 non-null   int64  \n",
      " 68  EnclosedPorch  1460 non-null   int64  \n",
      " 69  3SsnPorch      1460 non-null   int64  \n",
      " 70  ScreenPorch    1460 non-null   int64  \n",
      " 71  PoolArea       1460 non-null   int64  \n",
      " 72  PoolQC         7 non-null      object \n",
      " 73  Fence          281 non-null    object \n",
      " 74  MiscFeature    54 non-null     object \n",
      " 75  MiscVal        1460 non-null   int64  \n",
      " 76  MoSold         1460 non-null   int64  \n",
      " 77  YrSold         1460 non-null   int64  \n",
      " 78  SaleType       1460 non-null   object \n",
      " 79  SaleCondition  1460 non-null   object \n",
      " 80  SalePrice      1460 non-null   int64  \n",
      "dtypes: float64(3), int64(35), object(43)\n",
      "memory usage: 924.0+ KB\n"
     ]
    }
   ],
   "source": [
    "df.info()"
   ]
  },
  {
   "cell_type": "code",
   "execution_count": 10,
   "metadata": {
    "ExecuteTime": {
     "end_time": "2021-02-03T05:48:22.554556Z",
     "start_time": "2021-02-03T05:48:22.541554Z"
    }
   },
   "outputs": [
    {
     "data": {
      "text/plain": [
       "1460"
      ]
     },
     "execution_count": 10,
     "metadata": {},
     "output_type": "execute_result"
    }
   ],
   "source": [
    "len(df)"
   ]
  },
  {
   "cell_type": "code",
   "execution_count": 11,
   "metadata": {
    "ExecuteTime": {
     "end_time": "2021-02-03T05:48:30.951383Z",
     "start_time": "2021-02-03T05:48:30.869415Z"
    }
   },
   "outputs": [
    {
     "data": {
      "text/html": [
       "<div>\n",
       "<style scoped>\n",
       "    .dataframe tbody tr th:only-of-type {\n",
       "        vertical-align: middle;\n",
       "    }\n",
       "\n",
       "    .dataframe tbody tr th {\n",
       "        vertical-align: top;\n",
       "    }\n",
       "\n",
       "    .dataframe thead th {\n",
       "        text-align: right;\n",
       "    }\n",
       "</style>\n",
       "<table border=\"1\" class=\"dataframe\">\n",
       "  <thead>\n",
       "    <tr style=\"text-align: right;\">\n",
       "      <th></th>\n",
       "      <th>Id</th>\n",
       "      <th>MSSubClass</th>\n",
       "      <th>MSZoning</th>\n",
       "      <th>LotFrontage</th>\n",
       "      <th>LotArea</th>\n",
       "      <th>Street</th>\n",
       "      <th>Alley</th>\n",
       "      <th>LotShape</th>\n",
       "      <th>LandContour</th>\n",
       "      <th>Utilities</th>\n",
       "      <th>...</th>\n",
       "      <th>PoolArea</th>\n",
       "      <th>PoolQC</th>\n",
       "      <th>Fence</th>\n",
       "      <th>MiscFeature</th>\n",
       "      <th>MiscVal</th>\n",
       "      <th>MoSold</th>\n",
       "      <th>YrSold</th>\n",
       "      <th>SaleType</th>\n",
       "      <th>SaleCondition</th>\n",
       "      <th>SalePrice</th>\n",
       "    </tr>\n",
       "  </thead>\n",
       "  <tbody>\n",
       "  </tbody>\n",
       "</table>\n",
       "<p>0 rows × 81 columns</p>\n",
       "</div>"
      ],
      "text/plain": [
       "Empty DataFrame\n",
       "Columns: [Id, MSSubClass, MSZoning, LotFrontage, LotArea, Street, Alley, LotShape, LandContour, Utilities, LotConfig, LandSlope, Neighborhood, Condition1, Condition2, BldgType, HouseStyle, OverallQual, OverallCond, YearBuilt, YearRemodAdd, RoofStyle, RoofMatl, Exterior1st, Exterior2nd, MasVnrType, MasVnrArea, ExterQual, ExterCond, Foundation, BsmtQual, BsmtCond, BsmtExposure, BsmtFinType1, BsmtFinSF1, BsmtFinType2, BsmtFinSF2, BsmtUnfSF, TotalBsmtSF, Heating, HeatingQC, CentralAir, Electrical, 1stFlrSF, 2ndFlrSF, LowQualFinSF, GrLivArea, BsmtFullBath, BsmtHalfBath, FullBath, HalfBath, BedroomAbvGr, KitchenAbvGr, KitchenQual, TotRmsAbvGrd, Functional, Fireplaces, FireplaceQu, GarageType, GarageYrBlt, GarageFinish, GarageCars, GarageArea, GarageQual, GarageCond, PavedDrive, WoodDeckSF, OpenPorchSF, EnclosedPorch, 3SsnPorch, ScreenPorch, PoolArea, PoolQC, Fence, MiscFeature, MiscVal, MoSold, YrSold, SaleType, SaleCondition, SalePrice]\n",
       "Index: []\n",
       "\n",
       "[0 rows x 81 columns]"
      ]
     },
     "execution_count": 11,
     "metadata": {},
     "output_type": "execute_result"
    }
   ],
   "source": [
    "df[df.duplicated()]"
   ]
  },
  {
   "cell_type": "code",
   "execution_count": 12,
   "metadata": {
    "ExecuteTime": {
     "end_time": "2021-02-03T05:48:33.717851Z",
     "start_time": "2021-02-03T05:48:33.707823Z"
    }
   },
   "outputs": [
    {
     "name": "stdout",
     "output_type": "stream",
     "text": [
      "LotFrontage     17.739726\n",
      "Alley           93.767123\n",
      "MasVnrType       0.547945\n",
      "MasVnrArea       0.547945\n",
      "BsmtQual         2.534247\n",
      "BsmtCond         2.534247\n",
      "BsmtExposure     2.602740\n",
      "BsmtFinType1     2.534247\n",
      "BsmtFinType2     2.602740\n",
      "Electrical       0.068493\n",
      "FireplaceQu     47.260274\n",
      "GarageType       5.547945\n",
      "GarageYrBlt      5.547945\n",
      "GarageFinish     5.547945\n",
      "GarageQual       5.547945\n",
      "GarageCond       5.547945\n",
      "PoolQC          99.520548\n",
      "Fence           80.753425\n",
      "MiscFeature     96.301370\n",
      "dtype: float64\n"
     ]
    }
   ],
   "source": [
    "print(100 * (df.isna().sum()[df.isna().sum() > 0] / len(df)))"
   ]
  },
  {
   "cell_type": "code",
   "execution_count": 13,
   "metadata": {
    "ExecuteTime": {
     "end_time": "2021-02-03T05:55:05.046097Z",
     "start_time": "2021-02-03T05:55:04.932127Z"
    }
   },
   "outputs": [
    {
     "data": {
      "text/html": [
       "<div>\n",
       "<style scoped>\n",
       "    .dataframe tbody tr th:only-of-type {\n",
       "        vertical-align: middle;\n",
       "    }\n",
       "\n",
       "    .dataframe tbody tr th {\n",
       "        vertical-align: top;\n",
       "    }\n",
       "\n",
       "    .dataframe thead th {\n",
       "        text-align: right;\n",
       "    }\n",
       "</style>\n",
       "<table border=\"1\" class=\"dataframe\">\n",
       "  <thead>\n",
       "    <tr style=\"text-align: right;\">\n",
       "      <th></th>\n",
       "      <th>Id</th>\n",
       "      <th>MSSubClass</th>\n",
       "      <th>MSZoning</th>\n",
       "      <th>LotFrontage</th>\n",
       "      <th>LotArea</th>\n",
       "      <th>Street</th>\n",
       "      <th>Alley</th>\n",
       "      <th>LotShape</th>\n",
       "      <th>LandContour</th>\n",
       "      <th>Utilities</th>\n",
       "      <th>...</th>\n",
       "      <th>ScreenPorch</th>\n",
       "      <th>PoolArea</th>\n",
       "      <th>PoolQC</th>\n",
       "      <th>Fence</th>\n",
       "      <th>MiscFeature</th>\n",
       "      <th>MiscVal</th>\n",
       "      <th>MoSold</th>\n",
       "      <th>YrSold</th>\n",
       "      <th>SaleType</th>\n",
       "      <th>SaleCondition</th>\n",
       "    </tr>\n",
       "  </thead>\n",
       "  <tbody>\n",
       "    <tr>\n",
       "      <th>0</th>\n",
       "      <td>1461</td>\n",
       "      <td>20</td>\n",
       "      <td>RH</td>\n",
       "      <td>80.0</td>\n",
       "      <td>11622</td>\n",
       "      <td>Pave</td>\n",
       "      <td>NaN</td>\n",
       "      <td>Reg</td>\n",
       "      <td>Lvl</td>\n",
       "      <td>AllPub</td>\n",
       "      <td>...</td>\n",
       "      <td>120</td>\n",
       "      <td>0</td>\n",
       "      <td>NaN</td>\n",
       "      <td>MnPrv</td>\n",
       "      <td>NaN</td>\n",
       "      <td>0</td>\n",
       "      <td>6</td>\n",
       "      <td>2010</td>\n",
       "      <td>WD</td>\n",
       "      <td>Normal</td>\n",
       "    </tr>\n",
       "    <tr>\n",
       "      <th>1</th>\n",
       "      <td>1462</td>\n",
       "      <td>20</td>\n",
       "      <td>RL</td>\n",
       "      <td>81.0</td>\n",
       "      <td>14267</td>\n",
       "      <td>Pave</td>\n",
       "      <td>NaN</td>\n",
       "      <td>IR1</td>\n",
       "      <td>Lvl</td>\n",
       "      <td>AllPub</td>\n",
       "      <td>...</td>\n",
       "      <td>0</td>\n",
       "      <td>0</td>\n",
       "      <td>NaN</td>\n",
       "      <td>NaN</td>\n",
       "      <td>Gar2</td>\n",
       "      <td>12500</td>\n",
       "      <td>6</td>\n",
       "      <td>2010</td>\n",
       "      <td>WD</td>\n",
       "      <td>Normal</td>\n",
       "    </tr>\n",
       "    <tr>\n",
       "      <th>2</th>\n",
       "      <td>1463</td>\n",
       "      <td>60</td>\n",
       "      <td>RL</td>\n",
       "      <td>74.0</td>\n",
       "      <td>13830</td>\n",
       "      <td>Pave</td>\n",
       "      <td>NaN</td>\n",
       "      <td>IR1</td>\n",
       "      <td>Lvl</td>\n",
       "      <td>AllPub</td>\n",
       "      <td>...</td>\n",
       "      <td>0</td>\n",
       "      <td>0</td>\n",
       "      <td>NaN</td>\n",
       "      <td>MnPrv</td>\n",
       "      <td>NaN</td>\n",
       "      <td>0</td>\n",
       "      <td>3</td>\n",
       "      <td>2010</td>\n",
       "      <td>WD</td>\n",
       "      <td>Normal</td>\n",
       "    </tr>\n",
       "    <tr>\n",
       "      <th>3</th>\n",
       "      <td>1464</td>\n",
       "      <td>60</td>\n",
       "      <td>RL</td>\n",
       "      <td>78.0</td>\n",
       "      <td>9978</td>\n",
       "      <td>Pave</td>\n",
       "      <td>NaN</td>\n",
       "      <td>IR1</td>\n",
       "      <td>Lvl</td>\n",
       "      <td>AllPub</td>\n",
       "      <td>...</td>\n",
       "      <td>0</td>\n",
       "      <td>0</td>\n",
       "      <td>NaN</td>\n",
       "      <td>NaN</td>\n",
       "      <td>NaN</td>\n",
       "      <td>0</td>\n",
       "      <td>6</td>\n",
       "      <td>2010</td>\n",
       "      <td>WD</td>\n",
       "      <td>Normal</td>\n",
       "    </tr>\n",
       "    <tr>\n",
       "      <th>4</th>\n",
       "      <td>1465</td>\n",
       "      <td>120</td>\n",
       "      <td>RL</td>\n",
       "      <td>43.0</td>\n",
       "      <td>5005</td>\n",
       "      <td>Pave</td>\n",
       "      <td>NaN</td>\n",
       "      <td>IR1</td>\n",
       "      <td>HLS</td>\n",
       "      <td>AllPub</td>\n",
       "      <td>...</td>\n",
       "      <td>144</td>\n",
       "      <td>0</td>\n",
       "      <td>NaN</td>\n",
       "      <td>NaN</td>\n",
       "      <td>NaN</td>\n",
       "      <td>0</td>\n",
       "      <td>1</td>\n",
       "      <td>2010</td>\n",
       "      <td>WD</td>\n",
       "      <td>Normal</td>\n",
       "    </tr>\n",
       "  </tbody>\n",
       "</table>\n",
       "<p>5 rows × 80 columns</p>\n",
       "</div>"
      ],
      "text/plain": [
       "     Id  MSSubClass MSZoning  LotFrontage  LotArea Street Alley LotShape  \\\n",
       "0  1461          20       RH         80.0    11622   Pave   NaN      Reg   \n",
       "1  1462          20       RL         81.0    14267   Pave   NaN      IR1   \n",
       "2  1463          60       RL         74.0    13830   Pave   NaN      IR1   \n",
       "3  1464          60       RL         78.0     9978   Pave   NaN      IR1   \n",
       "4  1465         120       RL         43.0     5005   Pave   NaN      IR1   \n",
       "\n",
       "  LandContour Utilities  ... ScreenPorch PoolArea PoolQC  Fence MiscFeature  \\\n",
       "0         Lvl    AllPub  ...         120        0    NaN  MnPrv         NaN   \n",
       "1         Lvl    AllPub  ...           0        0    NaN    NaN        Gar2   \n",
       "2         Lvl    AllPub  ...           0        0    NaN  MnPrv         NaN   \n",
       "3         Lvl    AllPub  ...           0        0    NaN    NaN         NaN   \n",
       "4         HLS    AllPub  ...         144        0    NaN    NaN         NaN   \n",
       "\n",
       "  MiscVal MoSold  YrSold  SaleType  SaleCondition  \n",
       "0       0      6    2010        WD         Normal  \n",
       "1   12500      6    2010        WD         Normal  \n",
       "2       0      3    2010        WD         Normal  \n",
       "3       0      6    2010        WD         Normal  \n",
       "4       0      1    2010        WD         Normal  \n",
       "\n",
       "[5 rows x 80 columns]"
      ]
     },
     "execution_count": 13,
     "metadata": {},
     "output_type": "execute_result"
    }
   ],
   "source": [
    "# Load the test dataset\n",
    "test_df = pd.read_csv(\"test.csv\")\n",
    "test_df.head()"
   ]
  },
  {
   "cell_type": "code",
   "execution_count": 16,
   "metadata": {
    "ExecuteTime": {
     "end_time": "2021-02-03T05:55:16.112149Z",
     "start_time": "2021-02-03T05:55:16.062131Z"
    }
   },
   "outputs": [
    {
     "name": "stdout",
     "output_type": "stream",
     "text": [
      "<class 'pandas.core.frame.DataFrame'>\n",
      "RangeIndex: 1459 entries, 0 to 1458\n",
      "Data columns (total 80 columns):\n",
      " #   Column         Non-Null Count  Dtype  \n",
      "---  ------         --------------  -----  \n",
      " 0   Id             1459 non-null   int64  \n",
      " 1   MSSubClass     1459 non-null   int64  \n",
      " 2   MSZoning       1455 non-null   object \n",
      " 3   LotFrontage    1232 non-null   float64\n",
      " 4   LotArea        1459 non-null   int64  \n",
      " 5   Street         1459 non-null   object \n",
      " 6   Alley          107 non-null    object \n",
      " 7   LotShape       1459 non-null   object \n",
      " 8   LandContour    1459 non-null   object \n",
      " 9   Utilities      1457 non-null   object \n",
      " 10  LotConfig      1459 non-null   object \n",
      " 11  LandSlope      1459 non-null   object \n",
      " 12  Neighborhood   1459 non-null   object \n",
      " 13  Condition1     1459 non-null   object \n",
      " 14  Condition2     1459 non-null   object \n",
      " 15  BldgType       1459 non-null   object \n",
      " 16  HouseStyle     1459 non-null   object \n",
      " 17  OverallQual    1459 non-null   int64  \n",
      " 18  OverallCond    1459 non-null   int64  \n",
      " 19  YearBuilt      1459 non-null   int64  \n",
      " 20  YearRemodAdd   1459 non-null   int64  \n",
      " 21  RoofStyle      1459 non-null   object \n",
      " 22  RoofMatl       1459 non-null   object \n",
      " 23  Exterior1st    1458 non-null   object \n",
      " 24  Exterior2nd    1458 non-null   object \n",
      " 25  MasVnrType     1443 non-null   object \n",
      " 26  MasVnrArea     1444 non-null   float64\n",
      " 27  ExterQual      1459 non-null   object \n",
      " 28  ExterCond      1459 non-null   object \n",
      " 29  Foundation     1459 non-null   object \n",
      " 30  BsmtQual       1415 non-null   object \n",
      " 31  BsmtCond       1414 non-null   object \n",
      " 32  BsmtExposure   1415 non-null   object \n",
      " 33  BsmtFinType1   1417 non-null   object \n",
      " 34  BsmtFinSF1     1458 non-null   float64\n",
      " 35  BsmtFinType2   1417 non-null   object \n",
      " 36  BsmtFinSF2     1458 non-null   float64\n",
      " 37  BsmtUnfSF      1458 non-null   float64\n",
      " 38  TotalBsmtSF    1458 non-null   float64\n",
      " 39  Heating        1459 non-null   object \n",
      " 40  HeatingQC      1459 non-null   object \n",
      " 41  CentralAir     1459 non-null   object \n",
      " 42  Electrical     1459 non-null   object \n",
      " 43  1stFlrSF       1459 non-null   int64  \n",
      " 44  2ndFlrSF       1459 non-null   int64  \n",
      " 45  LowQualFinSF   1459 non-null   int64  \n",
      " 46  GrLivArea      1459 non-null   int64  \n",
      " 47  BsmtFullBath   1457 non-null   float64\n",
      " 48  BsmtHalfBath   1457 non-null   float64\n",
      " 49  FullBath       1459 non-null   int64  \n",
      " 50  HalfBath       1459 non-null   int64  \n",
      " 51  BedroomAbvGr   1459 non-null   int64  \n",
      " 52  KitchenAbvGr   1459 non-null   int64  \n",
      " 53  KitchenQual    1458 non-null   object \n",
      " 54  TotRmsAbvGrd   1459 non-null   int64  \n",
      " 55  Functional     1457 non-null   object \n",
      " 56  Fireplaces     1459 non-null   int64  \n",
      " 57  FireplaceQu    729 non-null    object \n",
      " 58  GarageType     1383 non-null   object \n",
      " 59  GarageYrBlt    1381 non-null   float64\n",
      " 60  GarageFinish   1381 non-null   object \n",
      " 61  GarageCars     1458 non-null   float64\n",
      " 62  GarageArea     1458 non-null   float64\n",
      " 63  GarageQual     1381 non-null   object \n",
      " 64  GarageCond     1381 non-null   object \n",
      " 65  PavedDrive     1459 non-null   object \n",
      " 66  WoodDeckSF     1459 non-null   int64  \n",
      " 67  OpenPorchSF    1459 non-null   int64  \n",
      " 68  EnclosedPorch  1459 non-null   int64  \n",
      " 69  3SsnPorch      1459 non-null   int64  \n",
      " 70  ScreenPorch    1459 non-null   int64  \n",
      " 71  PoolArea       1459 non-null   int64  \n",
      " 72  PoolQC         3 non-null      object \n",
      " 73  Fence          290 non-null    object \n",
      " 74  MiscFeature    51 non-null     object \n",
      " 75  MiscVal        1459 non-null   int64  \n",
      " 76  MoSold         1459 non-null   int64  \n",
      " 77  YrSold         1459 non-null   int64  \n",
      " 78  SaleType       1458 non-null   object \n",
      " 79  SaleCondition  1459 non-null   object \n",
      "dtypes: float64(11), int64(26), object(43)\n",
      "memory usage: 912.0+ KB\n"
     ]
    }
   ],
   "source": [
    "test_df.info()"
   ]
  },
  {
   "cell_type": "code",
   "execution_count": 15,
   "metadata": {
    "ExecuteTime": {
     "end_time": "2021-02-03T05:55:09.767326Z",
     "start_time": "2021-02-03T05:55:09.731349Z"
    }
   },
   "outputs": [
    {
     "data": {
      "text/html": [
       "<div>\n",
       "<style scoped>\n",
       "    .dataframe tbody tr th:only-of-type {\n",
       "        vertical-align: middle;\n",
       "    }\n",
       "\n",
       "    .dataframe tbody tr th {\n",
       "        vertical-align: top;\n",
       "    }\n",
       "\n",
       "    .dataframe thead th {\n",
       "        text-align: right;\n",
       "    }\n",
       "</style>\n",
       "<table border=\"1\" class=\"dataframe\">\n",
       "  <thead>\n",
       "    <tr style=\"text-align: right;\">\n",
       "      <th></th>\n",
       "      <th>Id</th>\n",
       "      <th>MSSubClass</th>\n",
       "      <th>MSZoning</th>\n",
       "      <th>LotFrontage</th>\n",
       "      <th>LotArea</th>\n",
       "      <th>Street</th>\n",
       "      <th>Alley</th>\n",
       "      <th>LotShape</th>\n",
       "      <th>LandContour</th>\n",
       "      <th>Utilities</th>\n",
       "      <th>...</th>\n",
       "      <th>ScreenPorch</th>\n",
       "      <th>PoolArea</th>\n",
       "      <th>PoolQC</th>\n",
       "      <th>Fence</th>\n",
       "      <th>MiscFeature</th>\n",
       "      <th>MiscVal</th>\n",
       "      <th>MoSold</th>\n",
       "      <th>YrSold</th>\n",
       "      <th>SaleType</th>\n",
       "      <th>SaleCondition</th>\n",
       "    </tr>\n",
       "  </thead>\n",
       "  <tbody>\n",
       "  </tbody>\n",
       "</table>\n",
       "<p>0 rows × 80 columns</p>\n",
       "</div>"
      ],
      "text/plain": [
       "Empty DataFrame\n",
       "Columns: [Id, MSSubClass, MSZoning, LotFrontage, LotArea, Street, Alley, LotShape, LandContour, Utilities, LotConfig, LandSlope, Neighborhood, Condition1, Condition2, BldgType, HouseStyle, OverallQual, OverallCond, YearBuilt, YearRemodAdd, RoofStyle, RoofMatl, Exterior1st, Exterior2nd, MasVnrType, MasVnrArea, ExterQual, ExterCond, Foundation, BsmtQual, BsmtCond, BsmtExposure, BsmtFinType1, BsmtFinSF1, BsmtFinType2, BsmtFinSF2, BsmtUnfSF, TotalBsmtSF, Heating, HeatingQC, CentralAir, Electrical, 1stFlrSF, 2ndFlrSF, LowQualFinSF, GrLivArea, BsmtFullBath, BsmtHalfBath, FullBath, HalfBath, BedroomAbvGr, KitchenAbvGr, KitchenQual, TotRmsAbvGrd, Functional, Fireplaces, FireplaceQu, GarageType, GarageYrBlt, GarageFinish, GarageCars, GarageArea, GarageQual, GarageCond, PavedDrive, WoodDeckSF, OpenPorchSF, EnclosedPorch, 3SsnPorch, ScreenPorch, PoolArea, PoolQC, Fence, MiscFeature, MiscVal, MoSold, YrSold, SaleType, SaleCondition]\n",
       "Index: []\n",
       "\n",
       "[0 rows x 80 columns]"
      ]
     },
     "execution_count": 15,
     "metadata": {},
     "output_type": "execute_result"
    }
   ],
   "source": [
    "test_df[test_df.duplicated()]"
   ]
  },
  {
   "cell_type": "code",
   "execution_count": 17,
   "metadata": {
    "ExecuteTime": {
     "end_time": "2021-02-03T05:55:34.009131Z",
     "start_time": "2021-02-03T05:55:33.974129Z"
    }
   },
   "outputs": [
    {
     "data": {
      "text/plain": [
       "MSZoning         0.274160\n",
       "LotFrontage     15.558602\n",
       "Alley           92.666210\n",
       "Utilities        0.137080\n",
       "Exterior1st      0.068540\n",
       "Exterior2nd      0.068540\n",
       "MasVnrType       1.096642\n",
       "MasVnrArea       1.028101\n",
       "BsmtQual         3.015764\n",
       "BsmtCond         3.084304\n",
       "BsmtExposure     3.015764\n",
       "BsmtFinType1     2.878684\n",
       "BsmtFinSF1       0.068540\n",
       "BsmtFinType2     2.878684\n",
       "BsmtFinSF2       0.068540\n",
       "BsmtUnfSF        0.068540\n",
       "TotalBsmtSF      0.068540\n",
       "BsmtFullBath     0.137080\n",
       "BsmtHalfBath     0.137080\n",
       "KitchenQual      0.068540\n",
       "Functional       0.137080\n",
       "FireplaceQu     50.034270\n",
       "GarageType       5.209047\n",
       "GarageYrBlt      5.346127\n",
       "GarageFinish     5.346127\n",
       "GarageCars       0.068540\n",
       "GarageArea       0.068540\n",
       "GarageQual       5.346127\n",
       "GarageCond       5.346127\n",
       "PoolQC          99.794380\n",
       "Fence           80.123372\n",
       "MiscFeature     96.504455\n",
       "SaleType         0.068540\n",
       "dtype: float64"
      ]
     },
     "execution_count": 17,
     "metadata": {},
     "output_type": "execute_result"
    }
   ],
   "source": [
    "test_missing = test_df.isna().sum()\n",
    "\n",
    "test_missing = 100 * (test_missing[test_missing > 0] / len(test_df))\n",
    "test_missing"
   ]
  },
  {
   "cell_type": "markdown",
   "metadata": {},
   "source": [
    "### Check target column first"
   ]
  },
  {
   "cell_type": "code",
   "execution_count": 18,
   "metadata": {
    "ExecuteTime": {
     "end_time": "2021-02-03T05:55:38.105805Z",
     "start_time": "2021-02-03T05:55:37.778109Z"
    }
   },
   "outputs": [
    {
     "data": {
      "text/plain": [
       "<AxesSubplot:xlabel='SalePrice', ylabel='Density'>"
      ]
     },
     "execution_count": 18,
     "metadata": {},
     "output_type": "execute_result"
    },
    {
     "data": {
      "image/png": "[encoded data removed]",
      "text/plain": [
       "<Figure size 720x288 with 1 Axes>"
      ]
     },
     "metadata": {
      "needs_background": "light"
     },
     "output_type": "display_data"
    }
   ],
   "source": [
    "fig, ax = plt.subplots(figsize=(10,4))\n",
    "sns.distplot(train_df['SalePrice'], bins=30, kde=True, ax=ax)"
   ]
  },
  {
   "cell_type": "code",
   "execution_count": null,
   "metadata": {
    "ExecuteTime": {
     "end_time": "2021-02-02T10:26:43.952764Z",
     "start_time": "2021-02-02T10:26:43.765788Z"
    }
   },
   "outputs": [],
   "source": [
    "# One way of doing it\n",
    "fig, ax = plt.subplots(figsize=(10,4))\n",
    "sns.distplot(np.log1p(train_df['SalePrice']), bins=30, kde=True, ax=ax);\n",
    "# Perform log transformation \n",
    "train_df['SalePrice'] = np.log1p(train_df['SalePrice'])"
   ]
  },
  {
   "cell_type": "code",
   "execution_count": null,
   "metadata": {
    "ExecuteTime": {
     "end_time": "2021-02-02T10:26:43.957765Z",
     "start_time": "2021-02-02T10:26:43.953783Z"
    }
   },
   "outputs": [],
   "source": [
    "train_df['SalePrice'].isna().sum()"
   ]
  },
  {
   "cell_type": "markdown",
   "metadata": {},
   "source": [
    "First of all I will concatenate these 2 dataframe for feature engineering. It will help me to avoid a problem where train and test dataset discrete features are different from each other."
   ]
  },
  {
   "cell_type": "code",
   "execution_count": null,
   "metadata": {
    "ExecuteTime": {
     "end_time": "2021-02-02T10:26:43.973787Z",
     "start_time": "2021-02-02T10:26:43.958765Z"
    }
   },
   "outputs": [],
   "source": [
    "# Concatenate train/test datasets\n",
    "df = pd.concat([train_df, test_df], axis=0)"
   ]
  },
  {
   "cell_type": "markdown",
   "metadata": {},
   "source": [
    "## Numerical Features"
   ]
  },
  {
   "cell_type": "code",
   "execution_count": null,
   "metadata": {
    "ExecuteTime": {
     "end_time": "2021-02-02T10:26:43.982765Z",
     "start_time": "2021-02-02T10:26:43.975763Z"
    }
   },
   "outputs": [],
   "source": [
    "# Change these features into object type\n",
    "change_type = ['MSSubClass','OverallQual','OverallCond','YearBuilt','YearRemodAdd','GarageYrBlt','MoSold','YrSold']\n",
    "\n",
    "for col in change_type:\n",
    "    df[col] = df[col].astype(\"object\")"
   ]
  },
  {
   "cell_type": "code",
   "execution_count": null,
   "metadata": {
    "ExecuteTime": {
     "end_time": "2021-02-02T10:26:44.059763Z",
     "start_time": "2021-02-02T10:26:43.983765Z"
    }
   },
   "outputs": [],
   "source": [
    "# Describe numeric columns\n",
    "df.drop(\"Id\", axis=1).describe(include=['number']).T"
   ]
  },
  {
   "cell_type": "code",
   "execution_count": null,
   "metadata": {
    "ExecuteTime": {
     "end_time": "2021-02-02T10:26:44.067765Z",
     "start_time": "2021-02-02T10:26:44.060764Z"
    }
   },
   "outputs": [],
   "source": [
    "num_feat = [x for x in df.columns if df[x].dtype !=\"object\"]\n",
    "\n",
    "num_feat.remove(\"Id\")"
   ]
  },
  {
   "cell_type": "code",
   "execution_count": null,
   "metadata": {
    "ExecuteTime": {
     "end_time": "2021-02-02T10:26:50.943795Z",
     "start_time": "2021-02-02T10:26:44.068764Z"
    }
   },
   "outputs": [],
   "source": [
    "# Correlation between numerical variables\n",
    "corr_matrix = df[num_feat].corr()\n",
    "plt.figure(figsize=(16,12))\n",
    "sns.heatmap(corr_matrix.T, annot=True, cbar=False, cmap='coolwarm');"
   ]
  },
  {
   "cell_type": "code",
   "execution_count": null,
   "metadata": {
    "ExecuteTime": {
     "end_time": "2021-02-02T10:26:51.981789Z",
     "start_time": "2021-02-02T10:26:50.944763Z"
    }
   },
   "outputs": [],
   "source": [
    "# Correlated variables greater than 0.8\n",
    "corr_matrix = df[num_feat].corr()\n",
    "plt.figure(figsize=(12,12))\n",
    "sns.heatmap(corr_matrix.T, annot=True, mask= corr_matrix < 0.8 ,cbar=False, cmap='coolwarm');"
   ]
  },
  {
   "cell_type": "markdown",
   "metadata": {},
   "source": [
    "Let's check how these correlated variables to each other are correlated to the target column, so I can decide which of them remove from further analysis."
   ]
  },
  {
   "cell_type": "code",
   "execution_count": null,
   "metadata": {
    "ExecuteTime": {
     "end_time": "2021-02-02T10:26:52.302763Z",
     "start_time": "2021-02-02T10:26:51.982800Z"
    }
   },
   "outputs": [],
   "source": [
    "price_corr_ser = df[num_feat].corr()['SalePrice']\n",
    "price_corr_ser = price_corr_ser.sort_values(ascending=False)\n",
    "price_corr_ser = price_corr_ser.drop(\"SalePrice\")\n",
    "\n",
    "fig, ax = plt.subplots(figsize=(10,12))\n",
    "sns.barplot(x=price_corr_ser.values, y=price_corr_ser.index, palette=\"rocket_r\")\n",
    "plt.title(\"Numeric Feature Correlation with Traget Column\");"
   ]
  },
  {
   "cell_type": "code",
   "execution_count": null,
   "metadata": {
    "ExecuteTime": {
     "end_time": "2021-02-02T10:26:52.309763Z",
     "start_time": "2021-02-02T10:26:52.303763Z"
    }
   },
   "outputs": [],
   "source": [
    "# Remove one of the highly correlated variables\n",
    "high_correlated_var = [\"GarageArea\",'1stFlrSF','TotRmsAbvGrd']\n",
    "df = df.drop(high_correlated_var, axis=1)\n",
    "\n",
    "# Remove it from list of numeric columns\n",
    "for c in high_correlated_var:\n",
    "    num_feat.remove(c)"
   ]
  },
  {
   "cell_type": "markdown",
   "metadata": {},
   "source": [
    "### Distribution of numeric features"
   ]
  },
  {
   "cell_type": "code",
   "execution_count": null,
   "metadata": {
    "ExecuteTime": {
     "end_time": "2021-02-02T10:27:00.627278Z",
     "start_time": "2021-02-02T10:26:52.310789Z"
    }
   },
   "outputs": [],
   "source": [
    "# Plot distribution of numeric variables\n",
    "fig = plt.figure(figsize=(20,20))\n",
    "\n",
    "for i in range(len(num_feat)):\n",
    "    plt.subplot(14,5, i+1)\n",
    "    sns.distplot(df[num_feat[i]], rug=True, hist=False, kde_kws={'bw':0.1})\n",
    "    plt.title(num_feat[i])\n",
    "    plt.xlabel(\"Value\")\n",
    "    plt.ylabel(\"Count\")\n",
    "    plt.tight_layout()\n",
    "fig.show()"
   ]
  },
  {
   "cell_type": "code",
   "execution_count": null,
   "metadata": {
    "ExecuteTime": {
     "end_time": "2021-02-02T10:27:07.228790Z",
     "start_time": "2021-02-02T10:27:00.628300Z"
    }
   },
   "outputs": [],
   "source": [
    "# Visualize relation between numeric features and target column\n",
    "fig = plt.figure(figsize=(20,20))\n",
    "# numeric_df = num_df.drop('SalePrice', axis=1)\n",
    "\n",
    "for i, col in enumerate(df[num_feat].columns):\n",
    "    plt.subplot(12,5, i+1)\n",
    "    sns.scatterplot(x=df[col], y=df['SalePrice'])\n",
    "    plt.tight_layout()\n",
    "    \n",
    "fig.show()"
   ]
  },
  {
   "cell_type": "markdown",
   "metadata": {},
   "source": [
    "### Numerical outliers"
   ]
  },
  {
   "cell_type": "code",
   "execution_count": null,
   "metadata": {
    "ExecuteTime": {
     "end_time": "2021-02-02T10:27:07.688790Z",
     "start_time": "2021-02-02T10:27:07.229788Z"
    }
   },
   "outputs": [],
   "source": [
    "fig = plt.figure(figsize=(24,15))\n",
    "\n",
    "plt.subplot(4,3,1)\n",
    "sns.distplot(df[\"LotArea\"])\n",
    "\n",
    "plt.subplot(4,3,2)\n",
    "sns.scatterplot(x=\"LotArea\", y=\"SalePrice\", data=df)"
   ]
  },
  {
   "cell_type": "code",
   "execution_count": null,
   "metadata": {
    "ExecuteTime": {
     "end_time": "2021-02-02T10:27:07.698789Z",
     "start_time": "2021-02-02T10:27:07.691788Z"
    }
   },
   "outputs": [],
   "source": [
    "df[\"LotArea\"].describe()"
   ]
  },
  {
   "cell_type": "markdown",
   "metadata": {},
   "source": [
    "I will remove outliers from this continues numeric column later on as it would effect my test dataset for submission if I do it now."
   ]
  },
  {
   "cell_type": "markdown",
   "metadata": {},
   "source": [
    "**PoolArea**"
   ]
  },
  {
   "cell_type": "code",
   "execution_count": null,
   "metadata": {
    "ExecuteTime": {
     "end_time": "2021-02-02T10:27:07.712788Z",
     "start_time": "2021-02-02T10:27:07.700789Z"
    }
   },
   "outputs": [],
   "source": [
    "# Create binary column 1 if the house has a pool, 0 if not\n",
    "df['isPool'] = df['PoolArea'].apply(lambda x: 0 if x == 0 else 1)\n",
    "df['isPool'] = df['isPool'].astype(\"object\")\n",
    "df = df.drop('PoolArea',axis=1)\n",
    "num_feat.remove(\"PoolArea\")"
   ]
  },
  {
   "cell_type": "markdown",
   "metadata": {},
   "source": [
    "**totalPorch**"
   ]
  },
  {
   "cell_type": "code",
   "execution_count": null,
   "metadata": {
    "ExecuteTime": {
     "end_time": "2021-02-02T10:27:07.729788Z",
     "start_time": "2021-02-02T10:27:07.713789Z"
    }
   },
   "outputs": [],
   "source": [
    "# create a new column where I concatenate all Porch columns\n",
    "porch_col = ['OpenPorchSF','EnclosedPorch', '3SsnPorch', 'ScreenPorch']\n",
    "\n",
    "df['totalPorch'] = np.zeros(len(df)).reshape(len(df),1)\n",
    "\n",
    "for col in porch_col:\n",
    "    df['totalPorch'] += df[col]\n",
    "    \n",
    "# Remove porch col from dataset\n",
    "for c in porch_col:\n",
    "    df.drop(c, axis=1, inplace=True)\n",
    "\n",
    "# Remove it from the list of numerical columns\n",
    "to_remove = [\"OpenPorchSF\", \"EnclosedPorch\", \"3SsnPorch\", \"ScreenPorch\"]\n",
    "for c in to_remove:\n",
    "    num_feat.remove(c)\n",
    "\n",
    "# Add column to the list of numeric\n",
    "num_feat.append(\"totalPorch\")"
   ]
  },
  {
   "cell_type": "markdown",
   "metadata": {},
   "source": [
    "**Bathroom columns**"
   ]
  },
  {
   "cell_type": "code",
   "execution_count": null,
   "metadata": {
    "ExecuteTime": {
     "end_time": "2021-02-02T10:27:07.747788Z",
     "start_time": "2021-02-02T10:27:07.730788Z"
    }
   },
   "outputs": [],
   "source": [
    "# Create new columns and drop relevant ones\n",
    "df[\"TotBathAbvGrade\"] = df[\"FullBath\"] + (0.5 * df[\"HalfBath\"])\n",
    "df[\"TotBsmtBath\"] = df[\"BsmtFullBath\"] + (0.5 * df[\"BsmtHalfBath\"])\n",
    "\n",
    "# Remove columns\n",
    "to_remove = [\"FullBath\",\"HalfBath\",\"BsmtFullBath\", \"BsmtHalfBath\"]\n",
    "\n",
    "for col in to_remove:\n",
    "    df.drop(col, axis=1, inplace=True)\n",
    "    num_feat.remove(col)\n",
    "\n",
    "# Append new ones to the numeric columns\n",
    "num_feat.append(\"TotBathAbvGrade\")\n",
    "num_feat.append(\"TotBsmtBath\")"
   ]
  },
  {
   "cell_type": "markdown",
   "metadata": {},
   "source": [
    "Columns LotFrontage(Linear feet of street connected to property) and LotArea(Lot size in square feet) are highly correlated, so I will drop feature with missing values."
   ]
  },
  {
   "cell_type": "code",
   "execution_count": null,
   "metadata": {
    "ExecuteTime": {
     "end_time": "2021-02-02T10:27:07.754789Z",
     "start_time": "2021-02-02T10:27:07.748789Z"
    }
   },
   "outputs": [],
   "source": [
    "# Remove useless numerical column\n",
    "df.drop(\"LotFrontage\", axis=1, inplace=True)\n",
    "num_feat.remove(\"LotFrontage\")"
   ]
  },
  {
   "cell_type": "code",
   "execution_count": null,
   "metadata": {
    "ExecuteTime": {
     "end_time": "2021-02-02T10:27:11.411134Z",
     "start_time": "2021-02-02T10:27:07.755789Z"
    }
   },
   "outputs": [],
   "source": [
    "# Create a plot again\n",
    "fig = plt.figure(figsize=(15,15))\n",
    "\n",
    "for i, col in enumerate(num_feat):\n",
    "    plt.subplot(12,5, i+1)\n",
    "    sns.scatterplot(x=df[col], y='SalePrice', data=df)\n",
    "    plt.tight_layout()\n",
    "\n",
    "fig.show()"
   ]
  },
  {
   "cell_type": "markdown",
   "metadata": {},
   "source": [
    "### Missing values in numeric features"
   ]
  },
  {
   "cell_type": "markdown",
   "metadata": {},
   "source": [
    "The only numerical column left with some missing values (less than 1%) so I will fill them with a mean of the column. I don't need to fill missing values in SalePrice Columns."
   ]
  },
  {
   "cell_type": "code",
   "execution_count": null,
   "metadata": {
    "ExecuteTime": {
     "end_time": "2021-02-02T10:27:11.711139Z",
     "start_time": "2021-02-02T10:27:11.412112Z"
    }
   },
   "outputs": [],
   "source": [
    "# Show missing values\n",
    "missingno.matrix(df[num_feat], figsize=(20,4))"
   ]
  },
  {
   "cell_type": "code",
   "execution_count": null,
   "metadata": {
    "ExecuteTime": {
     "end_time": "2021-02-02T10:27:11.716110Z",
     "start_time": "2021-02-02T10:27:11.713110Z"
    }
   },
   "outputs": [],
   "source": [
    "# Remove SalePrice temporary\n",
    "num_feat.remove(\"SalePrice\")"
   ]
  },
  {
   "cell_type": "code",
   "execution_count": null,
   "metadata": {
    "ExecuteTime": {
     "end_time": "2021-02-02T10:27:12.364112Z",
     "start_time": "2021-02-02T10:27:11.717110Z"
    }
   },
   "outputs": [],
   "source": [
    "from sklearn.impute import SimpleImputer\n",
    "\n",
    "imp = SimpleImputer(missing_values=np.nan, strategy='median')\n",
    "imp.fit(df[num_feat])\n",
    "df[num_feat] = imp.transform(df[num_feat])"
   ]
  },
  {
   "cell_type": "code",
   "execution_count": null,
   "metadata": {
    "ExecuteTime": {
     "end_time": "2021-02-02T10:27:12.423112Z",
     "start_time": "2021-02-02T10:27:12.365112Z"
    }
   },
   "outputs": [],
   "source": [
    "for col in df[num_feat]:\n",
    "    df[col] = df[col].apply(lambda x: np.log1p(x))\n",
    "    \n",
    "# Append SalePrice back to numeric columns\n",
    "num_feat.append(\"SalePrice\")"
   ]
  },
  {
   "cell_type": "markdown",
   "metadata": {},
   "source": [
    "## Categorical features"
   ]
  },
  {
   "cell_type": "markdown",
   "metadata": {},
   "source": [
    "#### Missing Values in Categorical"
   ]
  },
  {
   "cell_type": "code",
   "execution_count": null,
   "metadata": {
    "ExecuteTime": {
     "end_time": "2021-02-02T10:28:20.401608Z",
     "start_time": "2021-02-02T10:27:12.424138Z"
    }
   },
   "outputs": [],
   "source": [
    "# List of categorical columns\n",
    "cat_feat = [x for x in df.columns if df[x].dtype == \"object\"]\n",
    "\n",
    "# Create a multi plot with categorical features\n",
    "fig = plt.figure(figsize=(18, 30))\n",
    "\n",
    "for i , col in enumerate(cat_feat):\n",
    "    plt.subplot(12,5, i+1)\n",
    "    sns.boxplot(x=col, y='SalePrice', data=df)\n",
    "    plt.ylabel(\"Log() SalePrice\")\n",
    "    plt.tight_layout()\n",
    "    \n",
    "fig.show()"
   ]
  },
  {
   "cell_type": "markdown",
   "metadata": {},
   "source": [
    "There are some features that are useless(to many variables or the same information). First, I will try to create new features from them."
   ]
  },
  {
   "cell_type": "code",
   "execution_count": null,
   "metadata": {
    "ExecuteTime": {
     "end_time": "2021-02-02T10:28:20.686578Z",
     "start_time": "2021-02-02T10:28:20.407578Z"
    }
   },
   "outputs": [],
   "source": [
    "cat_missing = df[cat_feat].isna().sum()\n",
    "\n",
    "cat_missing = 100 * (cat_missing[cat_missing > 0] / len(df[cat_feat]))\n",
    "\n",
    "plt.figure(figsize=(10,5))\n",
    "sns.barplot(x= cat_missing.sort_values(ascending=False).values, y= cat_missing.sort_values(ascending=False).index)\n",
    "plt.title(\"Missing Categorical Values in %\");"
   ]
  },
  {
   "cell_type": "markdown",
   "metadata": {},
   "source": [
    "#### Missing data in categorical columns"
   ]
  },
  {
   "cell_type": "markdown",
   "metadata": {},
   "source": [
    "There are many methods to impute data, some of them are very sophisticated, but there is one flaw, we impute artificially created values. In case of categorical variables imputing mode of a column could be one of them, but I will fill missing values with a string \"None\" so I could retain the orginal information."
   ]
  },
  {
   "cell_type": "code",
   "execution_count": null,
   "metadata": {
    "ExecuteTime": {
     "end_time": "2021-02-02T10:28:20.714588Z",
     "start_time": "2021-02-02T10:28:20.687577Z"
    }
   },
   "outputs": [],
   "source": [
    "# Fill missing values in categorical columns with a string\n",
    "for col in cat_feat:\n",
    "    if df[col].isna().sum() > 0:\n",
    "        df[col] = df[col].fillna(value=\"NA\")\n",
    "    else:\n",
    "        continue"
   ]
  },
  {
   "cell_type": "code",
   "execution_count": null,
   "metadata": {
    "ExecuteTime": {
     "end_time": "2021-02-02T10:28:20.903579Z",
     "start_time": "2021-02-02T10:28:20.715577Z"
    }
   },
   "outputs": [],
   "source": [
    "missingno.matrix(df[cat_feat], figsize=(20,4))"
   ]
  },
  {
   "cell_type": "code",
   "execution_count": null,
   "metadata": {
    "ExecuteTime": {
     "end_time": "2021-02-02T10:28:20.907579Z",
     "start_time": "2021-02-02T10:28:20.904578Z"
    }
   },
   "outputs": [],
   "source": [
    "# for col in cat_missing.columns:\n",
    "    # print(f\" Column '{col}' has unique values {df[col].unique()}\")"
   ]
  },
  {
   "cell_type": "code",
   "execution_count": null,
   "metadata": {
    "ExecuteTime": {
     "end_time": "2021-02-02T10:28:20.923580Z",
     "start_time": "2021-02-02T10:28:20.908581Z"
    }
   },
   "outputs": [],
   "source": [
    "cat_missing = df[cat_feat].isna().sum()\n",
    "\n",
    "cat_missing = 100 * (cat_missing[cat_missing > 0] / len(df[cat_feat]))\n",
    "\n",
    "cat_missing"
   ]
  },
  {
   "cell_type": "markdown",
   "metadata": {},
   "source": [
    "### Feature engineering for categorical variables"
   ]
  },
  {
   "cell_type": "markdown",
   "metadata": {},
   "source": [
    "**GarageYrBlt column**"
   ]
  },
  {
   "cell_type": "code",
   "execution_count": null,
   "metadata": {
    "ExecuteTime": {
     "end_time": "2021-02-02T10:28:21.112602Z",
     "start_time": "2021-02-02T10:28:20.924578Z"
    }
   },
   "outputs": [],
   "source": [
    "# Creating new series \n",
    "is_garage = df['GarageYrBlt'].apply(lambda x: 1 if x != \"NA\" else 0)\n",
    "\n",
    "# Plot new series\n",
    "fig, axes = plt.subplots(nrows=1, ncols=2, figsize=(12,4))\n",
    "\n",
    "sns.countplot(is_garage, ax=axes[0])\n",
    "sns.boxplot(x=is_garage.values, y='SalePrice', data=df, ax=axes[1])\n",
    "\n",
    "axes[0].set_xlabel(\"Is Garage\")\n",
    "axes[0].set_ylabel(\"SalePrice \")\n",
    "\n",
    "axes[1].set_xlabel(\"Is Garage\")\n",
    "axes[1].set_ylabel(\"SalePrice \");"
   ]
  },
  {
   "cell_type": "code",
   "execution_count": null,
   "metadata": {
    "ExecuteTime": {
     "end_time": "2021-02-02T10:28:21.117579Z",
     "start_time": "2021-02-02T10:28:21.113579Z"
    }
   },
   "outputs": [],
   "source": [
    "to_remove = []\n",
    "# Add to the list of columns to remove\n",
    "to_remove.append(\"GarageYrBlt\")\n",
    "\n",
    "# Create new column from GaragYrBlt\n",
    "df['isGarage'] = is_garage.astype('object')\n",
    "cat_feat.append(\"isGarage\")"
   ]
  },
  {
   "cell_type": "markdown",
   "metadata": {},
   "source": [
    "**YearRemodAdd column**"
   ]
  },
  {
   "cell_type": "code",
   "execution_count": null,
   "metadata": {
    "ExecuteTime": {
     "end_time": "2021-02-02T10:28:21.123578Z",
     "start_time": "2021-02-02T10:28:21.118578Z"
    }
   },
   "outputs": [],
   "source": [
    "df['YearRemodAdd'].unique()\n",
    "to_remove.append(\"YearRemodAdd\")"
   ]
  },
  {
   "cell_type": "markdown",
   "metadata": {},
   "source": [
    "I don't see any value from this column, therefore I will drop it later on."
   ]
  },
  {
   "cell_type": "markdown",
   "metadata": {},
   "source": [
    "**YearBuilt & YrSold columns**"
   ]
  },
  {
   "cell_type": "code",
   "execution_count": null,
   "metadata": {
    "ExecuteTime": {
     "end_time": "2021-02-02T10:28:21.130598Z",
     "start_time": "2021-02-02T10:28:21.124579Z"
    }
   },
   "outputs": [],
   "source": [
    "# Create a series of how old a house was when sold\n",
    "how_old = (df['YrSold'].astype(int) - df['YearBuilt'].astype(int))\n",
    "\n",
    "# New column from \n",
    "df['Old_in_Years'] = pd.Series(how_old)\n",
    "# Update to numertic list\n",
    "num_feat.append(\"Old_in_Years\")\n",
    "\n",
    "# Add columns for remove\n",
    "to_remove.append('YrSold')\n",
    "to_remove.append('YearBuilt')"
   ]
  },
  {
   "cell_type": "code",
   "execution_count": null,
   "metadata": {
    "ExecuteTime": {
     "end_time": "2021-02-02T10:28:21.402606Z",
     "start_time": "2021-02-02T10:28:21.131578Z"
    }
   },
   "outputs": [],
   "source": [
    "fig = plt.figure(figsize=(18,10))\n",
    "\n",
    "# Distribution of new column\n",
    "plt.subplot(4,2, 1)\n",
    "sns.distplot(df['Old_in_Years'])\n",
    "plt.ylabel(\"count\")\n",
    "\n",
    "# Scatterplot of new column\n",
    "plt.subplot(4,2, 2)\n",
    "sns.scatterplot(x=df['Old_in_Years'].values, y='SalePrice', data=df)\n",
    "\n",
    "# Labels\n",
    "plt.xlabel(\"Old in Years\")\n",
    "plt.ylabel(\"SalePrice\");"
   ]
  },
  {
   "cell_type": "markdown",
   "metadata": {},
   "source": [
    "I'm not sure if creating another column from two old ones will improve my model or it will carry the same information as newly created numerical one? If someone can clear that for me that would be great. For now I won't create it."
   ]
  },
  {
   "cell_type": "code",
   "execution_count": null,
   "metadata": {
    "ExecuteTime": {
     "end_time": "2021-02-02T10:28:21.408579Z",
     "start_time": "2021-02-02T10:28:21.403579Z"
    }
   },
   "outputs": [],
   "source": [
    "to_remove"
   ]
  },
  {
   "cell_type": "markdown",
   "metadata": {},
   "source": [
    "**Condition1 & Condition2 columns**"
   ]
  },
  {
   "cell_type": "code",
   "execution_count": null,
   "metadata": {
    "ExecuteTime": {
     "end_time": "2021-02-02T10:28:21.415579Z",
     "start_time": "2021-02-02T10:28:21.409578Z"
    }
   },
   "outputs": [],
   "source": [
    "df['Condition1'].value_counts()"
   ]
  },
  {
   "cell_type": "code",
   "execution_count": null,
   "metadata": {
    "ExecuteTime": {
     "end_time": "2021-02-02T10:28:21.422598Z",
     "start_time": "2021-02-02T10:28:21.416579Z"
    }
   },
   "outputs": [],
   "source": [
    "df['Condition2'].value_counts()"
   ]
  },
  {
   "cell_type": "code",
   "execution_count": null,
   "metadata": {
    "ExecuteTime": {
     "end_time": "2021-02-02T10:28:21.622579Z",
     "start_time": "2021-02-02T10:28:21.423579Z"
    }
   },
   "outputs": [],
   "source": [
    "fig = plt.figure(figsize=(18,10))\n",
    "\n",
    "condition1 = df['Condition1'].apply(lambda x: x if x == \"Norm\" else \"Other\")\n",
    "\n",
    "plt.subplot(3,2, 1)\n",
    "sns.countplot(condition1)\n",
    "\n",
    "plt.subplot(3,2, 2)\n",
    "sns.boxplot(x=condition1.values, y='SalePrice', data=df);"
   ]
  },
  {
   "cell_type": "code",
   "execution_count": null,
   "metadata": {
    "ExecuteTime": {
     "end_time": "2021-02-02T10:28:21.788579Z",
     "start_time": "2021-02-02T10:28:21.623580Z"
    }
   },
   "outputs": [],
   "source": [
    "fig = plt.figure(figsize=(18,10))\n",
    "\n",
    "condition2 = df['Condition2'].apply(lambda x: x if x == \"Norm\" else \"Other\")\n",
    "\n",
    "plt.subplot(4,2, 1)\n",
    "sns.countplot(condition2)\n",
    "\n",
    "plt.subplot(4,2,2)\n",
    "sns.boxplot(x=condition2.values, y='SalePrice', data=df);"
   ]
  },
  {
   "cell_type": "markdown",
   "metadata": {},
   "source": [
    "I think, that the only reason doing it is to reduce dimensionality of our dataframe. I am going to to keep these columns in unchange form now."
   ]
  },
  {
   "cell_type": "markdown",
   "metadata": {},
   "source": [
    "### Nominal and Ordinal Columns"
   ]
  },
  {
   "cell_type": "markdown",
   "metadata": {},
   "source": [
    "Some of the categorical columns have nominal or ordinal values and that needs to be addressed. As a remminder, nominal data is when we can only classify the data, while ordinal data can be classified and ordered."
   ]
  },
  {
   "cell_type": "markdown",
   "metadata": {},
   "source": [
    "**Ordinal values**"
   ]
  },
  {
   "cell_type": "code",
   "execution_count": null,
   "metadata": {
    "ExecuteTime": {
     "end_time": "2021-02-02T10:28:21.800580Z",
     "start_time": "2021-02-02T10:28:21.789577Z"
    }
   },
   "outputs": [],
   "source": [
    "ordinal_feat = ['OverallQual','OverallCond','ExterQual','ExterCond', 'BsmtQual', 'BsmtCond', 'BsmtExposure','BsmtFinType1',\n",
    "               'BsmtFinType2','HeatingQC', 'KitchenQual', 'FireplaceQu', 'GarageQual','GarageCond','PoolQC']\n",
    "\n",
    "df['BsmtExposure'] = df['BsmtExposure'].apply(lambda x: x if x !='No' else \"NA\")\n",
    "\n",
    "for col in ordinal_feat:\n",
    "    # Remove ordinal from list  \n",
    "    cat_feat.remove(col)\n",
    "        \n",
    "    print(f\" Column '{col}' has unique values {df[col].unique()}\")"
   ]
  },
  {
   "cell_type": "code",
   "execution_count": null,
   "metadata": {
    "ExecuteTime": {
     "end_time": "2021-02-02T10:28:21.843597Z",
     "start_time": "2021-02-02T10:28:21.802577Z"
    }
   },
   "outputs": [],
   "source": [
    "# Map ordinal columns and change their type\n",
    "ord_map = {\"NA\":0, \"Po\":1, \"Fa\":2, \"TA\":3, \"Gd\":4,\"Ex\":5}\n",
    "ord_map1 = {\"NA\":0, \"Unf\":1, \"LwQ\":2, \"Rec\":3, \"BLQ\":4, \"ALQ\":5, \"GLQ\":6}\n",
    "ord_map2 = {\"NA\":0, \"No\":1, \"Mn\":2, \"Av\":3, \"Gd\":4}\n",
    "\n",
    "for col in ordinal_feat:\n",
    "        \n",
    "    if len(df[col].unique()) <= 6 and col !=\"BsmtExposure\":\n",
    "        df[col] = df[col].map(ord_map)\n",
    "        df[col] = df[col].astype(int)\n",
    "        \n",
    "    elif col in ['OverallQual', 'OverallCond']:\n",
    "        df[col] = df[col].astype(int)\n",
    "        \n",
    "    elif df[col].name in ['BsmtFinType1', 'BsmtFinType2']:\n",
    "        df[col] = df[col].map(ord_map1)\n",
    "        df[col] = df[col].astype(int)\n",
    "        \n",
    "    else:\n",
    "        df[col] = df[col].map(ord_map2) \n",
    "        df[col] = df[col].astype(int)\n",
    "        \n",
    "for col in ordinal_feat:\n",
    "    # Append nominal features to the numerical features\n",
    "    num_feat.append(col)\n",
    "    print(f\" Column '{col}' has unique values :{df[col].unique()}, dtype: {df[col].dtypes}\")\n",
    "    "
   ]
  },
  {
   "cell_type": "code",
   "execution_count": null,
   "metadata": {
    "ExecuteTime": {
     "end_time": "2021-02-02T10:28:21.856606Z",
     "start_time": "2021-02-02T10:28:21.844577Z"
    }
   },
   "outputs": [],
   "source": [
    "# Let's remove some categorical columns we do not need anymore\n",
    "for col in to_remove:\n",
    "    df.drop(col, axis=1, inplace=True)\n",
    "    cat_feat.remove(col)"
   ]
  },
  {
   "cell_type": "markdown",
   "metadata": {},
   "source": [
    "####  Check numerical features correlation again"
   ]
  },
  {
   "cell_type": "code",
   "execution_count": null,
   "metadata": {
    "ExecuteTime": {
     "end_time": "2021-02-02T10:28:23.157604Z",
     "start_time": "2021-02-02T10:28:21.857578Z"
    }
   },
   "outputs": [],
   "source": [
    "plt.figure(figsize=(14,12))\n",
    "\n",
    "sns.heatmap(df[num_feat].corr(), mask= df[num_feat].corr()  < 0.8 , cbar=False, cmap='coolwarm', annot=True);"
   ]
  },
  {
   "cell_type": "markdown",
   "metadata": {},
   "source": [
    "I introduce correlation between features when I converted some ordinal features and I need to remove one of the correlated feature. There is also high correlation between \"SalePrice\" and \"OverallQual\" (0.817185) but this is all right."
   ]
  },
  {
   "cell_type": "code",
   "execution_count": null,
   "metadata": {
    "ExecuteTime": {
     "end_time": "2021-02-02T10:28:23.169580Z",
     "start_time": "2021-02-02T10:28:23.158580Z"
    }
   },
   "outputs": [],
   "source": [
    "corr_to_remove = ['GarageCond', 'FireplaceQu', 'BsmtFinType1','BsmtFinType2','BsmtCond',]\n",
    "\n",
    "for col in corr_to_remove:\n",
    "    df = df.drop(col, axis=1)\n",
    "    num_feat.remove(col)\n",
    "    ordinal_feat.remove(col)"
   ]
  },
  {
   "cell_type": "markdown",
   "metadata": {},
   "source": [
    "**Nominal values**"
   ]
  },
  {
   "cell_type": "markdown",
   "metadata": {},
   "source": [
    "Different methods can be apply to convert nominal variables into numbers so I future algorithm can work with them. All of them have prons and cons but I am not going to write about it here. One of the simpliest and easy to understand is pandas \"get_dummies\" method, however you need to remember not to indroduce nulticollinearity what is also called (dummy trap). "
   ]
  },
  {
   "cell_type": "code",
   "execution_count": null,
   "metadata": {
    "ExecuteTime": {
     "end_time": "2021-02-02T10:28:23.235670Z",
     "start_time": "2021-02-02T10:28:23.170578Z"
    }
   },
   "outputs": [],
   "source": [
    "# Create dummy variables \n",
    "dummy_df = pd.get_dummies(df[cat_feat], drop_first=True)\n",
    "\n",
    "for col in cat_feat:\n",
    "    df.drop(col, axis=1, inplace=True)\n",
    "    \n",
    "df_with_dummies = pd.concat([df, dummy_df], axis=1)"
   ]
  },
  {
   "cell_type": "markdown",
   "metadata": {},
   "source": [
    "Second method for converting nominal categorical variables is OneHotEncode, but I am not going to use it in this notebook. Another common method used by practitioners is Label Encoding which suits more with variables who have some sort of order. "
   ]
  },
  {
   "cell_type": "markdown",
   "metadata": {},
   "source": [
    "**Now, this is very important that we split dataset back into test and train dataset before we scale the data.**"
   ]
  },
  {
   "cell_type": "code",
   "execution_count": null,
   "metadata": {
    "ExecuteTime": {
     "end_time": "2021-02-02T10:28:23.245604Z",
     "start_time": "2021-02-02T10:28:23.236577Z"
    }
   },
   "outputs": [],
   "source": [
    "# Split dataframe into test/train dataset\n",
    "clean_train_df = df_with_dummies[df_with_dummies[\"SalePrice\"] > 0].copy()\n",
    "clean_test_df = df_with_dummies[df_with_dummies[\"SalePrice\"].isna()].copy()\n",
    "\n",
    "# Drop SalePrice column from test set\n",
    "clean_test_df.drop(\"SalePrice\", axis=1, inplace=True)"
   ]
  },
  {
   "cell_type": "code",
   "execution_count": null,
   "metadata": {
    "ExecuteTime": {
     "end_time": "2021-02-02T10:28:23.250581Z",
     "start_time": "2021-02-02T10:28:23.246579Z"
    }
   },
   "outputs": [],
   "source": [
    "clean_test_df.shape, clean_train_df.shape"
   ]
  },
  {
   "cell_type": "markdown",
   "metadata": {},
   "source": [
    "**Skewness**"
   ]
  },
  {
   "cell_type": "code",
   "execution_count": null,
   "metadata": {
    "ExecuteTime": {
     "end_time": "2021-02-02T10:28:23.263578Z",
     "start_time": "2021-02-02T10:28:23.251579Z"
    }
   },
   "outputs": [],
   "source": [
    "skewed_features = clean_train_df[num_feat].skew().sort_values(ascending=False)\n",
    "skewed_features = skewed_features[skewed_features > 0.5]\n",
    "skewed_index = skewed_features.index"
   ]
  },
  {
   "cell_type": "code",
   "execution_count": null,
   "metadata": {
    "ExecuteTime": {
     "end_time": "2021-02-02T10:28:23.492581Z",
     "start_time": "2021-02-02T10:28:23.264579Z"
    }
   },
   "outputs": [],
   "source": [
    "fig = plt.figure(figsize=(12,4), dpi=120)\n",
    "skewed_features.sort_values(ascending=False).plot(kind='bar')\n",
    "plt.xticks(rotation=45)\n",
    "plt.xticks(horizontalalignment=\"right\")\n",
    "plt.title(\"Skewed Feature above 0.5 upper limit\")\n",
    "plt.tight_layout();"
   ]
  },
  {
   "cell_type": "markdown",
   "metadata": {},
   "source": [
    "First of all I will remove highly skewed features from dataset and then trim off the rest of them by 0.5 limit. Acceptable values for skewness are between -0.5 and 0.5 while -2 and 2 for Kurtosis."
   ]
  },
  {
   "cell_type": "code",
   "execution_count": null,
   "metadata": {
    "ExecuteTime": {
     "end_time": "2021-02-02T10:28:23.501578Z",
     "start_time": "2021-02-02T10:28:23.493580Z"
    }
   },
   "outputs": [],
   "source": [
    "right_skewness_col = ['PoolQC', 'LowQualFinSF']\n",
    "for col in right_skewness_col:\n",
    "    clean_train_df.drop(col, axis=1, inplace=True)\n",
    "    clean_test_df.drop(col, axis=1, inplace= True)\n",
    "    num_feat.remove(col)"
   ]
  },
  {
   "cell_type": "code",
   "execution_count": null,
   "metadata": {
    "ExecuteTime": {
     "end_time": "2021-02-02T10:28:23.505581Z",
     "start_time": "2021-02-02T10:28:23.502579Z"
    }
   },
   "outputs": [],
   "source": [
    "skewed_index = skewed_index.drop(['PoolQC','LowQualFinSF'])"
   ]
  },
  {
   "cell_type": "code",
   "execution_count": null,
   "metadata": {
    "ExecuteTime": {
     "end_time": "2021-02-02T10:28:23.531678Z",
     "start_time": "2021-02-02T10:28:23.506581Z"
    }
   },
   "outputs": [],
   "source": [
    "for col in skewed_index:\n",
    "    q3 = np.quantile(clean_train_df[col], 0.75)\n",
    "    q1 = np.quantile(clean_train_df[col], 0.25)\n",
    "    iqr = q3 - q1\n",
    "    # Upper limit for outliers\n",
    "    upper_limit = q3 + (1.5*iqr)\n",
    "    col_limit =  clean_train_df[col].apply(lambda x: x <= upper_limit)\n",
    "    clean_train_df = clean_train_df[col_limit]"
   ]
  },
  {
   "cell_type": "code",
   "execution_count": null,
   "metadata": {
    "ExecuteTime": {
     "end_time": "2021-02-02T10:28:23.536579Z",
     "start_time": "2021-02-02T10:28:23.532578Z"
    }
   },
   "outputs": [],
   "source": [
    "clean_train_df.shape"
   ]
  },
  {
   "cell_type": "code",
   "execution_count": null,
   "metadata": {
    "ExecuteTime": {
     "end_time": "2021-02-02T10:28:23.546577Z",
     "start_time": "2021-02-02T10:28:23.537581Z"
    }
   },
   "outputs": [],
   "source": [
    "# Save id column for submission\n",
    "row_id = pd.Series(clean_test_df[\"Id\"])\n",
    "clean_train_df = clean_train_df.drop(\"Id\", axis=1).astype(\"float64\")\n",
    "clean_test_df = clean_test_df.drop(\"Id\", axis=1).astype(\"float64\")"
   ]
  },
  {
   "cell_type": "markdown",
   "metadata": {},
   "source": [
    "## Splitting and standarization of the data"
   ]
  },
  {
   "cell_type": "code",
   "execution_count": null,
   "metadata": {
    "ExecuteTime": {
     "end_time": "2021-02-02T10:28:23.558579Z",
     "start_time": "2021-02-02T10:28:23.547604Z"
    }
   },
   "outputs": [],
   "source": [
    "from sklearn.model_selection import train_test_split\n",
    "\n",
    "# Split training dataset into X/y first\n",
    "X = clean_train_df.drop([\"SalePrice\"], axis=1)\n",
    "y = clean_train_df['SalePrice']\n",
    "\n",
    "# Then, split it into training and validation sets\n",
    "X_train, X_test, y_train, y_test = train_test_split(X, y, test_size=0.2, random_state=101)"
   ]
  },
  {
   "cell_type": "markdown",
   "metadata": {},
   "source": [
    "We all know how important is to standarize/normalize dataset for our algorithms but there are exceptions depend on what algorithm we are going to use. In order to do it right we need to remember about few things. Some suggest that it only descrete variables should be standarized and definitely we have to fit and transform train set and then only transforming test set. The reason for that we are not creating what is known as data leakage."
   ]
  },
  {
   "cell_type": "code",
   "execution_count": null,
   "metadata": {
    "ExecuteTime": {
     "end_time": "2021-02-02T10:28:23.562579Z",
     "start_time": "2021-02-02T10:28:23.559579Z"
    }
   },
   "outputs": [],
   "source": [
    "num_feat.remove('SalePrice')"
   ]
  },
  {
   "cell_type": "code",
   "execution_count": null,
   "metadata": {
    "ExecuteTime": {
     "end_time": "2021-02-02T10:28:23.575578Z",
     "start_time": "2021-02-02T10:28:23.563578Z"
    }
   },
   "outputs": [],
   "source": [
    "from sklearn.preprocessing import StandardScaler\n",
    "scaled_Xtrain = X_train.copy()\n",
    "scaled_Xtest = X_test.copy()\n",
    "\n",
    "scaler = StandardScaler()\n",
    "\n",
    "scaled_Xtrain[num_feat] = scaler.fit_transform(scaled_Xtrain[num_feat])\n",
    "scaled_Xtest[num_feat] = scaler.transform(scaled_Xtest[num_feat])"
   ]
  },
  {
   "cell_type": "code",
   "execution_count": null,
   "metadata": {
    "ExecuteTime": {
     "end_time": "2021-02-02T10:28:23.593602Z",
     "start_time": "2021-02-02T10:28:23.576578Z"
    }
   },
   "outputs": [],
   "source": [
    "scaled_Xtrain.head()"
   ]
  }
 ],
 "metadata": {
  "hide_input": false,
  "kernelspec": {
   "display_name": "Python 3",
   "language": "python",
   "name": "python3"
  },
  "language_info": {
   "codemirror_mode": {
    "name": "ipython",
    "version": 3
   },
   "file_extension": ".py",
   "mimetype": "text/x-python",
   "name": "python",
   "nbconvert_exporter": "python",
   "pygments_lexer": "ipython3",
   "version": "3.8.3"
  },
  "latex_envs": {
   "LaTeX_envs_menu_present": true,
   "autoclose": false,
   "autocomplete": true,
   "bibliofile": "biblio.bib",
   "cite_by": "apalike",
   "current_citInitial": 1,
   "eqLabelWithNumbers": true,
   "eqNumInitial": 1,
   "hotkeys": {
    "equation": "Ctrl-E",
    "itemize": "Ctrl-I"
   },
   "labels_anchors": false,
   "latex_user_defs": false,
   "report_style_numbering": false,
   "user_envs_cfg": false
  },
  "nbTranslate": {
   "displayLangs": [
    "*"
   ],
   "hotkey": "alt-t",
   "langInMainMenu": true,
   "sourceLang": "en",
   "targetLang": "fr",
   "useGoogleTranslate": true
  },
  "toc": {
   "base_numbering": 1,
   "nav_menu": {},
   "number_sections": true,
   "sideBar": true,
   "skip_h1_title": false,
   "title_cell": "Table of Contents",
   "title_sidebar": "Contents",
   "toc_cell": false,
   "toc_position": {},
   "toc_section_display": true,
   "toc_window_display": false
  },
  "varInspector": {
   "cols": {
    "lenName": 16,
    "lenType": 16,
    "lenVar": 40
   },
   "kernels_config": {
    "python": {
     "delete_cmd_postfix": "",
     "delete_cmd_prefix": "del ",
     "library": "var_list.py",
     "varRefreshCmd": "print(var_dic_list())"
    },
    "r": {
     "delete_cmd_postfix": ") ",
     "delete_cmd_prefix": "rm(",
     "library": "var_list.r",
     "varRefreshCmd": "cat(var_dic_list()) "
    }
   },
   "position": {
    "height": "644px",
    "left": "14px",
    "right": "20px",
    "top": "228px",
    "width": "357px"
   },
   "types_to_exclude": [
    "module",
    "function",
    "builtin_function_or_method",
    "instance",
    "_Feature"
   ],
   "window_display": true
  }
 },
 "nbformat": 4,
 "nbformat_minor": 4
}
