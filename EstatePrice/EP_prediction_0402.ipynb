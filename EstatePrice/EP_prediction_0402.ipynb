{
 "cells": [
  {
   "cell_type": "markdown",
   "metadata": {},
   "source": [
    "## Foreword"
   ]
  },
  {
   "cell_type": "markdown",
   "metadata": {},
   "source": [
    "Hi Kagglers!\n",
    "The score of the House Price predictions project https://www.kaggle.com/godzill22/house-price-predictions/comments I did a year ago it's nothing to be proud of. Over that period I've learnt more interesting techniques that I would like to try and see whether I can impove my model. This notebook is an attempt of systematic approach of how to deal with high dimension dataset and with different features type. I think, the data from House Price competition is ideal to practice those skills. Overall, preparation range anywhere from 60–80% of the total time spent on a Data Science project."
   ]
  },
  {
   "cell_type": "markdown",
   "metadata": {},
   "source": [
    "## Load the dataset"
   ]
  },
  {
   "cell_type": "code",
   "execution_count": null,
   "metadata": {
    "ExecuteTime": {
     "end_time": "2021-02-04T06:43:34.734340Z",
     "start_time": "2021-02-04T06:43:33.832310Z"
    }
   },
   "outputs": [],
   "source": [
    "import numpy as np\n",
    "import pandas as pd\n",
    "\n",
    "import missingno\n",
    "import matplotlib.pyplot as plt\n",
    "import matplotlib as mpl\n",
    "import seaborn as sns\n",
    "import plotly.graph_objects as go\n",
    "import plotly.express as px\n",
    "\n",
    "import scipy as sp\n",
    "from scipy.stats import skew\n",
    "\n",
    "import warnings\n",
    "warnings.filterwarnings(\"ignore\")"
   ]
  },
  {
   "cell_type": "code",
   "execution_count": null,
   "metadata": {
    "ExecuteTime": {
     "end_time": "2021-02-04T06:43:34.784311Z",
     "start_time": "2021-02-04T06:43:34.744309Z"
    }
   },
   "outputs": [],
   "source": [
    "# Load the training dataset\n",
    "train_df = pd.read_csv(\"train.csv\")\n",
    "train_df.head()"
   ]
  },
  {
   "cell_type": "code",
   "execution_count": null,
   "metadata": {
    "ExecuteTime": {
     "end_time": "2021-02-04T06:43:34.823312Z",
     "start_time": "2021-02-04T06:43:34.820310Z"
    }
   },
   "outputs": [],
   "source": [
    "# train_df.info()"
   ]
  },
  {
   "cell_type": "code",
   "execution_count": null,
   "metadata": {
    "ExecuteTime": {
     "end_time": "2021-02-04T06:43:34.978120Z",
     "start_time": "2021-02-04T06:43:34.975143Z"
    }
   },
   "outputs": [],
   "source": [
    "len(train_df)"
   ]
  },
  {
   "cell_type": "code",
   "execution_count": null,
   "metadata": {
    "ExecuteTime": {
     "end_time": "2021-02-04T06:43:35.549705Z",
     "start_time": "2021-02-04T06:43:35.526706Z"
    }
   },
   "outputs": [],
   "source": [
    "train_df[train_df.duplicated()]"
   ]
  },
  {
   "cell_type": "code",
   "execution_count": null,
   "metadata": {
    "ExecuteTime": {
     "end_time": "2021-02-04T06:43:35.877403Z",
     "start_time": "2021-02-04T06:43:35.862403Z"
    }
   },
   "outputs": [],
   "source": [
    "train_missing = train_df.isna().sum()\n",
    "\n",
    "train_missing = 100 * (train_missing[train_missing > 0] / len(train_df))\n",
    "train_missing"
   ]
  },
  {
   "cell_type": "code",
   "execution_count": null,
   "metadata": {
    "ExecuteTime": {
     "end_time": "2021-02-04T06:43:36.172131Z",
     "start_time": "2021-02-04T06:43:36.135133Z"
    }
   },
   "outputs": [],
   "source": [
    "# Load the test dataset\n",
    "test_df = pd.read_csv(\"test.csv\")\n",
    "test_df.head()"
   ]
  },
  {
   "cell_type": "code",
   "execution_count": null,
   "metadata": {
    "ExecuteTime": {
     "end_time": "2021-02-04T06:43:36.384836Z",
     "start_time": "2021-02-04T06:43:36.380805Z"
    }
   },
   "outputs": [],
   "source": [
    "#test_df.info()"
   ]
  },
  {
   "cell_type": "code",
   "execution_count": null,
   "metadata": {
    "ExecuteTime": {
     "end_time": "2021-02-04T06:43:36.709925Z",
     "start_time": "2021-02-04T06:43:36.685895Z"
    }
   },
   "outputs": [],
   "source": [
    "test_df[test_df.duplicated()]"
   ]
  },
  {
   "cell_type": "code",
   "execution_count": null,
   "metadata": {
    "ExecuteTime": {
     "end_time": "2021-02-04T06:43:37.000081Z",
     "start_time": "2021-02-04T06:43:36.990084Z"
    }
   },
   "outputs": [],
   "source": [
    "test_missing = test_df.isna().sum()\n",
    "\n",
    "test_missing = 100 * (test_missing[test_missing > 0] / len(test_df))\n",
    "test_missing"
   ]
  },
  {
   "cell_type": "markdown",
   "metadata": {},
   "source": [
    "### Check target column first"
   ]
  },
  {
   "cell_type": "code",
   "execution_count": null,
   "metadata": {
    "ExecuteTime": {
     "end_time": "2021-02-04T06:43:37.723755Z",
     "start_time": "2021-02-04T06:43:37.525756Z"
    }
   },
   "outputs": [],
   "source": [
    "fig, ax = plt.subplots(figsize=(10,4))\n",
    "sns.distplot(train_df['SalePrice'], bins=30, kde=True, ax=ax)"
   ]
  },
  {
   "cell_type": "code",
   "execution_count": null,
   "metadata": {
    "ExecuteTime": {
     "end_time": "2021-02-04T06:43:37.970755Z",
     "start_time": "2021-02-04T06:43:37.785756Z"
    }
   },
   "outputs": [],
   "source": [
    "# One way of doing it\n",
    "fig, ax = plt.subplots(figsize=(10,4))\n",
    "sns.distplot(np.log1p(train_df['SalePrice']), bins=30, kde=True, ax=ax);\n",
    "# Perform log transformation \n",
    "train_df['SalePrice'] = np.log1p(train_df['SalePrice'])"
   ]
  },
  {
   "cell_type": "code",
   "execution_count": null,
   "metadata": {
    "ExecuteTime": {
     "end_time": "2021-02-04T06:43:38.130284Z",
     "start_time": "2021-02-04T06:43:38.125308Z"
    }
   },
   "outputs": [],
   "source": [
    "train_df['SalePrice'].isna().sum()"
   ]
  },
  {
   "cell_type": "markdown",
   "metadata": {},
   "source": [
    "First of all I will concatenate these 2 dataframe for feature engineering. It will help me to avoid a problem where train and test dataset discrete features are different from each other."
   ]
  },
  {
   "cell_type": "code",
   "execution_count": null,
   "metadata": {
    "ExecuteTime": {
     "end_time": "2021-02-04T06:43:38.768581Z",
     "start_time": "2021-02-04T06:43:38.755581Z"
    }
   },
   "outputs": [],
   "source": [
    "# Concatenate train/test datasets\n",
    "df = pd.concat([train_df, test_df], axis=0)"
   ]
  },
  {
   "cell_type": "markdown",
   "metadata": {},
   "source": [
    "## Numerical Features"
   ]
  },
  {
   "cell_type": "code",
   "execution_count": null,
   "metadata": {
    "ExecuteTime": {
     "end_time": "2021-02-04T06:43:39.295479Z",
     "start_time": "2021-02-04T06:43:39.289450Z"
    }
   },
   "outputs": [],
   "source": [
    "# Change these features into object type\n",
    "change_type = ['MSSubClass','OverallQual','OverallCond','YearBuilt','YearRemodAdd','GarageYrBlt','MoSold','YrSold']\n",
    "\n",
    "for col in change_type:\n",
    "    df[col] = df[col].astype(\"object\")"
   ]
  },
  {
   "cell_type": "code",
   "execution_count": null,
   "metadata": {
    "ExecuteTime": {
     "end_time": "2021-02-04T06:43:39.639884Z",
     "start_time": "2021-02-04T06:43:39.581861Z"
    }
   },
   "outputs": [],
   "source": [
    "# Describe numeric columns\n",
    "df.drop(\"Id\", axis=1).describe(include=['number']).T"
   ]
  },
  {
   "cell_type": "code",
   "execution_count": null,
   "metadata": {
    "ExecuteTime": {
     "end_time": "2021-02-04T06:43:39.960974Z",
     "start_time": "2021-02-04T06:43:39.957975Z"
    }
   },
   "outputs": [],
   "source": [
    "num_feat = [x for x in df.columns if df[x].dtype !=\"object\"]\n",
    "\n",
    "num_feat.remove(\"Id\")"
   ]
  },
  {
   "cell_type": "code",
   "execution_count": null,
   "metadata": {
    "ExecuteTime": {
     "end_time": "2021-02-04T06:43:47.083313Z",
     "start_time": "2021-02-04T06:43:40.261315Z"
    }
   },
   "outputs": [],
   "source": [
    "# Correlation between numerical variables\n",
    "corr_matrix = df[num_feat].corr()\n",
    "plt.figure(figsize=(16,12))\n",
    "sns.heatmap(corr_matrix.T, annot=True, cbar=False, cmap='coolwarm');"
   ]
  },
  {
   "cell_type": "code",
   "execution_count": null,
   "metadata": {
    "ExecuteTime": {
     "end_time": "2021-02-04T06:43:48.204289Z",
     "start_time": "2021-02-04T06:43:47.188289Z"
    }
   },
   "outputs": [],
   "source": [
    "# Correlated variables greater than 0.8\n",
    "corr_matrix = df[num_feat].corr()\n",
    "plt.figure(figsize=(12,12))\n",
    "sns.heatmap(corr_matrix.T, annot=True, mask= corr_matrix < 0.8 ,cbar=False, cmap='coolwarm');"
   ]
  },
  {
   "cell_type": "markdown",
   "metadata": {},
   "source": [
    "Let's check how these correlated variables to each other are correlated to the target column, so I can decide which of them remove from further analysis."
   ]
  },
  {
   "cell_type": "code",
   "execution_count": null,
   "metadata": {
    "ExecuteTime": {
     "end_time": "2021-02-04T06:43:48.628318Z",
     "start_time": "2021-02-04T06:43:48.312289Z"
    }
   },
   "outputs": [],
   "source": [
    "price_corr_ser = df[num_feat].corr()['SalePrice']\n",
    "price_corr_ser = price_corr_ser.sort_values(ascending=False)\n",
    "price_corr_ser = price_corr_ser.drop(\"SalePrice\")\n",
    "\n",
    "fig, ax = plt.subplots(figsize=(10,12))\n",
    "sns.barplot(x=price_corr_ser.values, y=price_corr_ser.index, palette=\"rocket_r\")\n",
    "plt.title(\"Numeric Feature Correlation with Traget Column\");"
   ]
  },
  {
   "cell_type": "code",
   "execution_count": null,
   "metadata": {
    "ExecuteTime": {
     "end_time": "2021-02-04T06:43:48.738290Z",
     "start_time": "2021-02-04T06:43:48.733289Z"
    }
   },
   "outputs": [],
   "source": [
    "# Remove one of the highly correlated variables\n",
    "high_correlated_var = [\"GarageArea\",'1stFlrSF','TotRmsAbvGrd']\n",
    "df = df.drop(high_correlated_var, axis=1)\n",
    "\n",
    "# Remove it from list of numeric columns\n",
    "for c in high_correlated_var:\n",
    "    num_feat.remove(c)"
   ]
  },
  {
   "cell_type": "markdown",
   "metadata": {},
   "source": [
    "### Distribution of numeric features"
   ]
  },
  {
   "cell_type": "code",
   "execution_count": null,
   "metadata": {
    "ExecuteTime": {
     "end_time": "2021-02-04T06:43:57.187556Z",
     "start_time": "2021-02-04T06:43:48.846289Z"
    }
   },
   "outputs": [],
   "source": [
    "# Plot distribution of numeric variables\n",
    "fig = plt.figure(figsize=(20,20))\n",
    "\n",
    "for i in range(len(num_feat)):\n",
    "    plt.subplot(14,5, i+1)\n",
    "    sns.distplot(df[num_feat[i]], rug=True, hist=False, kde_kws={'bw':0.1})\n",
    "    plt.title(num_feat[i])\n",
    "    plt.xlabel(\"Value\")\n",
    "    plt.ylabel(\"Count\")\n",
    "    plt.tight_layout()\n",
    "fig.show()"
   ]
  },
  {
   "cell_type": "code",
   "execution_count": null,
   "metadata": {
    "ExecuteTime": {
     "end_time": "2021-02-04T06:44:03.868635Z",
     "start_time": "2021-02-04T06:43:57.293535Z"
    }
   },
   "outputs": [],
   "source": [
    "# Visualize relation between numeric features and target column\n",
    "fig = plt.figure(figsize=(20,20))\n",
    "# numeric_df = num_df.drop('SalePrice', axis=1)\n",
    "\n",
    "for i, col in enumerate(df[num_feat].columns):\n",
    "    plt.subplot(12,5, i+1)\n",
    "    sns.scatterplot(x=df[col], y=df['SalePrice'])\n",
    "    plt.tight_layout()\n",
    "    \n",
    "fig.show()"
   ]
  },
  {
   "cell_type": "markdown",
   "metadata": {},
   "source": [
    "### Numerical outliers"
   ]
  },
  {
   "cell_type": "code",
   "execution_count": null,
   "metadata": {
    "ExecuteTime": {
     "end_time": "2021-02-04T06:44:04.312673Z",
     "start_time": "2021-02-04T06:44:03.973637Z"
    }
   },
   "outputs": [],
   "source": [
    "fig = plt.figure(figsize=(24,15))\n",
    "\n",
    "plt.subplot(4,3,1)\n",
    "sns.distplot(df[\"LotArea\"])\n",
    "\n",
    "plt.subplot(4,3,2)\n",
    "sns.scatterplot(x=\"LotArea\", y=\"SalePrice\", data=df)"
   ]
  },
  {
   "cell_type": "code",
   "execution_count": null,
   "metadata": {
    "ExecuteTime": {
     "end_time": "2021-02-04T06:44:04.423698Z",
     "start_time": "2021-02-04T06:44:04.416671Z"
    }
   },
   "outputs": [],
   "source": [
    "df[\"LotArea\"].describe()"
   ]
  },
  {
   "cell_type": "markdown",
   "metadata": {},
   "source": [
    "I will remove outliers from this continues numeric column later on as it would effect my test dataset for submission if I do it now."
   ]
  },
  {
   "cell_type": "markdown",
   "metadata": {},
   "source": [
    "**PoolArea**"
   ]
  },
  {
   "cell_type": "code",
   "execution_count": null,
   "metadata": {
    "ExecuteTime": {
     "end_time": "2021-02-04T06:44:12.433120Z",
     "start_time": "2021-02-04T06:44:12.422123Z"
    }
   },
   "outputs": [],
   "source": [
    "# Create binary column 1 if the house has a pool, 0 if not\n",
    "df['isPool'] = df['PoolArea'].apply(lambda x: 0 if x == 0 else 1)\n",
    "df['isPool'] = df['isPool'].astype(\"object\")\n",
    "df = df.drop('PoolArea',axis=1)\n",
    "num_feat.remove(\"PoolArea\")"
   ]
  },
  {
   "cell_type": "markdown",
   "metadata": {},
   "source": [
    "**totalPorch**"
   ]
  },
  {
   "cell_type": "code",
   "execution_count": null,
   "metadata": {
    "ExecuteTime": {
     "end_time": "2021-02-04T06:44:13.358762Z",
     "start_time": "2021-02-04T06:44:13.343762Z"
    }
   },
   "outputs": [],
   "source": [
    "# create a new column where I concatenate all Porch columns\n",
    "porch_col = ['OpenPorchSF','EnclosedPorch', '3SsnPorch', 'ScreenPorch']\n",
    "\n",
    "df['totalPorch'] = np.zeros(len(df)).reshape(len(df),1)\n",
    "\n",
    "for col in porch_col:\n",
    "    df['totalPorch'] += df[col]\n",
    "    \n",
    "# Remove porch col from dataset\n",
    "for c in porch_col:\n",
    "    df.drop(c, axis=1, inplace=True)\n",
    "\n",
    "# Remove it from the list of numerical columns\n",
    "to_remove = [\"OpenPorchSF\", \"EnclosedPorch\", \"3SsnPorch\", \"ScreenPorch\"]\n",
    "for c in to_remove:\n",
    "    num_feat.remove(c)\n",
    "\n",
    "# Add column to the list of numeric\n",
    "num_feat.append(\"totalPorch\")"
   ]
  },
  {
   "cell_type": "markdown",
   "metadata": {},
   "source": [
    "**Bathroom columns**"
   ]
  },
  {
   "cell_type": "code",
   "execution_count": null,
   "metadata": {
    "ExecuteTime": {
     "end_time": "2021-02-04T06:44:14.164013Z",
     "start_time": "2021-02-04T06:44:14.149035Z"
    }
   },
   "outputs": [],
   "source": [
    "# Create new columns and drop relevant ones\n",
    "df[\"TotBathAbvGrade\"] = df[\"FullBath\"] + (0.5 * df[\"HalfBath\"])\n",
    "df[\"TotBsmtBath\"] = df[\"BsmtFullBath\"] + (0.5 * df[\"BsmtHalfBath\"])\n",
    "\n",
    "# Remove columns\n",
    "to_remove = [\"FullBath\",\"HalfBath\",\"BsmtFullBath\", \"BsmtHalfBath\"]\n",
    "\n",
    "for col in to_remove:\n",
    "    df.drop(col, axis=1, inplace=True)\n",
    "    num_feat.remove(col)\n",
    "\n",
    "# Append new ones to the numeric columns\n",
    "num_feat.append(\"TotBathAbvGrade\")\n",
    "num_feat.append(\"TotBsmtBath\")"
   ]
  },
  {
   "cell_type": "markdown",
   "metadata": {},
   "source": [
    "Columns LotFrontage(Linear feet of street connected to property) and LotArea(Lot size in square feet) are highly correlated, so I will drop feature with missing values."
   ]
  },
  {
   "cell_type": "code",
   "execution_count": null,
   "metadata": {
    "ExecuteTime": {
     "end_time": "2021-02-04T06:44:14.947171Z",
     "start_time": "2021-02-04T06:44:14.942202Z"
    }
   },
   "outputs": [],
   "source": [
    "# Remove useless numerical column\n",
    "df.drop(\"LotFrontage\", axis=1, inplace=True)\n",
    "num_feat.remove(\"LotFrontage\")"
   ]
  },
  {
   "cell_type": "code",
   "execution_count": null,
   "metadata": {
    "ExecuteTime": {
     "end_time": "2021-02-04T06:44:18.806169Z",
     "start_time": "2021-02-04T06:44:15.342200Z"
    }
   },
   "outputs": [],
   "source": [
    "# Create a plot again\n",
    "fig = plt.figure(figsize=(15,15))\n",
    "\n",
    "for i, col in enumerate(num_feat):\n",
    "    plt.subplot(12,5, i+1)\n",
    "    sns.scatterplot(x=df[col], y='SalePrice', data=df)\n",
    "    plt.tight_layout()\n",
    "\n",
    "fig.show()"
   ]
  },
  {
   "cell_type": "markdown",
   "metadata": {},
   "source": [
    "### Missing values in numeric features"
   ]
  },
  {
   "cell_type": "markdown",
   "metadata": {},
   "source": [
    "The only numerical column left with some missing values (less than 1%) so I will fill them with a mean of the column. I don't need to fill missing values in SalePrice Columns."
   ]
  },
  {
   "cell_type": "code",
   "execution_count": null,
   "metadata": {
    "ExecuteTime": {
     "end_time": "2021-02-04T06:44:19.311170Z",
     "start_time": "2021-02-04T06:44:18.911170Z"
    }
   },
   "outputs": [],
   "source": [
    "# Show missing values\n",
    "missingno.matrix(df[num_feat], figsize=(20,4))"
   ]
  },
  {
   "cell_type": "code",
   "execution_count": null,
   "metadata": {
    "ExecuteTime": {
     "end_time": "2021-02-04T06:44:19.410170Z",
     "start_time": "2021-02-04T06:44:19.408170Z"
    }
   },
   "outputs": [],
   "source": [
    "# Remove SalePrice temporary\n",
    "num_feat.remove(\"SalePrice\")"
   ]
  },
  {
   "cell_type": "code",
   "execution_count": null,
   "metadata": {
    "ExecuteTime": {
     "end_time": "2021-02-04T06:44:20.101170Z",
     "start_time": "2021-02-04T06:44:19.511198Z"
    }
   },
   "outputs": [],
   "source": [
    "from sklearn.impute import SimpleImputer\n",
    "\n",
    "imp = SimpleImputer(missing_values=np.nan, strategy='median')\n",
    "imp.fit(df[num_feat])\n",
    "df[num_feat] = imp.transform(df[num_feat])"
   ]
  },
  {
   "cell_type": "code",
   "execution_count": null,
   "metadata": {
    "ExecuteTime": {
     "end_time": "2021-02-04T06:44:20.259169Z",
     "start_time": "2021-02-04T06:44:20.204170Z"
    }
   },
   "outputs": [],
   "source": [
    "for col in df[num_feat]:\n",
    "    df[col] = df[col].apply(lambda x: np.log1p(x))\n",
    "    \n",
    "# Append SalePrice back to numeric columns\n",
    "num_feat.append(\"SalePrice\")"
   ]
  },
  {
   "cell_type": "markdown",
   "metadata": {},
   "source": [
    "## Categorical features"
   ]
  },
  {
   "cell_type": "markdown",
   "metadata": {},
   "source": [
    "#### Missing Values in Categorical"
   ]
  },
  {
   "cell_type": "code",
   "execution_count": null,
   "metadata": {
    "ExecuteTime": {
     "end_time": "2021-02-04T06:45:27.432200Z",
     "start_time": "2021-02-04T06:44:20.365172Z"
    }
   },
   "outputs": [],
   "source": [
    "# List of categorical columns\n",
    "cat_feat = [x for x in df.columns if df[x].dtype == \"object\"]\n",
    "\n",
    "# Create a multi plot with categorical features\n",
    "fig = plt.figure(figsize=(18, 30))\n",
    "\n",
    "for i , col in enumerate(cat_feat):\n",
    "    plt.subplot(12,5, i+1)\n",
    "    sns.boxplot(x=col, y='SalePrice', data=df)\n",
    "    plt.ylabel(\"Log() SalePrice\")\n",
    "    plt.tight_layout()\n",
    "    \n",
    "fig.show()"
   ]
  },
  {
   "cell_type": "markdown",
   "metadata": {},
   "source": [
    "There are some features that are useless(to many variables or the same information). First, I will try to create new features from them."
   ]
  },
  {
   "cell_type": "code",
   "execution_count": null,
   "metadata": {
    "ExecuteTime": {
     "end_time": "2021-02-04T06:45:27.834347Z",
     "start_time": "2021-02-04T06:45:27.539171Z"
    }
   },
   "outputs": [],
   "source": [
    "cat_missing = df[cat_feat].isna().sum()\n",
    "\n",
    "cat_missing = 100 * (cat_missing[cat_missing > 0] / len(df[cat_feat]))\n",
    "\n",
    "plt.figure(figsize=(10,5))\n",
    "sns.barplot(x= cat_missing.sort_values(ascending=False).values, y= cat_missing.sort_values(ascending=False).index)\n",
    "plt.title(\"Missing Categorical Values in %\");"
   ]
  },
  {
   "cell_type": "markdown",
   "metadata": {},
   "source": [
    "#### Missing data in categorical columns"
   ]
  },
  {
   "cell_type": "markdown",
   "metadata": {},
   "source": [
    "There are many methods to impute data, some of them are very sophisticated, but there is one flaw, we impute artificially created values. In case of categorical variables imputing mode of a column could be one of them, but I will fill missing values with a string \"None\" so I could retain the orginal information."
   ]
  },
  {
   "cell_type": "code",
   "execution_count": null,
   "metadata": {
    "ExecuteTime": {
     "end_time": "2021-02-04T06:45:27.964341Z",
     "start_time": "2021-02-04T06:45:27.937339Z"
    }
   },
   "outputs": [],
   "source": [
    "# Fill missing values in categorical columns with a string\n",
    "for col in cat_feat:\n",
    "    if df[col].isna().sum() > 0:\n",
    "        df[col] = df[col].fillna(value=\"NA\")\n",
    "    else:\n",
    "        continue"
   ]
  },
  {
   "cell_type": "code",
   "execution_count": null,
   "metadata": {
    "ExecuteTime": {
     "end_time": "2021-02-04T06:45:28.267723Z",
     "start_time": "2021-02-04T06:45:28.071613Z"
    }
   },
   "outputs": [],
   "source": [
    "missingno.matrix(df[cat_feat], figsize=(20,4))"
   ]
  },
  {
   "cell_type": "code",
   "execution_count": null,
   "metadata": {
    "ExecuteTime": {
     "end_time": "2021-02-04T06:45:28.372694Z",
     "start_time": "2021-02-04T06:45:28.370727Z"
    }
   },
   "outputs": [],
   "source": [
    "# for col in cat_missing.columns:\n",
    "    # print(f\" Column '{col}' has unique values {df[col].unique()}\")"
   ]
  },
  {
   "cell_type": "code",
   "execution_count": null,
   "metadata": {
    "ExecuteTime": {
     "end_time": "2021-02-04T06:45:28.495744Z",
     "start_time": "2021-02-04T06:45:28.481768Z"
    }
   },
   "outputs": [],
   "source": [
    "cat_missing = df[cat_feat].isna().sum()\n",
    "\n",
    "cat_missing = 100 * (cat_missing[cat_missing > 0] / len(df[cat_feat]))\n",
    "\n",
    "cat_missing"
   ]
  },
  {
   "cell_type": "markdown",
   "metadata": {},
   "source": [
    "### Feature engineering for categorical variables"
   ]
  },
  {
   "cell_type": "markdown",
   "metadata": {},
   "source": [
    "**GarageYrBlt column**"
   ]
  },
  {
   "cell_type": "code",
   "execution_count": null,
   "metadata": {
    "ExecuteTime": {
     "end_time": "2021-02-04T06:45:28.791975Z",
     "start_time": "2021-02-04T06:45:28.600972Z"
    }
   },
   "outputs": [],
   "source": [
    "# Creating new series \n",
    "is_garage = df['GarageYrBlt'].apply(lambda x: 1 if x != \"NA\" else 0)\n",
    "\n",
    "# Plot new series\n",
    "fig, axes = plt.subplots(nrows=1, ncols=2, figsize=(12,4))\n",
    "\n",
    "sns.countplot(is_garage, ax=axes[0])\n",
    "sns.boxplot(x=is_garage.values, y='SalePrice', data=df, ax=axes[1])\n",
    "\n",
    "axes[0].set_xlabel(\"Is Garage\")\n",
    "axes[0].set_ylabel(\"SalePrice \")\n",
    "\n",
    "axes[1].set_xlabel(\"Is Garage\")\n",
    "axes[1].set_ylabel(\"SalePrice \");"
   ]
  },
  {
   "cell_type": "code",
   "execution_count": null,
   "metadata": {
    "ExecuteTime": {
     "end_time": "2021-02-04T06:45:28.901942Z",
     "start_time": "2021-02-04T06:45:28.896967Z"
    }
   },
   "outputs": [],
   "source": [
    "to_remove = []\n",
    "# Add to the list of columns to remove\n",
    "to_remove.append(\"GarageYrBlt\")\n",
    "\n",
    "# Create new column from GaragYrBlt\n",
    "df['isGarage'] = is_garage.astype('object')\n",
    "cat_feat.append(\"isGarage\")"
   ]
  },
  {
   "cell_type": "markdown",
   "metadata": {},
   "source": [
    "**YearRemodAdd column**"
   ]
  },
  {
   "cell_type": "code",
   "execution_count": null,
   "metadata": {
    "ExecuteTime": {
     "end_time": "2021-02-04T06:45:29.015961Z",
     "start_time": "2021-02-04T06:45:29.011942Z"
    }
   },
   "outputs": [],
   "source": [
    "df['YearRemodAdd'].unique()\n",
    "to_remove.append(\"YearRemodAdd\")"
   ]
  },
  {
   "cell_type": "markdown",
   "metadata": {},
   "source": [
    "I don't see any value from this column, therefore I will drop it later on."
   ]
  },
  {
   "cell_type": "markdown",
   "metadata": {},
   "source": [
    "**YearBuilt & YrSold columns**"
   ]
  },
  {
   "cell_type": "code",
   "execution_count": null,
   "metadata": {
    "ExecuteTime": {
     "end_time": "2021-02-04T06:45:29.130943Z",
     "start_time": "2021-02-04T06:45:29.126976Z"
    }
   },
   "outputs": [],
   "source": [
    "# Create a series of how old a house was when sold\n",
    "how_old = (df['YrSold'].astype(int) - df['YearBuilt'].astype(int))\n",
    "\n",
    "# New column from \n",
    "df['Old_in_Years'] = pd.Series(how_old)\n",
    "# Update to numertic list\n",
    "num_feat.append(\"Old_in_Years\")\n",
    "\n",
    "# Add columns for remove\n",
    "to_remove.append('YrSold')\n",
    "to_remove.append('YearBuilt')"
   ]
  },
  {
   "cell_type": "code",
   "execution_count": null,
   "metadata": {
    "ExecuteTime": {
     "end_time": "2021-02-04T06:45:43.723369Z",
     "start_time": "2021-02-04T06:45:43.454376Z"
    }
   },
   "outputs": [],
   "source": [
    "fig = plt.figure(figsize=(18,10))\n",
    "\n",
    "# Distribution of new column\n",
    "plt.subplot(4,2, 1)\n",
    "sns.distplot(df['Old_in_Years'])\n",
    "plt.ylabel(\"count\")\n",
    "\n",
    "# Scatterplot of new column\n",
    "plt.subplot(4,2, 2)\n",
    "sns.scatterplot(x=df['Old_in_Years'].values, y='SalePrice', data=df)\n",
    "\n",
    "# Labels\n",
    "plt.xlabel(\"Old in Years\")\n",
    "plt.ylabel(\"SalePrice\");"
   ]
  },
  {
   "cell_type": "markdown",
   "metadata": {},
   "source": [
    "I'm not sure if creating another column from two old ones will improve my model or it will carry the same information as newly created numerical one? If someone can clear that for me that would be great. For now I won't create it."
   ]
  },
  {
   "cell_type": "code",
   "execution_count": null,
   "metadata": {
    "ExecuteTime": {
     "end_time": "2021-02-04T06:45:45.297324Z",
     "start_time": "2021-02-04T06:45:45.293323Z"
    }
   },
   "outputs": [],
   "source": [
    "to_remove"
   ]
  },
  {
   "cell_type": "markdown",
   "metadata": {},
   "source": [
    "**Condition1 & Condition2 columns**"
   ]
  },
  {
   "cell_type": "code",
   "execution_count": null,
   "metadata": {
    "ExecuteTime": {
     "end_time": "2021-02-04T06:45:47.546673Z",
     "start_time": "2021-02-04T06:45:47.541675Z"
    }
   },
   "outputs": [],
   "source": [
    "df['Condition1'].value_counts()"
   ]
  },
  {
   "cell_type": "code",
   "execution_count": null,
   "metadata": {
    "ExecuteTime": {
     "end_time": "2021-02-04T06:45:48.204808Z",
     "start_time": "2021-02-04T06:45:48.197782Z"
    }
   },
   "outputs": [],
   "source": [
    "df['Condition2'].value_counts()"
   ]
  },
  {
   "cell_type": "code",
   "execution_count": null,
   "metadata": {
    "ExecuteTime": {
     "end_time": "2021-02-04T06:45:58.961891Z",
     "start_time": "2021-02-04T06:45:58.764892Z"
    }
   },
   "outputs": [],
   "source": [
    "fig = plt.figure(figsize=(18,10))\n",
    "\n",
    "condition1 = df['Condition1'].apply(lambda x: x if x == \"Norm\" else \"Other\")\n",
    "\n",
    "plt.subplot(3,2, 1)\n",
    "sns.countplot(condition1)\n",
    "\n",
    "plt.subplot(3,2, 2)\n",
    "sns.boxplot(x=condition1.values, y='SalePrice', data=df);"
   ]
  },
  {
   "cell_type": "code",
   "execution_count": null,
   "metadata": {
    "ExecuteTime": {
     "end_time": "2021-02-04T06:46:03.005156Z",
     "start_time": "2021-02-04T06:46:02.845132Z"
    }
   },
   "outputs": [],
   "source": [
    "fig = plt.figure(figsize=(18,10))\n",
    "\n",
    "condition2 = df['Condition2'].apply(lambda x: x if x == \"Norm\" else \"Other\")\n",
    "\n",
    "plt.subplot(4,2, 1)\n",
    "sns.countplot(condition2)\n",
    "\n",
    "plt.subplot(4,2,2)\n",
    "sns.boxplot(x=condition2.values, y='SalePrice', data=df);"
   ]
  },
  {
   "cell_type": "markdown",
   "metadata": {},
   "source": [
    "I think, that the only reason doing it is to reduce dimensionality of our dataframe. I am going to to keep these columns in unchange form now."
   ]
  },
  {
   "cell_type": "markdown",
   "metadata": {},
   "source": [
    "### Nominal and Ordinal Columns"
   ]
  },
  {
   "cell_type": "markdown",
   "metadata": {},
   "source": [
    "Some of the categorical columns have nominal or ordinal values and that needs to be addressed. As a remminder, nominal data is when we can only classify the data, while ordinal data can be classified and ordered."
   ]
  },
  {
   "cell_type": "markdown",
   "metadata": {},
   "source": [
    "**Ordinal values**"
   ]
  },
  {
   "cell_type": "code",
   "execution_count": null,
   "metadata": {
    "ExecuteTime": {
     "end_time": "2021-02-04T06:46:09.431414Z",
     "start_time": "2021-02-04T06:46:09.421415Z"
    }
   },
   "outputs": [],
   "source": [
    "ordinal_feat = ['OverallQual','OverallCond','ExterQual','ExterCond', 'BsmtQual', 'BsmtCond', 'BsmtExposure','BsmtFinType1',\n",
    "               'BsmtFinType2','HeatingQC', 'KitchenQual', 'FireplaceQu', 'GarageQual','GarageCond','PoolQC']\n",
    "\n",
    "df['BsmtExposure'] = df['BsmtExposure'].apply(lambda x: x if x !='No' else \"NA\")\n",
    "\n",
    "for col in ordinal_feat:\n",
    "    # Remove ordinal from list  \n",
    "    cat_feat.remove(col)\n",
    "        \n",
    "    print(f\" Column '{col}' has unique values {df[col].unique()}\")"
   ]
  },
  {
   "cell_type": "code",
   "execution_count": null,
   "metadata": {
    "ExecuteTime": {
     "end_time": "2021-02-04T06:46:27.439084Z",
     "start_time": "2021-02-04T06:46:27.397082Z"
    }
   },
   "outputs": [],
   "source": [
    "# Map ordinal columns and change their type\n",
    "ord_map = {\"NA\":0, \"Po\":1, \"Fa\":2, \"TA\":3, \"Gd\":4,\"Ex\":5}\n",
    "ord_map1 = {\"NA\":0, \"Unf\":1, \"LwQ\":2, \"Rec\":3, \"BLQ\":4, \"ALQ\":5, \"GLQ\":6}\n",
    "ord_map2 = {\"NA\":0, \"No\":1, \"Mn\":2, \"Av\":3, \"Gd\":4}\n",
    "\n",
    "for col in ordinal_feat:\n",
    "        \n",
    "    if len(df[col].unique()) <= 6 and col !=\"BsmtExposure\":\n",
    "        df[col] = df[col].map(ord_map)\n",
    "        df[col] = df[col].astype(int)\n",
    "        \n",
    "    elif col in ['OverallQual', 'OverallCond']:\n",
    "        df[col] = df[col].astype(int)\n",
    "        \n",
    "    elif df[col].name in ['BsmtFinType1', 'BsmtFinType2']:\n",
    "        df[col] = df[col].map(ord_map1)\n",
    "        df[col] = df[col].astype(int)\n",
    "        \n",
    "    else:\n",
    "        df[col] = df[col].map(ord_map2) \n",
    "        df[col] = df[col].astype(int)\n",
    "        \n",
    "for col in ordinal_feat:\n",
    "    # Append nominal features to the numerical features\n",
    "    num_feat.append(col)\n",
    "    print(f\" Column '{col}' has unique values :{df[col].unique()}, dtype: {df[col].dtypes}\")\n",
    "    "
   ]
  },
  {
   "cell_type": "code",
   "execution_count": null,
   "metadata": {
    "ExecuteTime": {
     "end_time": "2021-02-04T06:46:57.048433Z",
     "start_time": "2021-02-04T06:46:57.037440Z"
    }
   },
   "outputs": [],
   "source": [
    "# Let's remove some categorical columns we do not need anymore\n",
    "for col in to_remove:\n",
    "    df.drop(col, axis=1, inplace=True)\n",
    "    cat_feat.remove(col)"
   ]
  },
  {
   "cell_type": "markdown",
   "metadata": {},
   "source": [
    "####  Check numerical features correlation again"
   ]
  },
  {
   "cell_type": "code",
   "execution_count": null,
   "metadata": {
    "ExecuteTime": {
     "end_time": "2021-02-04T06:47:34.239811Z",
     "start_time": "2021-02-04T06:47:32.949777Z"
    }
   },
   "outputs": [],
   "source": [
    "plt.figure(figsize=(14,12))\n",
    "\n",
    "sns.heatmap(df[num_feat].corr(), mask= df[num_feat].corr()  < 0.8 , cbar=False, cmap='coolwarm', annot=True);"
   ]
  },
  {
   "cell_type": "markdown",
   "metadata": {},
   "source": [
    "I introduce correlation between features when I converted some ordinal features and I need to remove one of the correlated feature. There is also high correlation between \"SalePrice\" and \"OverallQual\" (0.817185) but this is all right."
   ]
  },
  {
   "cell_type": "code",
   "execution_count": null,
   "metadata": {
    "ExecuteTime": {
     "end_time": "2021-02-04T06:47:59.777779Z",
     "start_time": "2021-02-04T06:47:59.764801Z"
    }
   },
   "outputs": [],
   "source": [
    "corr_to_remove = ['GarageCond', 'FireplaceQu', 'BsmtFinType1','BsmtFinType2','BsmtCond',]\n",
    "\n",
    "for col in corr_to_remove:\n",
    "    df = df.drop(col, axis=1)\n",
    "    num_feat.remove(col)\n",
    "    ordinal_feat.remove(col)"
   ]
  },
  {
   "cell_type": "markdown",
   "metadata": {},
   "source": [
    "**Nominal values**"
   ]
  },
  {
   "cell_type": "markdown",
   "metadata": {},
   "source": [
    "Different methods can be apply to convert nominal variables into numbers so I future algorithm can work with them. All of them have prons and cons but I am not going to write about it here. One of the simpliest and easy to understand is pandas \"get_dummies\" method, however you need to remember not to indroduce nulticollinearity what is also called (dummy trap). "
   ]
  },
  {
   "cell_type": "code",
   "execution_count": null,
   "metadata": {
    "ExecuteTime": {
     "end_time": "2021-02-04T06:48:12.274055Z",
     "start_time": "2021-02-04T06:48:12.205059Z"
    }
   },
   "outputs": [],
   "source": [
    "# Create dummy variables \n",
    "dummy_df = pd.get_dummies(df[cat_feat], drop_first=True)\n",
    "\n",
    "for col in cat_feat:\n",
    "    df.drop(col, axis=1, inplace=True)\n",
    "    \n",
    "df_with_dummies = pd.concat([df, dummy_df], axis=1)"
   ]
  },
  {
   "cell_type": "markdown",
   "metadata": {},
   "source": [
    "Second method for converting nominal categorical variables is OneHotEncode, but I am not going to use it in this notebook. Another common method used by practitioners is Label Encoding which suits more with variables who have some sort of order. "
   ]
  },
  {
   "cell_type": "markdown",
   "metadata": {},
   "source": [
    "**Now, this is very important that we split dataset back into test and train dataset before we scale the data.**"
   ]
  },
  {
   "cell_type": "code",
   "execution_count": null,
   "metadata": {
    "ExecuteTime": {
     "end_time": "2021-02-04T06:48:15.117760Z",
     "start_time": "2021-02-04T06:48:15.108759Z"
    }
   },
   "outputs": [],
   "source": [
    "# Split dataframe into test/train dataset\n",
    "clean_train_df = df_with_dummies[df_with_dummies[\"SalePrice\"] > 0].copy()\n",
    "clean_test_df = df_with_dummies[df_with_dummies[\"SalePrice\"].isna()].copy()\n",
    "\n",
    "# Drop SalePrice column from test set\n",
    "clean_test_df.drop(\"SalePrice\", axis=1, inplace=True)"
   ]
  },
  {
   "cell_type": "code",
   "execution_count": null,
   "metadata": {
    "ExecuteTime": {
     "end_time": "2021-02-04T06:48:21.730369Z",
     "start_time": "2021-02-04T06:48:21.725398Z"
    }
   },
   "outputs": [],
   "source": [
    "clean_test_df.shape, clean_train_df.shape"
   ]
  },
  {
   "cell_type": "markdown",
   "metadata": {},
   "source": [
    "**Skewness**"
   ]
  },
  {
   "cell_type": "code",
   "execution_count": null,
   "metadata": {
    "ExecuteTime": {
     "end_time": "2021-02-04T06:48:38.800910Z",
     "start_time": "2021-02-04T06:48:38.788935Z"
    }
   },
   "outputs": [],
   "source": [
    "skewed_features = clean_train_df[num_feat].skew().sort_values(ascending=False)\n",
    "skewed_features = skewed_features[skewed_features > 0.5]\n",
    "skewed_index = skewed_features.index"
   ]
  },
  {
   "cell_type": "code",
   "execution_count": null,
   "metadata": {
    "ExecuteTime": {
     "end_time": "2021-02-04T06:48:41.519474Z",
     "start_time": "2021-02-04T06:48:41.269450Z"
    }
   },
   "outputs": [],
   "source": [
    "fig = plt.figure(figsize=(12,4), dpi=120)\n",
    "skewed_features.sort_values(ascending=False).plot(kind='bar')\n",
    "plt.xticks(rotation=45)\n",
    "plt.xticks(horizontalalignment=\"right\")\n",
    "plt.title(\"Skewed Feature above 0.5 upper limit\")\n",
    "plt.tight_layout();"
   ]
  },
  {
   "cell_type": "markdown",
   "metadata": {},
   "source": [
    "First of all I will remove highly skewed features from dataset and then trim off the rest of them by 0.5 limit. Acceptable values for skewness are between -0.5 and 0.5 while -2 and 2 for Kurtosis."
   ]
  },
  {
   "cell_type": "code",
   "execution_count": null,
   "metadata": {
    "ExecuteTime": {
     "end_time": "2021-02-04T07:10:35.818623Z",
     "start_time": "2021-02-04T07:10:35.809622Z"
    }
   },
   "outputs": [],
   "source": [
    "right_skewness_col = ['PoolQC', 'LowQualFinSF']\n",
    "for col in right_skewness_col:\n",
    "    clean_train_df.drop(col, axis=1, inplace=True)\n",
    "    clean_test_df.drop(col, axis=1, inplace= True)\n",
    "    num_feat.remove(col)"
   ]
  },
  {
   "cell_type": "code",
   "execution_count": null,
   "metadata": {
    "ExecuteTime": {
     "end_time": "2021-02-04T07:10:40.117130Z",
     "start_time": "2021-02-04T07:10:40.113126Z"
    }
   },
   "outputs": [],
   "source": [
    "skewed_index = skewed_index.drop(['PoolQC','LowQualFinSF'])"
   ]
  },
  {
   "cell_type": "code",
   "execution_count": null,
   "metadata": {
    "ExecuteTime": {
     "end_time": "2021-02-04T07:10:47.285654Z",
     "start_time": "2021-02-04T07:10:47.280655Z"
    }
   },
   "outputs": [],
   "source": [
    "skewed_index"
   ]
  },
  {
   "cell_type": "code",
   "execution_count": null,
   "metadata": {
    "ExecuteTime": {
     "end_time": "2021-02-04T07:10:53.754424Z",
     "start_time": "2021-02-04T07:10:53.728394Z"
    }
   },
   "outputs": [],
   "source": [
    "for col in skewed_index:\n",
    "    q3 = np.quantile(clean_train_df[col], 0.75)\n",
    "    q1 = np.quantile(clean_train_df[col], 0.25)\n",
    "    iqr = q3 - q1\n",
    "    # Upper limit for outliers\n",
    "    upper_limit = q3 + (1.5*iqr)\n",
    "    col_limit =  clean_train_df[col].apply(lambda x: x <= upper_limit)\n",
    "    clean_train_df = clean_train_df[col_limit]"
   ]
  },
  {
   "cell_type": "code",
   "execution_count": null,
   "metadata": {
    "ExecuteTime": {
     "end_time": "2021-02-04T07:11:01.430328Z",
     "start_time": "2021-02-04T07:11:01.424327Z"
    }
   },
   "outputs": [],
   "source": [
    "clean_train_df.shape"
   ]
  },
  {
   "cell_type": "code",
   "execution_count": null,
   "metadata": {
    "ExecuteTime": {
     "end_time": "2021-02-04T07:11:07.583840Z",
     "start_time": "2021-02-04T07:11:07.576836Z"
    }
   },
   "outputs": [],
   "source": [
    "# Save id column for submission\n",
    "row_id = pd.Series(clean_test_df[\"Id\"])\n",
    "clean_train_df = clean_train_df.drop(\"Id\", axis=1).astype(\"float64\")\n",
    "clean_test_df = clean_test_df.drop(\"Id\", axis=1).astype(\"float64\")"
   ]
  },
  {
   "cell_type": "code",
   "execution_count": null,
   "metadata": {
    "ExecuteTime": {
     "end_time": "2021-02-04T07:15:04.553656Z",
     "start_time": "2021-02-04T07:15:04.529681Z"
    }
   },
   "outputs": [],
   "source": [
    "clean_train_df"
   ]
  },
  {
   "cell_type": "markdown",
   "metadata": {},
   "source": [
    "## Splitting and standarization of the data"
   ]
  },
  {
   "cell_type": "code",
   "execution_count": null,
   "metadata": {
    "ExecuteTime": {
     "end_time": "2021-02-04T07:29:48.106770Z",
     "start_time": "2021-02-04T07:29:48.093784Z"
    }
   },
   "outputs": [],
   "source": [
    "from sklearn.model_selection import train_test_split\n",
    "\n",
    "# Split training dataset into X/y first\n",
    "X = clean_train_df.drop([\"SalePrice\"], axis=1)\n",
    "y = clean_train_df['SalePrice']\n",
    "\n",
    "# Then, split it into training and validation sets\n",
    "X_train, X_test, y_train, y_test = train_test_split(X, y, test_size=0.2, random_state=101)"
   ]
  },
  {
   "cell_type": "markdown",
   "metadata": {},
   "source": [
    "We all know how important is to standarize/normalize dataset for our algorithms but there are exceptions depend on what algorithm we are going to use. In order to do it right we need to remember about few things. Some suggest that it only descrete variables should be standarized and definitely we have to fit and transform train set and then only transforming test set. The reason for that we are not creating what is known as data leakage."
   ]
  },
  {
   "cell_type": "code",
   "execution_count": null,
   "metadata": {
    "ExecuteTime": {
     "end_time": "2021-02-04T07:29:51.320925Z",
     "start_time": "2021-02-04T07:29:51.316954Z"
    }
   },
   "outputs": [],
   "source": [
    "num_feat.remove('SalePrice')"
   ]
  },
  {
   "cell_type": "code",
   "execution_count": null,
   "metadata": {
    "ExecuteTime": {
     "end_time": "2021-02-04T07:29:52.696414Z",
     "start_time": "2021-02-04T07:29:52.685407Z"
    }
   },
   "outputs": [],
   "source": [
    "from sklearn.preprocessing import StandardScaler\n",
    "scaled_Xtrain = X_train.copy()\n",
    "scaled_Xtest = X_test.copy()\n",
    "\n",
    "scaler = StandardScaler()\n",
    "\n",
    "scaled_Xtrain[num_feat] = scaler.fit_transform(scaled_Xtrain[num_feat])\n",
    "scaled_Xtest[num_feat] = scaler.transform(scaled_Xtest[num_feat])"
   ]
  },
  {
   "cell_type": "code",
   "execution_count": null,
   "metadata": {
    "ExecuteTime": {
     "end_time": "2021-02-04T07:29:54.399040Z",
     "start_time": "2021-02-04T07:29:54.382038Z"
    }
   },
   "outputs": [],
   "source": [
    "scaled_Xtrain.head()"
   ]
  },
  {
   "cell_type": "markdown",
   "metadata": {},
   "source": [
    "## Creating and testing our models\n",
    "\n",
    "\n",
    "### Models score baseline"
   ]
  },
  {
   "cell_type": "code",
   "execution_count": null,
   "metadata": {},
   "outputs": [],
   "source": [
    "from sklearn.metrics import mean_absolute_error,mean_squared_error, r2_score\n",
    "\n",
    "# Create function for model evaluation\n",
    "def model_evaluation(algo,algoname):\n",
    "    \"\"\"\n",
    "    This function  fit and  evaluate \n",
    "    given algorithm. It takes 3 arguments:\n",
    "    \n",
    "    First: algorithm of a choice without parentheses.\n",
    "    Second: the name of a algorithm as a string.\n",
    "    \"\"\"\n",
    "\n",
    "    # Fit given model\n",
    "    algo.fit(scaled_Xtrain, y_train)\n",
    "    y_pred = algo.predict(scaled_Xtest)\n",
    "    \n",
    "    # Calculate metrics\n",
    "    mae = mean_absolute_error(y_test, y_pred)\n",
    "    rmse = np.sqrt(mean_squared_error(y_test, y_pred))\n",
    "    \n",
    "    # R-squared \n",
    "    r2score = r2_score(y_test, y_pred)\n",
    "    \n",
    "    print(f\"**{algoname} Metrics**\")\n",
    "    print(f\"**MAE: {mae:}\")\n",
    "    print(f\"**RMSE: {rmse:}\")\n",
    "    print(f\"**R-squared: {r2score:.2f}%\")\n",
    "    \n",
    "    return mae, rmse, r2score, y_pred, algo"
   ]
  },
  {
   "cell_type": "markdown",
   "metadata": {},
   "source": [
    "Great place to start for someone who ask what algorithm I shoud use is sklearn algorithm cheat-sheet https://scikit-learn.org/stable/tutorial/machine_learning_map/index.html. Follow their recommendation I am going to choose first Stochastic Gradient Descent. Let's create Stochastic Gradient Descent first."
   ]
  },
  {
   "cell_type": "markdown",
   "metadata": {},
   "source": [
    "**SGDRegressor**"
   ]
  },
  {
   "cell_type": "code",
   "execution_count": null,
   "metadata": {},
   "outputs": [],
   "source": [
    "# Create a base model\n",
    "from sklearn.linear_model import SGDRegressor\n",
    "\n",
    "sgd_base_model = SGDRegressor(random_state=101)\n",
    "\n",
    "sgd_base_mae, sgd_base_rmse, sgd_base_r2score, sgd_y_pred, _ = model_evaluation(sgd_base_model, \n",
    "                                                                                \"SGDRegressor\")"
   ]
  },
  {
   "cell_type": "code",
   "execution_count": null,
   "metadata": {},
   "outputs": [],
   "source": [
    "def plot_residuals(y_pred, algoname):\n",
    "    \"\"\"\n",
    "    Function plots probability and residuals plot\n",
    "    \"\"\"\n",
    "    residuals = pd.Series(y_test - y_pred, \n",
    "                          name=\"residuals\")\n",
    "    \n",
    "    fig, axes = plt.subplots(ncols=2, \n",
    "                             nrows=2, \n",
    "                             figsize=(14,4), \n",
    "                             dpi=120)\n",
    "    # Plot probability\n",
    "    sp.stats.probplot(residuals, plot=axes[0,0])\n",
    "    # Plot kde\n",
    "    sns.distplot(residuals, ax=axes[0,1], hist=False)\n",
    "    # Plot residuals\n",
    "    sns.scatterplot(x=y_test, y=residuals, ax=axes[1,0])\n",
    "    axes[1,0].axhline(y=0, c='red',ls='--')\n",
    "    # Plot distribution\n",
    "    sns.boxplot(residuals, ax=axes[1,1])\n",
    "    plt.tight_layout()"
   ]
  },
  {
   "cell_type": "code",
   "execution_count": null,
   "metadata": {},
   "outputs": [],
   "source": [
    "plot_residuals(sgd_y_pred, \"SGDRegressor\")"
   ]
  },
  {
   "cell_type": "markdown",
   "metadata": {},
   "source": [
    "**Gradient Boosting Regressor**"
   ]
  },
  {
   "cell_type": "code",
   "execution_count": null,
   "metadata": {},
   "outputs": [],
   "source": [
    "from sklearn.ensemble import GradientBoostingRegressor\n",
    "\n",
    "gbr_model = GradientBoostingRegressor()\n",
    "gbr_base_mae, gbr_base_rmse, gbr_base_r2score, gbr_y_pred, gbr_model = model_evaluation(gbr_model, \n",
    "                                                                                        \"GradientBostingRegressor\")"
   ]
  },
  {
   "cell_type": "code",
   "execution_count": null,
   "metadata": {},
   "outputs": [],
   "source": [
    "plot_residuals(gbr_y_pred, \"Gradient Boosting Regressor\")"
   ]
  },
  {
   "cell_type": "markdown",
   "metadata": {},
   "source": [
    "**Random Forest Regressor**"
   ]
  },
  {
   "cell_type": "code",
   "execution_count": null,
   "metadata": {},
   "outputs": [],
   "source": [
    "from sklearn.ensemble import RandomForestRegressor\n",
    "\n",
    "rfr_model = RandomForestRegressor()\n",
    "rfr_base_mae, rfr_base_rmse, rfr_base_r2score, rfr_y_pred, rfr_model = model_evaluation(rfr_model, \n",
    "                                                                                        \"RandomForestRegressor\")"
   ]
  },
  {
   "cell_type": "code",
   "execution_count": null,
   "metadata": {},
   "outputs": [],
   "source": [
    "plot_residuals(rfr_y_pred, \"Random Forest Regressor\")"
   ]
  },
  {
   "cell_type": "markdown",
   "metadata": {},
   "source": [
    "**Extreme Gradient Boosting**"
   ]
  },
  {
   "cell_type": "code",
   "execution_count": null,
   "metadata": {},
   "outputs": [],
   "source": [
    "from xgboost import XGBRegressor\n",
    "\n",
    "xgboost_model = XGBRegressor()\n",
    "xgboost_base_mae, xgboost_base_rmse, xgboost_base_r2score, xgboost_y_pred, xgboost_model = model_evaluation(xgboost_model, \n",
    "                                                                                                            \"Extreme Gradient Boosting\")"
   ]
  },
  {
   "cell_type": "code",
   "execution_count": null,
   "metadata": {},
   "outputs": [],
   "source": [
    "plot_residuals(xgboost_y_pred, \"Extreme Gradient Boosting\")"
   ]
  },
  {
   "cell_type": "markdown",
   "metadata": {},
   "source": [
    "**KNeighbors**"
   ]
  },
  {
   "cell_type": "code",
   "execution_count": null,
   "metadata": {},
   "outputs": [],
   "source": [
    "from sklearn.neighbors import KNeighborsRegressor\n",
    "\n",
    "knn_model = KNeighborsRegressor()\n",
    "knn_base_mae, knn_base_rmse, knn_base_r2score, knn_y_pred, knn_model = model_evaluation(knn_model, \n",
    "                                                                                        \"KNeighborsRegressor\")"
   ]
  },
  {
   "cell_type": "code",
   "execution_count": null,
   "metadata": {},
   "outputs": [],
   "source": [
    "plot_residuals(knn_y_pred, \"KNeighborsRegressor\")"
   ]
  },
  {
   "cell_type": "markdown",
   "metadata": {},
   "source": [
    "**Submmit to Kaggle with the best score to Kaggle competition**"
   ]
  },
  {
   "cell_type": "code",
   "execution_count": null,
   "metadata": {},
   "outputs": [],
   "source": [
    "# Instantiate StandardScaler and copy dataset\n",
    "sc = StandardScaler()\n",
    "scaled_X = X.copy()\n",
    "scaled_test = clean_test_df.copy()\n",
    "\n",
    "# Scale the data\n",
    "scaled_X[num_feat] = sc.fit_transform(X[num_feat])\n",
    "scaled_test[num_feat] = sc.transform(clean_test_df[num_feat])\n",
    "\n",
    "# Instantiate the final model\n",
    "# final_base_model = GradientBoostingRegressor()\n",
    "\n",
    "# Fit the model\n",
    "# final_base_model.fit(scaled_X, y)\n",
    "\n",
    "# final_predictions = final_base_model.predict(scaled_test)\n",
    "\n",
    "\n",
    "# Make predictions and save it to the dataframe\n",
    "# final_base_model_df = pd.DataFrame({\"id\":row_id,\n",
    "                                    # \"SalePrice\": np.expm1(final_predictions)})"
   ]
  },
  {
   "cell_type": "code",
   "execution_count": null,
   "metadata": {},
   "outputs": [],
   "source": [
    "# final_base_model_df.to_csv(\"house_price_final_base_sub.csv\", index=False)"
   ]
  },
  {
   "cell_type": "markdown",
   "metadata": {},
   "source": [
    "**ElasticNetCV**"
   ]
  },
  {
   "cell_type": "markdown",
   "metadata": {},
   "source": [
    "I am going to use ElasticNetCV in the base line models predictions as it will allow me to choose between Ridge(L2 regularization) or Lasso (L1 regularization). The benefit is that elastic net allows a balance of both penalties, which can result in better performance than a model with either one or the other penalty on some problems."
   ]
  },
  {
   "cell_type": "code",
   "execution_count": null,
   "metadata": {},
   "outputs": [],
   "source": [
    "from sklearn.linear_model import ElasticNetCV\n",
    "\n",
    "elastic_model = ElasticNetCV(l1_ratio=[.1, .5, .7, .9, .95, .99, 1])\n",
    "\n",
    "el_base_mae, el_base_rmse, el_base_r2score, el_base_y_pred, elastic_model = model_evaluation(elastic_model,\n",
    "                                                                                             \"ElasticNetCV\")"
   ]
  },
  {
   "cell_type": "code",
   "execution_count": null,
   "metadata": {},
   "outputs": [],
   "source": [
    "plot_residuals(el_base_y_pred, \"ElasticNetCV\")"
   ]
  },
  {
   "cell_type": "code",
   "execution_count": null,
   "metadata": {},
   "outputs": [],
   "source": [
    "elastic_model.l1_ratio_"
   ]
  },
  {
   "cell_type": "code",
   "execution_count": null,
   "metadata": {},
   "outputs": [],
   "source": [
    "from sklearn.linear_model import LassoCV\n",
    "\n",
    "lasso_cv_model = LassoCV(eps=0.01, n_alphas=200, cv=10, max_iter=1000000)\n",
    "\n",
    "\n",
    "lassoCV_mae, lassoCV_rmse, lassoCV_r2score, lassoCV_y_pred, lasso_cv_model = model_evaluation(lasso_cv_model, \"LassoCV\")"
   ]
  },
  {
   "cell_type": "code",
   "execution_count": null,
   "metadata": {},
   "outputs": [],
   "source": [
    "plot_residuals(lassoCV_y_pred, \"LassoCV\")"
   ]
  },
  {
   "cell_type": "markdown",
   "metadata": {},
   "source": [
    "**RidgeCV**"
   ]
  },
  {
   "cell_type": "code",
   "execution_count": null,
   "metadata": {},
   "outputs": [],
   "source": [
    "from sklearn.linear_model import RidgeCV\n",
    "\n",
    "ridge_model = RidgeCV(alphas=[0.1, 1.0, 10.0])\n",
    "ridge_cv_mae, ridge_cv_rmse, ridge_cv_r2, ridge_cv_y_pred, ridge_model = model_evaluation(ridge_model,\n",
    "                                                                                          \"RidgeCV\")"
   ]
  },
  {
   "cell_type": "code",
   "execution_count": null,
   "metadata": {},
   "outputs": [],
   "source": [
    "ridge_model.alpha_"
   ]
  },
  {
   "cell_type": "code",
   "execution_count": null,
   "metadata": {},
   "outputs": [],
   "source": [
    "plot_residuals(ridge_cv_y_pred, \"RidgeCV\")"
   ]
  },
  {
   "cell_type": "code",
   "execution_count": null,
   "metadata": {},
   "outputs": [],
   "source": [
    "from sklearn.svm import SVR\n",
    "\n",
    "svr_base_model = SVR()\n",
    "\n",
    "svr_base_mae, svr_base_rmse, svr_base_r2score, svr_base_y_red, svr_base_model = model_evaluation(svr_base_model, \n",
    "                                                                                                 \"Support Vector Regressor\")"
   ]
  },
  {
   "cell_type": "code",
   "execution_count": null,
   "metadata": {},
   "outputs": [],
   "source": [
    "plot_residuals(svr_base_y_red, \"SVR\")"
   ]
  },
  {
   "cell_type": "markdown",
   "metadata": {},
   "source": [
    "**CatBoostRegressor**"
   ]
  },
  {
   "cell_type": "code",
   "execution_count": null,
   "metadata": {},
   "outputs": [],
   "source": [
    "from catboost import CatBoostRegressor\n",
    "\n",
    "cat_base = CatBoostRegressor(verbose=0, random_state=101)\n",
    "\n",
    "cat_base_mae, cat_base_rmse, cat_base_r2, cat_base_y_pred, cat_base_model = model_evaluation(cat_base,\n",
    "                                                                                             \"CatBoostRegressor\")"
   ]
  },
  {
   "cell_type": "code",
   "execution_count": null,
   "metadata": {},
   "outputs": [],
   "source": [
    "feat_imp = cat_base.get_feature_importance(prettified=True)\n",
    "\n",
    "# Plotting top 20 features' importance\n",
    "\n",
    "plt.figure(figsize = (12,8))\n",
    "sns.barplot(feat_imp['Importances'][:20],feat_imp['Feature Id'][:20], orient = 'h', palette=\"coolwarm_r\")\n",
    "plt.title(\"Feature Importance\")\n",
    "plt.show()"
   ]
  },
  {
   "cell_type": "code",
   "execution_count": null,
   "metadata": {},
   "outputs": [],
   "source": [
    "import shap\n",
    "from catboost import Pool\n",
    "\n",
    "# Feature importance Interactive Plot \n",
    "\n",
    "train_pool = Pool(scaled_Xtrain)\n",
    "val_pool = Pool(scaled_Xtest)\n",
    "\n",
    "explainer = shap.TreeExplainer(cat_base_model) # insert your model\n",
    "shap_values = explainer.shap_values(train_pool) # insert your train Pool object\n",
    "\n",
    "shap.summary_plot(shap_values, scaled_Xtrain)"
   ]
  },
  {
   "cell_type": "markdown",
   "metadata": {},
   "source": [
    "### Base model scores metrics"
   ]
  },
  {
   "cell_type": "code",
   "execution_count": null,
   "metadata": {},
   "outputs": [],
   "source": [
    "base_score_df = pd.DataFrame({\"Model\":[\"SGDRegressor\", \"GradientBoostingRegressor\",\n",
    "                                       \"RandomForestRegressor\", \"Extreme Gradient Boosting\",\n",
    "                                       \"KNeighborsRegressor\" , \"LassoCV\", \"SVR\", \"RidgeCV\",\n",
    "                                       \"CatBoost\"],\n",
    "                              \n",
    "                              \"R-square\":[sgd_base_r2score, gbr_base_r2score, rfr_base_r2score,\n",
    "                                         xgboost_base_r2score, knn_base_r2score, lassoCV_r2score,\n",
    "                                         svr_base_r2score, ridge_cv_r2, cat_base_r2],\n",
    "                              \n",
    "                              \"RMSE\":[sgd_base_rmse, gbr_base_rmse, rfr_base_rmse, xgboost_base_rmse,\n",
    "                                      knn_base_rmse, lassoCV_rmse, svr_base_rmse, ridge_cv_rmse,\n",
    "                                      cat_base_rmse],\n",
    "                              \n",
    "                              \"MAE\": [sgd_base_mae, gbr_base_mae, rfr_base_mae, xgboost_base_mae,\n",
    "                                      knn_base_mae, lassoCV_mae, svr_base_mae, ridge_cv_mae,\n",
    "                                      cat_base_mae]})\n",
    "\n",
    "base_score_df = base_score_df.sort_values(by=[\"R-square\"], \n",
    "                                          ascending=False).reset_index(drop=True)"
   ]
  },
  {
   "cell_type": "code",
   "execution_count": null,
   "metadata": {},
   "outputs": [],
   "source": [
    "print(\"**Base Models Metrics**\")\n",
    "base_score_df"
   ]
  },
  {
   "cell_type": "code",
   "execution_count": null,
   "metadata": {},
   "outputs": [],
   "source": [
    "# Visualize the table above\n",
    "fig, ax = plt.subplots(figsize=(8,5))\n",
    "\n",
    "sns.barplot(x=\"Model\", y=\"R-square\", data=base_score_df, ax=ax, palette=\"magma\")\n",
    "sns.lineplot(x=\"Model\", y=\"RMSE\", data=base_score_df, color=\"red\", ax=ax,legend='brief', label=\"rmse\")\n",
    "sns.lineplot(x=\"Model\", y=\"MAE\", data=base_score_df, color='green', ax=ax, legend='brief', label=\"mae\")\n",
    "\n",
    "plt.xticks(rotation=45, horizontalalignment=\"right\")\n",
    "plt.title(\"Regression Model Performance Metrics\")\n",
    "plt.ylabel(\"R_squared\")\n",
    "plt.legend();"
   ]
  },
  {
   "cell_type": "markdown",
   "metadata": {},
   "source": [
    "#### Submmit Voting Ensamble Model with base models"
   ]
  },
  {
   "cell_type": "code",
   "execution_count": null,
   "metadata": {},
   "outputs": [],
   "source": [
    "from sklearn.ensemble import VotingRegressor\n",
    "\n",
    "ensemble1_model = VotingRegressor(estimators=[(\"ridgecv\", ridge_model),\n",
    "                                             (\"catboost\", cat_base_model),\n",
    "                                             (\"gbr\", gbr_model),\n",
    "                                             (\"lassocv\", lasso_cv_model),\n",
    "                                             (\"svr\", svr_base_model),\n",
    "                                             (\"forest\", rfr_model)])"
   ]
  },
  {
   "cell_type": "code",
   "execution_count": null,
   "metadata": {},
   "outputs": [],
   "source": [
    "ensemble1_mae, ensemble1_rmse, ensemble1_r2, _ , ensemble1_model = model_evaluation(ensemble1_model,\n",
    "                                                                                    \"Voting Regressor\")"
   ]
  },
  {
   "cell_type": "markdown",
   "metadata": {},
   "source": [
    "**Submmit ensemble model to the competition**"
   ]
  },
  {
   "cell_type": "code",
   "execution_count": null,
   "metadata": {},
   "outputs": [],
   "source": [
    "# Fit the model\n",
    "# ensemble_model1.fit(scaled_X, y)\n",
    "\n",
    "# final_ensemble = ensemble_model1.predict(scaled_test)\n",
    "\n",
    "\n",
    "# Make predictions and save it to the dataframe\n",
    "# final_base_ensemble_df = pd.DataFrame({\"id\":row_id,\n",
    "                                       # \"SalePrice\": np.expm1(final_ensemble)})"
   ]
  },
  {
   "cell_type": "code",
   "execution_count": null,
   "metadata": {},
   "outputs": [],
   "source": [
    "# final_base_ensemble_df.to_csv(\"house_price_final_ensemble_base_sub.csv\", index=False)"
   ]
  },
  {
   "cell_type": "markdown",
   "metadata": {},
   "source": [
    "### GridSearchCV for the best hyperparameters"
   ]
  },
  {
   "cell_type": "markdown",
   "metadata": {},
   "source": [
    "GridSearchCV is a exhaustive search over specified hyperparameters values for an estimator. It allow us to find the best combination of best parameters for a chosen model. I will split data again with test size of 0.1."
   ]
  },
  {
   "cell_type": "code",
   "execution_count": null,
   "metadata": {},
   "outputs": [],
   "source": [
    "from sklearn.model_selection import GridSearchCV\n",
    "\n",
    "def model_gridsearchCV(algo,param,name):\n",
    "    \"\"\"\n",
    "    Function will perform gridsearchCV for given algorithm\n",
    "    and parameter grid. Returns grid model, y_pred. Prints out \n",
    "    mean absolute error, root mean squared error, R-square score\n",
    "    \"\"\"\n",
    "    # Instatiate base model\n",
    "    model = algo()\n",
    "    \n",
    "    # Instantiate grid for a model\n",
    "    model_grid = GridSearchCV(model, \n",
    "                             param,\n",
    "                             scoring=\"r2\",\n",
    "                             # verbose=2,\n",
    "                             n_jobs=-1,\n",
    "                             cv=3)\n",
    "    # Fit the grid model\n",
    "    model_grid.fit(scaled_Xtrain, y_train)\n",
    "    \n",
    "    # Make prediction\n",
    "    y_pred = model_grid.predict(scaled_Xtest)\n",
    "    \n",
    "    # Evaluate model\n",
    "    mae = mean_absolute_error(y_test, y_pred)\n",
    "    rmse = np.sqrt(mean_squared_error(y_test, y_pred))\n",
    "    r2score = r2_score(y_test, y_pred)\n",
    "    \n",
    "    # Print \n",
    "    print(f\"**{name} with GridSearchCV**\")\n",
    "    print(f\"MAE: {mae:}\")\n",
    "    print(f\"RMSE: {rmse:}\")\n",
    "    print(f\"R-squared: {r2score:.2f}%\")\n",
    "    \n",
    "    return mae, rmse, r2score, y_pred, model_grid"
   ]
  },
  {
   "cell_type": "markdown",
   "metadata": {},
   "source": [
    "**GradientBoostingRegressor**"
   ]
  },
  {
   "cell_type": "code",
   "execution_count": null,
   "metadata": {},
   "outputs": [],
   "source": [
    "param_grid = {#\"loss\":[\"ls\",\"lad\",\"huber\",\"quantile\"],\n",
    "              \"learning_rate\": [ 0.01, 0.1, 0.3, 1],\n",
    "              \"subsample\": [0.5, 0.2, 0.1],\n",
    "              \"n_estimators\": [500, 1000],\n",
    "              \"max_depth\": [3,6,8]}\n",
    "\n",
    "gbr_grid_mae, gbr_grid_rmse, gbr_grid_r2, _ , gbr_grid = model_gridsearchCV(GradientBoostingRegressor, \n",
    "                                                                            param_grid,\n",
    "                                                                            \"GradientBoostingRegressor\")"
   ]
  },
  {
   "cell_type": "code",
   "execution_count": null,
   "metadata": {},
   "outputs": [],
   "source": [
    "gbr_grid.best_params_"
   ]
  },
  {
   "cell_type": "markdown",
   "metadata": {},
   "source": [
    "**Random Forest Regressor**"
   ]
  },
  {
   "cell_type": "code",
   "execution_count": null,
   "metadata": {},
   "outputs": [],
   "source": [
    "param_grid = {\"n_estimators\": [500,1000, 1500],\n",
    "              \"max_features\": ['auto','sqrt'],\n",
    "              \"max_depth\": [None,5,10,],\n",
    "              \"min_samples_split\": [2,5,10],\n",
    "              \"min_samples_leaf\": [1,2,5,10]}\n",
    "\n",
    "rfr_grid_mae, rfr_grid_rmse, rfr_grid_r2, _ , rfr_grid_model = model_gridsearchCV(RandomForestRegressor,\n",
    "                                                                                  param_grid,\n",
    "                                                                                  \"RandomForestRegressor\")"
   ]
  },
  {
   "cell_type": "code",
   "execution_count": null,
   "metadata": {},
   "outputs": [],
   "source": [
    "rfr_grid_model.best_params_"
   ]
  },
  {
   "cell_type": "markdown",
   "metadata": {},
   "source": [
    "**SVR**"
   ]
  },
  {
   "cell_type": "code",
   "execution_count": null,
   "metadata": {},
   "outputs": [],
   "source": [
    "param_grid = {\"kernel\":[\"linear\",\"rbf\",],\n",
    "              \"gamma\": [\"scale\",\"auto\"],\n",
    "              \"C\": [0.1, 0.5, 1, 10],\n",
    "              \"epsilon\": [0.1, 0.01, 0.001]}\n",
    "\n",
    "svr_grid_mae, svr_grid_rmse, svr_grid_r2, svr_grid_y_pred, svr_grid_model = model_gridsearchCV(SVR,\n",
    "                                                                                param_grid,\n",
    "                                                                               \"SVR\")"
   ]
  },
  {
   "cell_type": "code",
   "execution_count": null,
   "metadata": {},
   "outputs": [],
   "source": [
    "svr_grid_model.best_params_"
   ]
  },
  {
   "cell_type": "code",
   "execution_count": null,
   "metadata": {},
   "outputs": [],
   "source": [
    "svr_grid_model.best_score_"
   ]
  },
  {
   "cell_type": "markdown",
   "metadata": {},
   "source": [
    "**Ridge**\n",
    "\n",
    "RidgeCV had the best metrics and I want to see if GridSearchCV can improve the model."
   ]
  },
  {
   "cell_type": "code",
   "execution_count": null,
   "metadata": {},
   "outputs": [],
   "source": [
    "from sklearn.linear_model import Ridge\n",
    "\n",
    "param_grid = {\"solver\": [\"auto\",\"svd\",\"lsqr\",\"saga\"],\n",
    "              \"max_iter\": [1000, 10000],\n",
    "              \"tol\": [1e-3,1e-2],\n",
    "              \"alpha\": [0.1, 1.0, 10.0, 30.0]}\n",
    "\n",
    "ridge_gr_mae, ridge_gr_rmse, ridge_gr_r2,_ , ridge_gr_model = model_gridsearchCV(Ridge,\n",
    "                                                                                 param_grid,\n",
    "                                                                                 \"Ridge\")"
   ]
  },
  {
   "cell_type": "code",
   "execution_count": null,
   "metadata": {},
   "outputs": [],
   "source": [
    "ridge_gr_model.best_params_"
   ]
  },
  {
   "cell_type": "markdown",
   "metadata": {},
   "source": [
    "**Extreme Gradient Boosting**"
   ]
  },
  {
   "cell_type": "markdown",
   "metadata": {},
   "source": [
    "There is a warning when running this algoritm, but It should not prevent your code from running, nor should it lead to different results."
   ]
  },
  {
   "cell_type": "code",
   "execution_count": null,
   "metadata": {},
   "outputs": [],
   "source": [
    "param_grid = {\"learning_rate\":[0.05, 0.10, 0.15, 0.20, 0.30],\n",
    "              \"max_depth\":[3,4,5,6,8,15],\n",
    "              \"min_child_weight\":[1,3,5,7],\n",
    "              \"gamma\":[0.0, 0.1, 0.2, 0.3, 0.4],\n",
    "              \"colsample_bytree\":[0.3, 0.4, 0.5, 0.7]}\n",
    "\n",
    "xboost_gr_mae, xboost_gr_rmse, xboost_gr_r2, _ , xboost_gr_model = model_gridsearchCV(XGBRegressor,\n",
    "                                                                                      param_grid,\n",
    "                                                                                      \"XGBoost\")"
   ]
  },
  {
   "cell_type": "code",
   "execution_count": null,
   "metadata": {},
   "outputs": [],
   "source": [
    "xboost_gr_model.best_params_"
   ]
  },
  {
   "cell_type": "markdown",
   "metadata": {},
   "source": [
    "**CatBoostRegressor**"
   ]
  },
  {
   "cell_type": "code",
   "execution_count": null,
   "metadata": {},
   "outputs": [],
   "source": [
    "#param_grid = {'iterations': [250,100,500,1000],\n",
    "              #'learning_rate': [0.01,0.1,0.2,0.3],\n",
    "              #'depth': [4, 6],\n",
    "              #'l2_leaf_reg': [3,1,5,10,100]}\n",
    "\n",
    "\n",
    "# cat_grid_mae, cat_grid_rmse, cat_grid_r2, _ , cat_grid_model = model_gridsearchCV(CatBoostRegressor,\n",
    "                                                                                  # param_grid,\n",
    "                                                                                  # \"CatBoost\")"
   ]
  },
  {
   "cell_type": "markdown",
   "metadata": {},
   "source": [
    "**CatBoost with GridSearchCV**\n",
    "1. MAE: 0.08686650731538992\n",
    "2. RMSE: 0.12366782337837257\n",
    "3. R-squared: 0.92%"
   ]
  },
  {
   "cell_type": "code",
   "execution_count": null,
   "metadata": {},
   "outputs": [],
   "source": [
    "cat_grid_model.best_params_"
   ]
  },
  {
   "cell_type": "code",
   "execution_count": null,
   "metadata": {},
   "outputs": [],
   "source": [
    "grCV_metrics_df = pd.DataFrame({\"Model\":[\"GradientBoostingRegressor\", \"RandomForestRegressor\", \n",
    "                                         \"SVR\", \"Ridge\", \"XGBRegressor\", \"CatBoost\"],\n",
    "                                        \n",
    "                                \"R-square\":[gbr_grid_r2, rfr_grid_r2, svr_grid_r2, \n",
    "                                            ridge_gr_r2, xboost_gr_r2, cat_grid_r2],\n",
    "                                        \n",
    "                                \"RMSE\":[gbr_grid_rmse, rfr_grid_rmse, svr_grid_rmse, \n",
    "                                        ridge_gr_rmse, xboost_gr_rmse, cat_grid_rmse],\n",
    "                                        \n",
    "                                \"MAE\":[gbr_grid_mae, rfr_grid_mae, svr_grid_mae, \n",
    "                                      ridge_gr_mae, xboost_gr_mae, cat_grid_mae]})\n",
    "\n",
    "grCV_mertics_df = grCV_metrics_df.sort_values(by=[\"R-square\"],\n",
    "                                              ascending=False).reset_index(drop=True)\n",
    "\n",
    "print(\"**GridSearchCV Models Metrics**\")\n",
    "grCV_mertics_df"
   ]
  },
  {
   "cell_type": "code",
   "execution_count": null,
   "metadata": {},
   "outputs": [],
   "source": [
    "# Visualize the table above\n",
    "fig, ax = plt.subplots(figsize=(8,5))\n",
    "\n",
    "list_order = list(grCV_mertics_df['Model'].values)\n",
    "# R-squared\n",
    "sns.barplot(x=\"Model\", y=\"R-square\", \n",
    "            data=grCV_metrics_df, ax=ax, \n",
    "            palette=\"magma\", order= list_order)\n",
    "# Root Mean Squared Error\n",
    "sns.lineplot(x=\"Model\", y=\"RMSE\", data=grCV_metrics_df, \n",
    "             color=\"red\", ax=ax,legend='brief', label=\"rmse\")\n",
    "# Mean Absolute Error\n",
    "sns.lineplot(x=\"Model\", y=\"MAE\", data=grCV_metrics_df, \n",
    "             color='green', ax=ax, legend='brief', label=\"mae\")\n",
    "\n",
    "plt.xticks(rotation=45, horizontalalignment=\"right\")\n",
    "plt.title(\"Regression Models with GridSearchCV Metrics\")\n",
    "plt.ylabel(\"R_squared\")\n",
    "plt.legend();"
   ]
  },
  {
   "cell_type": "markdown",
   "metadata": {},
   "source": [
    "###  Ensemble model with best parameters"
   ]
  },
  {
   "cell_type": "code",
   "execution_count": null,
   "metadata": {},
   "outputs": [],
   "source": [
    "ensemble2_model = VotingRegressor(estimators=[(\"ridgecv\", ridge_gr_model.estimator),\n",
    "                                             (\"catboost\", cat_grid_model.estimator),\n",
    "                                             (\"gbr\", gbr_grid.estimator),\n",
    "                                             (\"lassocv\", lasso_cv_model),\n",
    "                                             (\"svr\", svr_base_model),\n",
    "                                             (\"forest\", rfr_model.base_estimator)])"
   ]
  },
  {
   "cell_type": "code",
   "execution_count": null,
   "metadata": {},
   "outputs": [],
   "source": [
    "# Fit the model\n",
    "ensemble2_model.fit(scaled_Xtrain, y_train)"
   ]
  },
  {
   "cell_type": "code",
   "execution_count": null,
   "metadata": {},
   "outputs": [],
   "source": [
    "# Evaluate ensemble model\n",
    "ensemble2_y_pred = ensemble2_model.predict(scaled_Xtest)\n",
    "\n",
    "ensemble2_mae = mean_absolute_error(y_test, ensemble2_y_pred)\n",
    "ensemble2_rmse = np.sqrt(mean_squared_error(y_test, ensemble2_y_pred))\n",
    "    \n",
    "# R-squared \n",
    "ensemble2_r2 = r2_score(y_test, ensemble2_y_pred)\n",
    "    \n",
    "print(f\"**VotingRegressor Metrics**\")\n",
    "print(f\"**MAE: {ensemble2_mae}\")\n",
    "print(f\"**RMSE: {ensemble2_rmse}\")\n",
    "print(f\"**R-squared: {ensemble2_r2:.2f}%\")"
   ]
  },
  {
   "cell_type": "markdown",
   "metadata": {},
   "source": [
    "### Make predictions submmision to Kaggle"
   ]
  },
  {
   "cell_type": "code",
   "execution_count": null,
   "metadata": {},
   "outputs": [],
   "source": [
    "best_ensemble = VotingRegressor(estimators=[(\"gbr\", gbr_grid.estimator),\n",
    "                                            (\"forest\", rfr_grid_model.estimator),\n",
    "                                            (\"svr\", svr_grid_model.estimator),\n",
    "                                            (\"ridge\", ridge_gr_model.estimator),\n",
    "                                            (\"xgboost\", xboost_gr_model.estimator),\n",
    "                                            (\"catboost\", cat_grid_model.estimator)])"
   ]
  },
  {
   "cell_type": "code",
   "execution_count": null,
   "metadata": {},
   "outputs": [],
   "source": [
    "#fit the model\n",
    "best_ensemble.fit(scaled_X, y)\n",
    "\n",
    "final_ensemble2 = best_ensemble.predict(scaled_test)\n",
    "\n",
    "\n",
    "#Make predictions and save it to the dataframe\n",
    "final_ensemble_df = pd.DataFrame({\"id\":row_id,\"SalePrice\": np.expm1(final_ensemble2)})"
   ]
  },
  {
   "cell_type": "code",
   "execution_count": null,
   "metadata": {},
   "outputs": [],
   "source": [
    "final_ensemble_df.to_csv(\"house_price_grid_ensemble_sub.csv\", index=False)"
   ]
  },
  {
   "cell_type": "markdown",
   "metadata": {},
   "source": [
    "I have to admit that spent all that time on testing didn't help to improve the model in this case .After submmision to Kaggle competition I end up in top 8%. Now, I need to figure it out what to do next or which techniques I could implement to make this model even more robust. I've got some ideas already in my mind, anyway, back to reading and searching. So, if you Kagglers have some ideas let me know. Don't forget to leave feadback."
   ]
  }
 ],
 "metadata": {
  "hide_input": false,
  "kernelspec": {
   "display_name": "Python 3",
   "language": "python",
   "name": "python3"
  },
  "language_info": {
   "codemirror_mode": {
    "name": "ipython",
    "version": 3
   },
   "file_extension": ".py",
   "mimetype": "text/x-python",
   "name": "python",
   "nbconvert_exporter": "python",
   "pygments_lexer": "ipython3",
   "version": "3.8.3"
  },
  "latex_envs": {
   "LaTeX_envs_menu_present": true,
   "autoclose": false,
   "autocomplete": true,
   "bibliofile": "biblio.bib",
   "cite_by": "apalike",
   "current_citInitial": 1,
   "eqLabelWithNumbers": true,
   "eqNumInitial": 1,
   "hotkeys": {
    "equation": "Ctrl-E",
    "itemize": "Ctrl-I"
   },
   "labels_anchors": false,
   "latex_user_defs": false,
   "report_style_numbering": false,
   "user_envs_cfg": false
  },
  "nbTranslate": {
   "displayLangs": [
    "*"
   ],
   "hotkey": "alt-t",
   "langInMainMenu": true,
   "sourceLang": "en",
   "targetLang": "fr",
   "useGoogleTranslate": true
  },
  "toc": {
   "base_numbering": 1,
   "nav_menu": {},
   "number_sections": true,
   "sideBar": true,
   "skip_h1_title": false,
   "title_cell": "Table of Contents",
   "title_sidebar": "Contents",
   "toc_cell": false,
   "toc_position": {},
   "toc_section_display": true,
   "toc_window_display": false
  },
  "varInspector": {
   "cols": {
    "lenName": 16,
    "lenType": 16,
    "lenVar": 40
   },
   "kernels_config": {
    "python": {
     "delete_cmd_postfix": "",
     "delete_cmd_prefix": "del ",
     "library": "var_list.py",
     "varRefreshCmd": "print(var_dic_list())"
    },
    "r": {
     "delete_cmd_postfix": ") ",
     "delete_cmd_prefix": "rm(",
     "library": "var_list.r",
     "varRefreshCmd": "cat(var_dic_list()) "
    }
   },
   "position": {
    "height": "665px",
    "left": "12px",
    "right": "20px",
    "top": "216px",
    "width": "350px"
   },
   "types_to_exclude": [
    "module",
    "function",
    "builtin_function_or_method",
    "instance",
    "_Feature"
   ],
   "window_display": true
  }
 },
 "nbformat": 4,
 "nbformat_minor": 4
}
