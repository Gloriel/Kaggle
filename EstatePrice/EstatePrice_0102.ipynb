{
 "cells": [
  {
   "cell_type": "markdown",
   "metadata": {},
   "source": [
    "* [MLCource](https://mlcourse.ai/)"
   ]
  },
  {
   "cell_type": "code",
   "execution_count": 1,
   "metadata": {
    "ExecuteTime": {
     "end_time": "2021-02-02T06:33:43.372702Z",
     "start_time": "2021-02-02T06:33:41.514748Z"
    },
    "run_control": {
     "marked": false
    }
   },
   "outputs": [],
   "source": [
    "import os\n",
    "import numpy as np\n",
    "import pandas as pd\n",
    "\n",
    "import missingno\n",
    "import matplotlib.pyplot as plt\n",
    "import matplotlib as mpl\n",
    "import seaborn as sns\n",
    "import plotly.graph_objects as go\n",
    "import plotly.express as px\n",
    "\n",
    "import scipy as sp\n",
    "from scipy.stats import skew\n",
    "\n",
    "import warnings\n",
    "warnings.filterwarnings(\"ignore\")\n",
    "\n",
    "sns.set()\n",
    "\n",
    "\n",
    "df = pd.read_csv('train.csv')\n",
    "tsd = pd.read_csv('test.csv')"
   ]
  },
  {
   "cell_type": "code",
   "execution_count": null,
   "metadata": {
    "hide_input": true,
    "run_control": {
     "marked": false
    }
   },
   "outputs": [],
   "source": []
  },
  {
   "cell_type": "code",
   "execution_count": null,
   "metadata": {
    "ExecuteTime": {
     "end_time": "2021-02-01T11:32:58.979953Z",
     "start_time": "2021-02-01T11:32:58.965955Z"
    }
   },
   "outputs": [],
   "source": [
    "# Разведочный анализ\n",
    "print('Число строк и колонок в таблице: ',df.shape)\n",
    "print('Типы данных в колонках:','\\n',df.dtypes)\n",
    "\n",
    "df_numeric = df.select_dtypes(include=[np.number])\n",
    "numeric_cols = df_numeric.columns.values\n",
    "print('Колонки с числовыми значениями:', '\\n',numeric_cols)\n",
    "df_non_numeric = df.select_dtypes(exclude=[np.number])\n",
    "non_numeric_cols = df_non_numeric.columns.values\n",
    "print('Колонки с объектными значениями:', '\\n',non_numeric_cols)\n",
    "print('Пропущенные значения в колонках:', '\\n',df.isnull().sum())"
   ]
  },
  {
   "cell_type": "code",
   "execution_count": null,
   "metadata": {
    "ExecuteTime": {
     "end_time": "2021-02-01T11:36:11.604472Z",
     "start_time": "2021-02-01T11:36:07.302473Z"
    }
   },
   "outputs": [],
   "source": [
    "import cufflinks as cf\n",
    "cf.go_offline()\n",
    "cf.set_config_file(offline=False, world_readable=True)\n",
    "\n",
    "# Построение гистограмм для всех колонок\n",
    "def show_hist(df):\n",
    "    for col in df.columns:\n",
    "        df[col].iplot(kind='hist', title=col)\n",
    "\n",
    "\n",
    "show_hist(df)"
   ]
  },
  {
   "cell_type": "code",
   "execution_count": null,
   "metadata": {
    "ExecuteTime": {
     "end_time": "2021-02-01T10:41:42.030201Z",
     "start_time": "2021-02-01T10:41:41.816934Z"
    }
   },
   "outputs": [],
   "source": [
    "df['SalePrice'].hist(bins=50)"
   ]
  },
  {
   "cell_type": "code",
   "execution_count": null,
   "metadata": {
    "ExecuteTime": {
     "end_time": "2021-02-01T08:18:23.115278Z",
     "start_time": "2021-02-01T08:18:23.112253Z"
    }
   },
   "outputs": [],
   "source": [
    "# Создаем список, что позволит работать циклами со всеми вложенными в него фреймами \n",
    "trd = [df, tsd]"
   ]
  },
  {
   "cell_type": "code",
   "execution_count": 2,
   "metadata": {
    "ExecuteTime": {
     "end_time": "2021-02-02T06:33:47.481775Z",
     "start_time": "2021-02-02T06:33:47.454775Z"
    }
   },
   "outputs": [
    {
     "data": {
      "text/plain": [
       "MSZoning         0.274160\n",
       "LotFrontage     15.558602\n",
       "Alley           92.666210\n",
       "Utilities        0.137080\n",
       "Exterior1st      0.068540\n",
       "Exterior2nd      0.068540\n",
       "MasVnrType       1.096642\n",
       "MasVnrArea       1.028101\n",
       "BsmtQual         3.015764\n",
       "BsmtCond         3.084304\n",
       "BsmtExposure     3.015764\n",
       "BsmtFinType1     2.878684\n",
       "BsmtFinSF1       0.068540\n",
       "BsmtFinType2     2.878684\n",
       "BsmtFinSF2       0.068540\n",
       "BsmtUnfSF        0.068540\n",
       "TotalBsmtSF      0.068540\n",
       "BsmtFullBath     0.137080\n",
       "BsmtHalfBath     0.137080\n",
       "KitchenQual      0.068540\n",
       "Functional       0.137080\n",
       "FireplaceQu     50.034270\n",
       "GarageType       5.209047\n",
       "GarageYrBlt      5.346127\n",
       "GarageFinish     5.346127\n",
       "GarageCars       0.068540\n",
       "GarageArea       0.068540\n",
       "GarageQual       5.346127\n",
       "GarageCond       5.346127\n",
       "PoolQC          99.794380\n",
       "Fence           80.123372\n",
       "MiscFeature     96.504455\n",
       "SaleType         0.068540\n",
       "dtype: float64"
      ]
     },
     "execution_count": 2,
     "metadata": {},
     "output_type": "execute_result"
    }
   ],
   "source": [
    "# Тест на процент пропущенных значений в колонках\n",
    "test_missing = tsd.isna().sum()\n",
    "test_missing = 100 * (test_missing[test_missing > 0] / len(tsd))\n",
    "test_missing"
   ]
  },
  {
   "cell_type": "code",
   "execution_count": null,
   "metadata": {},
   "outputs": [],
   "source": []
  },
  {
   "cell_type": "code",
   "execution_count": null,
   "metadata": {},
   "outputs": [],
   "source": []
  },
  {
   "cell_type": "code",
   "execution_count": null,
   "metadata": {},
   "outputs": [],
   "source": []
  },
  {
   "cell_type": "code",
   "execution_count": null,
   "metadata": {},
   "outputs": [],
   "source": []
  },
  {
   "cell_type": "code",
   "execution_count": null,
   "metadata": {},
   "outputs": [],
   "source": []
  },
  {
   "cell_type": "code",
   "execution_count": null,
   "metadata": {},
   "outputs": [],
   "source": []
  },
  {
   "cell_type": "code",
   "execution_count": null,
   "metadata": {},
   "outputs": [],
   "source": []
  },
  {
   "cell_type": "code",
   "execution_count": null,
   "metadata": {},
   "outputs": [],
   "source": []
  },
  {
   "cell_type": "code",
   "execution_count": null,
   "metadata": {},
   "outputs": [],
   "source": []
  },
  {
   "cell_type": "code",
   "execution_count": null,
   "metadata": {
    "ExecuteTime": {
     "end_time": "2021-02-01T08:18:24.438310Z",
     "start_time": "2021-02-01T08:18:23.829253Z"
    }
   },
   "outputs": [],
   "source": [
    "from sklearn.ensemble import RandomForestClassifier\n",
    "from sklearn.model_selection import train_test_split\n",
    "\n",
    "X_train = df.drop('Survived', axis=1)\n",
    "y_train = df['Survived']\n",
    "X_test = tsd.drop('PassengerId', axis=1)"
   ]
  },
  {
   "cell_type": "code",
   "execution_count": null,
   "metadata": {
    "ExecuteTime": {
     "end_time": "2021-02-01T08:18:46.895105Z",
     "start_time": "2021-02-01T08:18:46.616130Z"
    }
   },
   "outputs": [],
   "source": [
    "model = RandomForestClassifier()\n",
    "model.fit(X_train, y_train)\n",
    "y_pred_random_forest = model.predict(X_test)\n",
    "acc_random_forest = round(model.score(X_train, y_train) * 100, 2)\n",
    "print (\"Train Accuracy: \" + str(acc_random_forest) + '%')"
   ]
  },
  {
   "cell_type": "code",
   "execution_count": null,
   "metadata": {
    "ExecuteTime": {
     "end_time": "2021-02-01T08:19:02.222353Z",
     "start_time": "2021-02-01T08:19:02.217322Z"
    }
   },
   "outputs": [],
   "source": [
    "submission = pd.DataFrame({\n",
    "        \"PassengerId\": tsd[\"PassengerId\"],\n",
    "        \"Survived\": y_pred_random_forest\n",
    "    })\n",
    "\n",
    "submission.to_csv('price_predict.csv', index=False)"
   ]
  },
  {
   "cell_type": "code",
   "execution_count": null,
   "metadata": {
    "ExecuteTime": {
     "end_time": "2021-02-01T08:18:25.020252Z",
     "start_time": "2021-02-01T08:18:25.016250Z"
    }
   },
   "outputs": [],
   "source": [
    "y_pred_random_forest.shape"
   ]
  },
  {
   "cell_type": "code",
   "execution_count": null,
   "metadata": {
    "ExecuteTime": {
     "end_time": "2021-02-01T08:19:10.619904Z",
     "start_time": "2021-02-01T08:19:10.611902Z"
    }
   },
   "outputs": [],
   "source": [
    "submission"
   ]
  },
  {
   "cell_type": "code",
   "execution_count": null,
   "metadata": {},
   "outputs": [],
   "source": []
  }
 ],
 "metadata": {
  "celltoolbar": "Отсутствует",
  "gist": {
   "data": {
    "description": "Documents/GitHub/Kaggle/Titanic/Titanic_3001_ALL.ipynb",
    "public": false
   },
   "id": ""
  },
  "hide_input": false,
  "kernelspec": {
   "display_name": "Python 3",
   "language": "python",
   "name": "python3"
  },
  "language_info": {
   "codemirror_mode": {
    "name": "ipython",
    "version": 3
   },
   "file_extension": ".py",
   "mimetype": "text/x-python",
   "name": "python",
   "nbconvert_exporter": "python",
   "pygments_lexer": "ipython3",
   "version": "3.8.3"
  },
  "latex_envs": {
   "LaTeX_envs_menu_present": true,
   "autoclose": false,
   "autocomplete": true,
   "bibliofile": "biblio.bib",
   "cite_by": "apalike",
   "current_citInitial": 1,
   "eqLabelWithNumbers": true,
   "eqNumInitial": 1,
   "hotkeys": {
    "equation": "Ctrl-E",
    "itemize": "Ctrl-I"
   },
   "labels_anchors": false,
   "latex_user_defs": false,
   "report_style_numbering": false,
   "user_envs_cfg": false
  },
  "nbTranslate": {
   "displayLangs": [
    "*"
   ],
   "hotkey": "alt-t",
   "langInMainMenu": true,
   "sourceLang": "en",
   "targetLang": "fr",
   "useGoogleTranslate": true
  },
  "toc": {
   "base_numbering": 1,
   "nav_menu": {
    "height": "12px",
    "width": "160px"
   },
   "number_sections": true,
   "sideBar": true,
   "skip_h1_title": false,
   "title_cell": "Table of Contents",
   "title_sidebar": "Contents",
   "toc_cell": false,
   "toc_position": {},
   "toc_section_display": true,
   "toc_window_display": false
  },
  "varInspector": {
   "cols": {
    "lenName": 16,
    "lenType": 16,
    "lenVar": 40
   },
   "kernels_config": {
    "python": {
     "delete_cmd_postfix": "",
     "delete_cmd_prefix": "del ",
     "library": "var_list.py",
     "varRefreshCmd": "print(var_dic_list())"
    },
    "r": {
     "delete_cmd_postfix": ") ",
     "delete_cmd_prefix": "rm(",
     "library": "var_list.r",
     "varRefreshCmd": "cat(var_dic_list()) "
    }
   },
   "position": {
    "height": "735px",
    "left": "17px",
    "right": "20px",
    "top": "191px",
    "width": "362px"
   },
   "types_to_exclude": [
    "module",
    "function",
    "builtin_function_or_method",
    "instance",
    "_Feature"
   ],
   "window_display": true
  },
  "widgets": {
   "application/vnd.jupyter.widget-state+json": {
    "state": {},
    "version_major": 2,
    "version_minor": 0
   }
  }
 },
 "nbformat": 4,
 "nbformat_minor": 4
}
