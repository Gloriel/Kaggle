{
 "cells": [
  {
   "cell_type": "code",
   "execution_count": 1,
   "metadata": {
    "ExecuteTime": {
     "end_time": "2021-02-01T10:25:48.915511Z",
     "start_time": "2021-02-01T10:25:48.594335Z"
    }
   },
   "outputs": [],
   "source": [
    "import os\n",
    "import pandas as pd\n",
    "from tqdm import tqdm_notebook\n",
    "import warnings\n",
    "warnings.filterwarnings('ignore')"
   ]
  },
  {
   "cell_type": "code",
   "execution_count": 2,
   "metadata": {
    "ExecuteTime": {
     "end_time": "2021-02-01T10:26:00.655180Z",
     "start_time": "2021-02-01T10:25:50.863348Z"
    }
   },
   "outputs": [],
   "source": [
    "#считывание данных \n",
    "\n",
    "os.chdir(r'C:\\Users\\Mr Alex\\Downloads\\Zakupki_data')\n",
    "\n",
    "train_data = pd.read_csv(\"train_data.csv\", sep=';')\n",
    "train_labels = pd.read_csv(\"train_labels.csv\", sep=';')\n",
    "test_data = pd.read_csv(\"test_data.csv\", sep=';')"
   ]
  },
  {
   "cell_type": "code",
   "execution_count": 3,
   "metadata": {
    "ExecuteTime": {
     "end_time": "2021-02-01T10:26:06.633022Z",
     "start_time": "2021-02-01T10:26:06.087937Z"
    }
   },
   "outputs": [],
   "source": [
    "#Заполнение пропусков строкой 'None'\n",
    "train_data = train_data.fillna('None')\n",
    "test_data = test_data.fillna('None')"
   ]
  },
  {
   "cell_type": "code",
   "execution_count": 5,
   "metadata": {
    "ExecuteTime": {
     "end_time": "2021-02-01T10:26:25.718153Z",
     "start_time": "2021-02-01T10:26:25.423152Z"
    }
   },
   "outputs": [
    {
     "data": {
      "text/html": [
       "<div>\n",
       "<style scoped>\n",
       "    .dataframe tbody tr th:only-of-type {\n",
       "        vertical-align: middle;\n",
       "    }\n",
       "\n",
       "    .dataframe tbody tr th {\n",
       "        vertical-align: top;\n",
       "    }\n",
       "\n",
       "    .dataframe thead th {\n",
       "        text-align: right;\n",
       "    }\n",
       "</style>\n",
       "<table border=\"1\" class=\"dataframe\">\n",
       "  <thead>\n",
       "    <tr style=\"text-align: right;\">\n",
       "      <th></th>\n",
       "      <th>region_code</th>\n",
       "      <th>lot_price</th>\n",
       "    </tr>\n",
       "  </thead>\n",
       "  <tbody>\n",
       "    <tr>\n",
       "      <th>count</th>\n",
       "      <td>778901.000000</td>\n",
       "      <td>7.789010e+05</td>\n",
       "    </tr>\n",
       "    <tr>\n",
       "      <th>mean</th>\n",
       "      <td>51.003673</td>\n",
       "      <td>3.420793e+06</td>\n",
       "    </tr>\n",
       "    <tr>\n",
       "      <th>std</th>\n",
       "      <td>24.031115</td>\n",
       "      <td>1.008930e+08</td>\n",
       "    </tr>\n",
       "    <tr>\n",
       "      <th>min</th>\n",
       "      <td>1.000000</td>\n",
       "      <td>0.000000e+00</td>\n",
       "    </tr>\n",
       "    <tr>\n",
       "      <th>25%</th>\n",
       "      <td>29.000000</td>\n",
       "      <td>9.900000e+04</td>\n",
       "    </tr>\n",
       "    <tr>\n",
       "      <th>50%</th>\n",
       "      <td>54.000000</td>\n",
       "      <td>3.054280e+05</td>\n",
       "    </tr>\n",
       "    <tr>\n",
       "      <th>75%</th>\n",
       "      <td>74.000000</td>\n",
       "      <td>9.914156e+05</td>\n",
       "    </tr>\n",
       "    <tr>\n",
       "      <th>max</th>\n",
       "      <td>99.000000</td>\n",
       "      <td>4.678006e+10</td>\n",
       "    </tr>\n",
       "  </tbody>\n",
       "</table>\n",
       "</div>"
      ],
      "text/plain": [
       "         region_code     lot_price\n",
       "count  778901.000000  7.789010e+05\n",
       "mean       51.003673  3.420793e+06\n",
       "std        24.031115  1.008930e+08\n",
       "min         1.000000  0.000000e+00\n",
       "25%        29.000000  9.900000e+04\n",
       "50%        54.000000  3.054280e+05\n",
       "75%        74.000000  9.914156e+05\n",
       "max        99.000000  4.678006e+10"
      ]
     },
     "execution_count": 5,
     "metadata": {},
     "output_type": "execute_result"
    }
   ],
   "source": [
    "train_data.describe()"
   ]
  },
  {
   "cell_type": "code",
   "execution_count": null,
   "metadata": {},
   "outputs": [],
   "source": []
  },
  {
   "cell_type": "markdown",
   "metadata": {},
   "source": [
    "<hr>"
   ]
  },
  {
   "cell_type": "markdown",
   "metadata": {},
   "source": [
    "# Подготовка данных "
   ]
  },
  {
   "cell_type": "markdown",
   "metadata": {},
   "source": [
    "#### Обработка okpd2 и additional_code"
   ]
  },
  {
   "cell_type": "code",
   "execution_count": null,
   "metadata": {
    "ExecuteTime": {
     "end_time": "2021-02-01T09:12:26.685615Z",
     "start_time": "2021-02-01T09:12:21.169994Z"
    }
   },
   "outputs": [],
   "source": [
    "train_data['okpd2_or_additional_code'] = train_data[['okpd2_code', 'additional_code']].apply(lambda x: x[0] if x[1] == 'None' else x[1], axis=1)\n",
    "test_data['okpd2_or_additional_code'] = test_data[['okpd2_code', 'additional_code']].apply(lambda x: x[0] if x[1] == 'None' else x[1], axis=1)"
   ]
  },
  {
   "cell_type": "code",
   "execution_count": null,
   "metadata": {
    "ExecuteTime": {
     "end_time": "2021-02-01T09:12:26.758521Z",
     "start_time": "2021-02-01T09:12:26.686521Z"
    }
   },
   "outputs": [],
   "source": [
    "#Просмотр частоты значений \n",
    "train_data['okpd2_or_additional_code'].value_counts()"
   ]
  },
  {
   "cell_type": "markdown",
   "metadata": {},
   "source": [
    "#### Формирование описания тендера"
   ]
  },
  {
   "cell_type": "code",
   "execution_count": null,
   "metadata": {
    "ExecuteTime": {
     "end_time": "2021-02-01T09:12:29.260763Z",
     "start_time": "2021-02-01T09:12:26.759526Z"
    }
   },
   "outputs": [],
   "source": [
    "train_data['text_description_tender'] = train_data['purchase_name'] + \" \" + train_data['lot_name'] + \" \" + train_data['okpd2_names'] + \" \" + train_data['additional_code_names'] + \" \" + train_data['item_descriptions']"
   ]
  },
  {
   "cell_type": "code",
   "execution_count": null,
   "metadata": {
    "ExecuteTime": {
     "end_time": "2021-02-01T09:13:38.507215Z",
     "start_time": "2021-02-01T09:12:56.505Z"
    }
   },
   "outputs": [],
   "source": [
    "train_data.head(3).T"
   ]
  },
  {
   "cell_type": "markdown",
   "metadata": {},
   "source": [
    "#### Работа с историей участий поставщика"
   ]
  },
  {
   "cell_type": "code",
   "execution_count": null,
   "metadata": {
    "ExecuteTime": {
     "end_time": "2021-02-01T09:12:30.395684Z",
     "start_time": "2021-02-01T09:12:29.275673Z"
    }
   },
   "outputs": [],
   "source": [
    "inn_kpp_history = pd.merge(train_labels, train_data[['pn_lot_anon','region_code', 'okpd2_or_additional_code']], on=['pn_lot_anon'])"
   ]
  },
  {
   "cell_type": "code",
   "execution_count": null,
   "metadata": {
    "ExecuteTime": {
     "end_time": "2021-02-01T09:12:30.406672Z",
     "start_time": "2021-02-01T09:12:30.396671Z"
    }
   },
   "outputs": [],
   "source": [
    "inn_kpp_history.head()"
   ]
  },
  {
   "cell_type": "code",
   "execution_count": null,
   "metadata": {
    "ExecuteTime": {
     "end_time": "2021-02-01T09:12:35.605671Z",
     "start_time": "2021-02-01T09:12:30.409671Z"
    }
   },
   "outputs": [],
   "source": [
    "#группировка по поставщику \n",
    "inn_kpp_history = inn_kpp_history.groupby('participant_inn_kpp_anon').apply(lambda x: [\n",
    "    list(x['pn_lot_anon']),\n",
    "    list(x['is_winner']), \n",
    "    list(x['fz']), \n",
    "    list(x['region_code']), \n",
    "    list(x['okpd2_or_additional_code'])]).apply(pd.Series)"
   ]
  },
  {
   "cell_type": "code",
   "execution_count": null,
   "metadata": {
    "ExecuteTime": {
     "end_time": "2021-02-01T09:12:35.614672Z",
     "start_time": "2021-02-01T09:12:35.607673Z"
    }
   },
   "outputs": [],
   "source": [
    "inn_kpp_history = inn_kpp_history.reset_index()\n",
    "inn_kpp_history.columns = ['participant_inn_kpp_anon', 'list_pn_lot_anon',\n",
    "                           'list_is_winner', 'list_fz', 'list_region_code',\n",
    "                           'list_okpd2_or_additional_code']"
   ]
  },
  {
   "cell_type": "code",
   "execution_count": null,
   "metadata": {
    "ExecuteTime": {
     "end_time": "2021-02-01T09:12:35.642672Z",
     "start_time": "2021-02-01T09:12:35.616672Z"
    }
   },
   "outputs": [],
   "source": [
    "inn_kpp_history.head()"
   ]
  },
  {
   "cell_type": "markdown",
   "metadata": {},
   "source": [
    "#### Рекомендательная система"
   ]
  },
  {
   "cell_type": "markdown",
   "metadata": {},
   "source": [
    "Выбирается 35 случайный процедур из подвыборки с совпадением региона и ОКПД2 кода актуальной процедуры с регионами и ОКПД2 кодами из истории участия поставщика"
   ]
  },
  {
   "cell_type": "code",
   "execution_count": null,
   "metadata": {
    "ExecuteTime": {
     "end_time": "2021-02-01T09:13:37.324675Z",
     "start_time": "2021-02-01T09:12:35.643672Z"
    },
    "scrolled": true
   },
   "outputs": [],
   "source": [
    "inn_kpp_recommendation = []\n",
    "similarity_score = 1\n",
    "for inn_kpp in tqdm_notebook(inn_kpp_history.values):\n",
    "    participant_inn_kpp_anon, list_participant_inn_kpp_anon, list_is_winner, list_fz, list_region_code, list_okpd2_or_additional_code = inn_kpp\n",
    "    #подвыборка с совпадением региона и ОКПД2 кода актуальной с историей поставщика\n",
    "    recommendation = test_data[test_data['region_code'].isin(list_region_code) & test_data['okpd2_or_additional_code'].isin(list_okpd2_or_additional_code)]\n",
    "    if recommendation.shape[0] >= 35:\n",
    "        #выбор 35 случайных актуальных процедур из подвыборки\n",
    "        recommendation = recommendation.sample(35)['pn_lot_anon'].values\n",
    "        for actual_pn_lot in recommendation:\n",
    "            inn_kpp_recommendation.append([participant_inn_kpp_anon, actual_pn_lot, similarity_score])"
   ]
  },
  {
   "cell_type": "markdown",
   "metadata": {},
   "source": [
    "#### Пример формирования файла рекомендаций"
   ]
  },
  {
   "cell_type": "code",
   "execution_count": null,
   "metadata": {
    "ExecuteTime": {
     "end_time": "2021-02-01T09:13:38.155307Z",
     "start_time": "2021-02-01T09:13:37.325676Z"
    }
   },
   "outputs": [],
   "source": [
    "recommendation = pd.DataFrame(inn_kpp_recommendation, columns=['inn_kpp', 'actual_recommended_pn_lot', 'similarity_score'])\n",
    "recommendation.to_csv(\"team_name.csv\", index=False, sep=';')"
   ]
  },
  {
   "cell_type": "code",
   "execution_count": null,
   "metadata": {
    "ExecuteTime": {
     "end_time": "2021-02-01T09:13:38.167255Z",
     "start_time": "2021-02-01T09:13:38.156214Z"
    }
   },
   "outputs": [],
   "source": [
    "recommendation"
   ]
  },
  {
   "cell_type": "markdown",
   "metadata": {},
   "source": [
    "# Подсчёт метрик"
   ]
  },
  {
   "cell_type": "code",
   "execution_count": null,
   "metadata": {
    "ExecuteTime": {
     "end_time": "2021-02-01T09:13:38.439214Z",
     "start_time": "2021-02-01T09:13:38.169214Z"
    }
   },
   "outputs": [],
   "source": [
    "test_labels = pd.read_csv(\"ваша тестирующая выборка\", sep=';')"
   ]
  },
  {
   "cell_type": "code",
   "execution_count": null,
   "metadata": {
    "ExecuteTime": {
     "end_time": "2021-02-01T09:13:38.442212Z",
     "start_time": "2021-02-01T09:12:11.336Z"
    }
   },
   "outputs": [],
   "source": [
    "true = set((test_labels['pn_lot_anon'] + \"_\" + test_labels['participant_inn_kpp_anon']).values)"
   ]
  },
  {
   "cell_type": "code",
   "execution_count": null,
   "metadata": {
    "ExecuteTime": {
     "end_time": "2021-02-01T09:13:38.443215Z",
     "start_time": "2021-02-01T09:12:11.348Z"
    }
   },
   "outputs": [],
   "source": [
    "pred = set((recommendation['actual_recommended_pn_lot'] + \"_\" + recommendation['inn_kpp']).values)"
   ]
  },
  {
   "cell_type": "code",
   "execution_count": null,
   "metadata": {
    "ExecuteTime": {
     "end_time": "2021-02-01T09:13:38.444212Z",
     "start_time": "2021-02-01T09:12:11.360Z"
    }
   },
   "outputs": [],
   "source": [
    "intersection = len(true.intersection(pred))"
   ]
  },
  {
   "cell_type": "code",
   "execution_count": null,
   "metadata": {
    "ExecuteTime": {
     "end_time": "2021-02-01T09:13:38.445214Z",
     "start_time": "2021-02-01T09:12:11.372Z"
    }
   },
   "outputs": [],
   "source": [
    "print(f\"Точность: {intersection / len(pred) * 100}\")\n",
    "print(f\"Полнота: {intersection / len(true) * 100}\")"
   ]
  }
 ],
 "metadata": {
  "hide_input": false,
  "kernelspec": {
   "display_name": "Python 3",
   "language": "python",
   "name": "python3"
  },
  "language_info": {
   "codemirror_mode": {
    "name": "ipython",
    "version": 3
   },
   "file_extension": ".py",
   "mimetype": "text/x-python",
   "name": "python",
   "nbconvert_exporter": "python",
   "pygments_lexer": "ipython3",
   "version": "3.8.3"
  },
  "latex_envs": {
   "LaTeX_envs_menu_present": true,
   "autoclose": false,
   "autocomplete": true,
   "bibliofile": "biblio.bib",
   "cite_by": "apalike",
   "current_citInitial": 1,
   "eqLabelWithNumbers": true,
   "eqNumInitial": 1,
   "hotkeys": {
    "equation": "Ctrl-E",
    "itemize": "Ctrl-I"
   },
   "labels_anchors": false,
   "latex_user_defs": false,
   "report_style_numbering": false,
   "user_envs_cfg": false
  },
  "nbTranslate": {
   "displayLangs": [
    "*"
   ],
   "hotkey": "alt-t",
   "langInMainMenu": true,
   "sourceLang": "en",
   "targetLang": "fr",
   "useGoogleTranslate": true
  },
  "toc": {
   "base_numbering": 1,
   "nav_menu": {},
   "number_sections": true,
   "sideBar": true,
   "skip_h1_title": false,
   "title_cell": "Table of Contents",
   "title_sidebar": "Contents",
   "toc_cell": false,
   "toc_position": {},
   "toc_section_display": true,
   "toc_window_display": false
  },
  "varInspector": {
   "cols": {
    "lenName": 16,
    "lenType": 16,
    "lenVar": 40
   },
   "kernels_config": {
    "python": {
     "delete_cmd_postfix": "",
     "delete_cmd_prefix": "del ",
     "library": "var_list.py",
     "varRefreshCmd": "print(var_dic_list())"
    },
    "r": {
     "delete_cmd_postfix": ") ",
     "delete_cmd_prefix": "rm(",
     "library": "var_list.r",
     "varRefreshCmd": "cat(var_dic_list()) "
    }
   },
   "position": {
    "height": "606px",
    "left": "17px",
    "right": "20px",
    "top": "258px",
    "width": "346px"
   },
   "types_to_exclude": [
    "module",
    "function",
    "builtin_function_or_method",
    "instance",
    "_Feature"
   ],
   "window_display": true
  }
 },
 "nbformat": 4,
 "nbformat_minor": 4
}
