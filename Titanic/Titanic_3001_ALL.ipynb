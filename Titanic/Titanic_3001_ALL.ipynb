{
 "cells": [
  {
   "cell_type": "markdown",
   "metadata": {},
   "source": [
    "* [Titanic 100%](https://www.kaggle.com/blurredmachine/titanic-survival-a-complete-guide-for-beginners)\n",
    "* [MLCource](https://mlcourse.ai/)"
   ]
  },
  {
   "cell_type": "code",
   "execution_count": null,
   "metadata": {
    "ExecuteTime": {
     "end_time": "2021-01-31T09:25:44.003061Z",
     "start_time": "2021-01-31T09:25:43.043990Z"
    },
    "run_control": {
     "marked": false
    }
   },
   "outputs": [],
   "source": [
    "import os\n",
    "import warnings\n",
    "import seaborn as sns\n",
    "import pandas as pd\n",
    "import numpy as np\n",
    "\n",
    "import matplotlib.pyplot as plt\n",
    "%matplotlib inline\n",
    "\n",
    "sns.set()\n",
    "\n",
    "warnings.filterwarnings(\"ignore\")\n",
    "\n",
    "\n",
    "df = pd.read_csv('train.csv')\n",
    "tsd = pd.read_csv('test.csv')"
   ]
  },
  {
   "cell_type": "code",
   "execution_count": null,
   "metadata": {
    "hide_input": true,
    "run_control": {
     "marked": false
    }
   },
   "outputs": [],
   "source": []
  },
  {
   "cell_type": "code",
   "execution_count": null,
   "metadata": {
    "ExecuteTime": {
     "end_time": "2021-01-31T09:25:44.029997Z",
     "start_time": "2021-01-31T09:25:44.003962Z"
    },
    "run_control": {
     "marked": false
    }
   },
   "outputs": [],
   "source": [
    "# describe(include = ['O'])* will show the descriptive statistics of object data types.\n",
    "df.describe(include=['O'])"
   ]
  },
  {
   "cell_type": "code",
   "execution_count": null,
   "metadata": {
    "ExecuteTime": {
     "end_time": "2021-01-31T09:25:44.041985Z",
     "start_time": "2021-01-31T09:25:44.030962Z"
    },
    "run_control": {
     "marked": false
    }
   },
   "outputs": [],
   "source": [
    "df.info()"
   ]
  },
  {
   "cell_type": "code",
   "execution_count": null,
   "metadata": {
    "ExecuteTime": {
     "end_time": "2021-01-31T09:25:44.415996Z",
     "start_time": "2021-01-31T09:25:44.042991Z"
    },
    "code_folding": [],
    "run_control": {
     "marked": false
    }
   },
   "outputs": [],
   "source": [
    "survived = df[df['Survived'] == 1]\n",
    "not_survived = df[df['Survived'] == 0]\n",
    "\n",
    "print('Survived: %i (%.1f%%)' %\n",
    "      (len(survived), float(len(survived))/len(df)*100))\n",
    "print('Not Survived: %i (%.1f%%)' %\n",
    "      (len(not_survived), float(len(not_survived))/len(df)*100))\n",
    "print('Total: %i' % len(df))\n",
    "\n",
    "# Гистограмма сравнения двух типов откликов по одному предиктору, с ликвидацией NaN\n",
    "plt.figure(figsize=[15, 5])\n",
    "plt.subplot(111)\n",
    "sns.distplot(survived['Age'].dropna().values,\n",
    "             bins=range(0, 81, 1), kde=True, color='blue')\n",
    "sns.distplot(not_survived['Age'].dropna().values, bins=range(\n",
    "    0, 81, 1), kde=True, color='red', axlabel='Age')"
   ]
  },
  {
   "cell_type": "code",
   "execution_count": null,
   "metadata": {
    "ExecuteTime": {
     "end_time": "2021-01-31T09:25:44.421993Z",
     "start_time": "2021-01-31T09:25:44.416989Z"
    },
    "run_control": {
     "marked": false
    }
   },
   "outputs": [],
   "source": [
    "df.Pclass.value_counts()"
   ]
  },
  {
   "cell_type": "code",
   "execution_count": null,
   "metadata": {
    "ExecuteTime": {
     "end_time": "2021-01-31T09:25:44.434965Z",
     "start_time": "2021-01-31T09:25:44.422997Z"
    },
    "run_control": {
     "marked": false
    }
   },
   "outputs": [],
   "source": [
    "# Вектор показывает группировку внутри колоники по стороннему параметру\n",
    "pclass_survived = df.groupby('Pclass').Survived.value_counts()\n",
    "pclass_survived"
   ]
  },
  {
   "cell_type": "code",
   "execution_count": null,
   "metadata": {
    "ExecuteTime": {
     "end_time": "2021-01-31T09:25:44.604979Z",
     "start_time": "2021-01-31T09:25:44.435965Z"
    },
    "run_control": {
     "marked": false
    }
   },
   "outputs": [],
   "source": [
    "# Метод анстак позволяет разделить отклик на группы по значению предикторов\n",
    "pclass_survived.unstack(level=0).plot(kind='bar', subplots=False)"
   ]
  },
  {
   "cell_type": "code",
   "execution_count": null,
   "metadata": {
    "ExecuteTime": {
     "end_time": "2021-01-31T09:25:44.614964Z",
     "start_time": "2021-01-31T09:25:44.606986Z"
    },
    "run_control": {
     "marked": false
    }
   },
   "outputs": [],
   "source": [
    "# Фрейм группирует предикторы по значению отклика\n",
    "pclass_survived_average = df[['Pclass', 'Survived']].groupby(['Pclass'],\n",
    "                                                             as_index=False).mean()\n",
    "pclass_survived_average"
   ]
  },
  {
   "cell_type": "code",
   "execution_count": null,
   "metadata": {
    "ExecuteTime": {
     "end_time": "2021-01-31T09:25:44.803993Z",
     "start_time": "2021-01-31T09:25:44.615962Z"
    },
    "run_control": {
     "marked": false
    }
   },
   "outputs": [],
   "source": [
    "# График группировки по двум параметрам\n",
    "sns.barplot(x='Pclass', y='Survived', data=df)"
   ]
  },
  {
   "cell_type": "code",
   "execution_count": null,
   "metadata": {
    "ExecuteTime": {
     "end_time": "2021-01-31T09:25:44.976069Z",
     "start_time": "2021-01-31T09:25:44.805004Z"
    },
    "run_control": {
     "marked": false
    }
   },
   "outputs": [],
   "source": [
    "# Создание фрейма с кроссраспределением групп по двум предикторам и их итоговому отклику\n",
    "tab=pd.crosstab(df['Pclass'], df['Sex'])\n",
    "print(tab)\n",
    "\n",
    "# График, который через суммирование всех значений в колонке и превращение в дробь, показывает процентное распределение в ней\n",
    "tab.div(tab.sum(1). astype(float), axis=0).plot(kind='bar', stacked=False)\n",
    "plt.xlabel('Pclass')\n",
    "plt.ylabel('Percentage')"
   ]
  },
  {
   "cell_type": "code",
   "execution_count": null,
   "metadata": {
    "ExecuteTime": {
     "end_time": "2021-01-31T09:25:45.440065Z",
     "start_time": "2021-01-31T09:25:44.977066Z"
    },
    "run_control": {
     "marked": false
    }
   },
   "outputs": [],
   "source": [
    "# График сравнения откликов в группах, в зависимости от предиктора (hue) \n",
    "sns.factorplot('Sex', 'Survived', hue='Pclass', size=4, aspect=2, data=df)"
   ]
  },
  {
   "cell_type": "code",
   "execution_count": null,
   "metadata": {
    "ExecuteTime": {
     "end_time": "2021-01-31T09:25:46.405035Z",
     "start_time": "2021-01-31T09:25:45.441035Z"
    },
    "run_control": {
     "marked": false
    }
   },
   "outputs": [],
   "source": [
    "# Зависимость и распределение откликов от трех предикторов. Для этого строятся параллельные графики по два в каждом\n",
    "sns.factorplot(x='Pclass', y='Survived', hue='Sex', col='Embarked', data=df);"
   ]
  },
  {
   "cell_type": "code",
   "execution_count": null,
   "metadata": {
    "ExecuteTime": {
     "end_time": "2021-01-31T09:25:46.935060Z",
     "start_time": "2021-01-31T09:25:46.406081Z"
    }
   },
   "outputs": [],
   "source": [
    "# Относительное сравнение. Один предиктор постоянен, отклик отправлен в (hue), дополнительные предикторы меняются\n",
    "fig = plt.figure(figsize=(15, 5))\n",
    "ax1 = fig.add_subplot(131)\n",
    "ax2 = fig.add_subplot(132)\n",
    "ax3 = fig.add_subplot(133)\n",
    "\n",
    "sns.violinplot(x='Embarked', y='Age', hue='Survived',\n",
    "               data=df, split=True, ax=ax1)\n",
    "sns.violinplot(x='Pclass', y='Age', hue='Survived',\n",
    "               data=df, split=True, ax=ax2)\n",
    "sns.violinplot(x='Sex', y='Age', hue='Survived', data=df, split=True, ax=ax3)"
   ]
  },
  {
   "cell_type": "code",
   "execution_count": null,
   "metadata": {
    "ExecuteTime": {
     "end_time": "2021-01-31T09:25:47.611035Z",
     "start_time": "2021-01-31T09:25:46.936066Z"
    },
    "scrolled": true
   },
   "outputs": [],
   "source": [
    "# Построение графика параллельного сравнения двух откликов для одного предиктора для двух групп\n",
    "\n",
    "male_survived = df[(df['Survived'] == 1) & (df['Sex'] == 'male')]\n",
    "female_survived = df[(df['Survived'] == 1) & (df['Sex'] == 'female')]\n",
    "male_not_survived = df[(df['Survived'] == 0) & (df['Sex'] == 'male')]\n",
    "female_not_survived = df[(df['Survived'] == 0) & (df['Sex'] == 'female')]\n",
    "\n",
    "plt.figure(figsize=[15, 5])\n",
    "plt.subplot(121)\n",
    "sns.distplot(female_survived['Age'].dropna().values,\n",
    "             bins=range(0, 81, 1), kde=True, color='blue')\n",
    "sns.distplot(female_not_survived['Age'].dropna().values, bins=range(\n",
    "    0, 81, 1), kde=True, color='red', axlabel='Female Age')\n",
    "\n",
    "plt.subplot(122)\n",
    "sns.distplot(male_survived['Age'].dropna().values,\n",
    "             bins=range(0, 81, 1), kde=True, color='blue')\n",
    "sns.distplot(male_not_survived['Age'].dropna().values, bins=range(\n",
    "    0, 81, 1), kde=True, color='red', axlabel='Male Age')"
   ]
  },
  {
   "cell_type": "code",
   "execution_count": null,
   "metadata": {
    "ExecuteTime": {
     "end_time": "2021-01-31T09:25:48.065065Z",
     "start_time": "2021-01-31T09:25:47.612037Z"
    }
   },
   "outputs": [],
   "source": [
    "# Хитмап корреляции для числовых колонок\n",
    "plt.figure(figsize=(15, 6))\n",
    "sns.heatmap(df.drop('PassengerId', axis=1).corr(),\n",
    "            vmax=0.6, square=True, annot=True)"
   ]
  },
  {
   "cell_type": "code",
   "execution_count": null,
   "metadata": {
    "ExecuteTime": {
     "end_time": "2021-01-31T09:25:48.070060Z",
     "start_time": "2021-01-31T09:25:48.066034Z"
    }
   },
   "outputs": [],
   "source": [
    "# Создаем список, что позволит работать циклами со всеми вложенными в него фреймами \n",
    "trd = [df, tsd]"
   ]
  },
  {
   "cell_type": "code",
   "execution_count": null,
   "metadata": {
    "ExecuteTime": {
     "end_time": "2021-01-31T09:25:48.083037Z",
     "start_time": "2021-01-31T09:25:48.071036Z"
    }
   },
   "outputs": [],
   "source": [
    "for dataset in trd:\n",
    "    dataset['Title'] = dataset['Name'].str.extract(' ([A-Za-z]+)\\.') #Извлекает все буквы перед избранным знаком(.)"
   ]
  },
  {
   "cell_type": "code",
   "execution_count": null,
   "metadata": {
    "ExecuteTime": {
     "end_time": "2021-01-31T09:25:48.096036Z",
     "start_time": "2021-01-31T09:25:48.084036Z"
    }
   },
   "outputs": [],
   "source": [
    "df.head()"
   ]
  },
  {
   "cell_type": "code",
   "execution_count": null,
   "metadata": {
    "ExecuteTime": {
     "end_time": "2021-01-31T09:25:48.112065Z",
     "start_time": "2021-01-31T09:25:48.097036Z"
    }
   },
   "outputs": [],
   "source": [
    "pd.crosstab(df['Title'], df['Sex'])"
   ]
  },
  {
   "cell_type": "code",
   "execution_count": null,
   "metadata": {
    "ExecuteTime": {
     "end_time": "2021-01-31T09:25:48.122037Z",
     "start_time": "2021-01-31T09:25:48.113061Z"
    }
   },
   "outputs": [],
   "source": [
    "# Объединяем группы, сливая единичные параметры в более общие\n",
    "for d in trd:\n",
    "    d['Title'] = d['Title'].replace(\n",
    "        ['Capt', 'Col', 'Countess', 'Don', 'Dr', 'Jonkheer', 'Lady', 'Major', 'Rev', 'Sir'], 'Other')\n",
    "    d['Title'] = d['Title'].replace('Mlle', 'Miss')\n",
    "    d['Title'] = d['Title'].replace('Ms', 'Miss')\n",
    "    d['Title'] = d['Title'].replace('Mme', 'Mrs')"
   ]
  },
  {
   "cell_type": "code",
   "execution_count": null,
   "metadata": {
    "ExecuteTime": {
     "end_time": "2021-01-31T09:25:48.128037Z",
     "start_time": "2021-01-31T09:25:48.123035Z"
    }
   },
   "outputs": [],
   "source": [
    "title_mapping = {'Mr': 1, 'Mrs': 2, 'Miss': 3, 'Master': 4, 'Other': 5}\n",
    "for d in trd:\n",
    "    d['Title'] = d['Title'].map(title_mapping)\n",
    "    d['Title'] = d['Title'].fillna(0)"
   ]
  },
  {
   "cell_type": "code",
   "execution_count": null,
   "metadata": {
    "ExecuteTime": {
     "end_time": "2021-01-31T09:25:48.137036Z",
     "start_time": "2021-01-31T09:25:48.129036Z"
    }
   },
   "outputs": [],
   "source": [
    "for d in trd:\n",
    "    d['Sex'] = d['Sex'].map({'female':0, 'male':1}).astype(int)"
   ]
  },
  {
   "cell_type": "code",
   "execution_count": null,
   "metadata": {
    "ExecuteTime": {
     "end_time": "2021-01-31T09:25:48.145036Z",
     "start_time": "2021-01-31T09:25:48.141066Z"
    }
   },
   "outputs": [],
   "source": [
    "for d in trd:\n",
    "    d['Embarked'] = d['Embarked'].fillna('S')"
   ]
  },
  {
   "cell_type": "code",
   "execution_count": null,
   "metadata": {
    "ExecuteTime": {
     "end_time": "2021-01-31T09:25:48.157066Z",
     "start_time": "2021-01-31T09:25:48.148036Z"
    }
   },
   "outputs": [],
   "source": [
    "# Все пустые строки заполняем случайным числом из охвата +-сигма\n",
    "for d in trd:\n",
    "    age_avg = d['Age'].mean()\n",
    "    age_std = d['Age'].std()\n",
    "    age_null_count = d['Age'].isnull().sum()\n",
    "\n",
    "    age_null_random_list = np.random.randint(\n",
    "        age_avg - age_std, age_avg + age_std, size=age_null_count)\n",
    "    d['Age'][np.isnan(d['Age'])] = age_null_random_list\n",
    "    d['Age'] = d['Age'].astype(int)"
   ]
  },
  {
   "cell_type": "code",
   "execution_count": null,
   "metadata": {
    "ExecuteTime": {
     "end_time": "2021-01-31T09:25:48.169037Z",
     "start_time": "2021-01-31T09:25:48.158035Z"
    }
   },
   "outputs": [],
   "source": [
    "# Разделяем данные на равные блоки методом CUT\n",
    "df['AgeBand'] = pd.cut(df['Age'], 5) #Указываем число нужных блоков\n",
    "print(df[['AgeBand', 'Survived']].groupby(['AgeBand'], as_index=False).mean())"
   ]
  },
  {
   "cell_type": "code",
   "execution_count": null,
   "metadata": {
    "ExecuteTime": {
     "end_time": "2021-01-31T09:25:48.182088Z",
     "start_time": "2021-01-31T09:25:48.170038Z"
    }
   },
   "outputs": [],
   "source": [
    "# В списке заменяем исходные параметры по заданному значению (если предварительно определена группа)\n",
    "for d in trd:\n",
    "    d.loc[d['Age'] <= 16, 'Age'] = 0\n",
    "    d.loc[(d['Age'] > 16) & (d['Age'] <= 32), 'Age'] = 1\n",
    "    d.loc[(d['Age'] > 32) & (d['Age'] <= 48), 'Age'] = 2\n",
    "    d.loc[(d['Age'] > 48) & (d['Age'] <= 64), 'Age'] = 3\n",
    "    d.loc[d['Age'] > 64, 'Age'] = 4"
   ]
  },
  {
   "cell_type": "code",
   "execution_count": null,
   "metadata": {
    "ExecuteTime": {
     "end_time": "2021-01-31T09:25:48.188060Z",
     "start_time": "2021-01-31T09:25:48.183065Z"
    }
   },
   "outputs": [],
   "source": [
    "for d in trd:\n",
    "    d['Embarked'] = d['Embarked'].map({'S': 0, 'C': 1, 'Q': 2})"
   ]
  },
  {
   "cell_type": "code",
   "execution_count": null,
   "metadata": {
    "ExecuteTime": {
     "end_time": "2021-01-31T09:25:48.200064Z",
     "start_time": "2021-01-31T09:25:48.189060Z"
    }
   },
   "outputs": [],
   "source": [
    "df[['Title', 'Survived']].groupby(['Title'], as_index=False).mean()"
   ]
  },
  {
   "cell_type": "code",
   "execution_count": null,
   "metadata": {
    "ExecuteTime": {
     "end_time": "2021-01-31T09:25:48.339065Z",
     "start_time": "2021-01-31T09:25:48.201037Z"
    }
   },
   "outputs": [],
   "source": [
    "sns.barplot(x='Title', y='Survived', ci=None, data=df) # ci убирает доп.черты на графике"
   ]
  },
  {
   "cell_type": "code",
   "execution_count": null,
   "metadata": {
    "ExecuteTime": {
     "end_time": "2021-01-31T09:25:48.344036Z",
     "start_time": "2021-01-31T09:25:48.340066Z"
    }
   },
   "outputs": [],
   "source": [
    "df['Title'] = df['Title'].map(\n",
    "    {'Mr': 1, 'Mrs': 2, 'Miss': 3, 'Master': 4, 'Other': 5})"
   ]
  },
  {
   "cell_type": "code",
   "execution_count": null,
   "metadata": {
    "ExecuteTime": {
     "end_time": "2021-01-31T09:25:48.351081Z",
     "start_time": "2021-01-31T09:25:48.346037Z"
    }
   },
   "outputs": [],
   "source": [
    "for d in trd:\n",
    "    d['Fare'] = d['Fare'].fillna(df['Fare'].median())"
   ]
  },
  {
   "cell_type": "code",
   "execution_count": null,
   "metadata": {
    "ExecuteTime": {
     "end_time": "2021-01-31T09:25:48.362060Z",
     "start_time": "2021-01-31T09:25:48.352036Z"
    }
   },
   "outputs": [],
   "source": [
    "# Метод qcut делит колонку на квантилиб что делает число входов равным\n",
    "df['FareBand'] = pd.qcut(df['Fare'], 4)\n",
    "print(df[['FareBand', 'Survived']].groupby(['FareBand'], as_index=False).mean())"
   ]
  },
  {
   "cell_type": "code",
   "execution_count": null,
   "metadata": {
    "ExecuteTime": {
     "end_time": "2021-01-31T09:25:48.374064Z",
     "start_time": "2021-01-31T09:25:48.364037Z"
    }
   },
   "outputs": [],
   "source": [
    "for d in trd:\n",
    "    d.loc[d['Fare'] <= 7.91, 'Fare'] = 0\n",
    "    d.loc[(d['Fare'] > 7.91) & (d['Fare'] <= 14.454), 'Fare'] = 1\n",
    "    d.loc[(d['Fare'] > 14.454) & (d['Fare'] <= 31.0), 'Fare'] = 2\n",
    "    d.loc[d['Fare'] > 31.0, 'Fare'] = 3"
   ]
  },
  {
   "cell_type": "code",
   "execution_count": null,
   "metadata": {
    "ExecuteTime": {
     "end_time": "2021-01-31T09:25:48.386037Z",
     "start_time": "2021-01-31T09:25:48.375037Z"
    }
   },
   "outputs": [],
   "source": [
    "tsd.head()"
   ]
  },
  {
   "cell_type": "code",
   "execution_count": null,
   "metadata": {
    "ExecuteTime": {
     "end_time": "2021-01-31T09:26:25.178365Z",
     "start_time": "2021-01-31T09:26:25.169360Z"
    }
   },
   "outputs": [],
   "source": [
    "for d in trd:\n",
    "    d['FamilySize'] = d['SibSp'] + d['Parch'] + 1\n",
    "    \n",
    "print(df[['FamilySize', 'Survived']].groupby(['FamilySize'], as_index=False).mean())"
   ]
  },
  {
   "cell_type": "code",
   "execution_count": null,
   "metadata": {
    "ExecuteTime": {
     "end_time": "2021-01-31T09:27:48.806708Z",
     "start_time": "2021-01-31T09:27:48.392701Z"
    }
   },
   "outputs": [],
   "source": [
    "sns.barplot(x='FamilySize', y='Survived', ci=False, data=df)"
   ]
  },
  {
   "cell_type": "code",
   "execution_count": null,
   "metadata": {
    "ExecuteTime": {
     "end_time": "2021-01-31T09:32:58.518744Z",
     "start_time": "2021-01-31T09:32:58.504744Z"
    }
   },
   "outputs": [],
   "source": [
    "for d in trd:\n",
    "    d['IsAlone'] = 0\n",
    "    d.loc[d['FamilySize'] == 1, 'IsAlone'] = 1\n",
    "\n",
    "print(df[['IsAlone', 'Survived']].groupby(['IsAlone'], as_index=False).mean())"
   ]
  },
  {
   "cell_type": "code",
   "execution_count": null,
   "metadata": {},
   "outputs": [],
   "source": []
  },
  {
   "cell_type": "code",
   "execution_count": null,
   "metadata": {},
   "outputs": [],
   "source": []
  }
 ],
 "metadata": {
  "celltoolbar": "Отсутствует",
  "gist": {
   "data": {
    "description": "Documents/GitHub/Kaggle/Titanic/Titanic_3001_ALL.ipynb",
    "public": false
   },
   "id": ""
  },
  "hide_input": false,
  "kernelspec": {
   "display_name": "Python 3",
   "language": "python",
   "name": "python3"
  },
  "language_info": {
   "codemirror_mode": {
    "name": "ipython",
    "version": 3
   },
   "file_extension": ".py",
   "mimetype": "text/x-python",
   "name": "python",
   "nbconvert_exporter": "python",
   "pygments_lexer": "ipython3",
   "version": "3.8.3"
  },
  "latex_envs": {
   "LaTeX_envs_menu_present": true,
   "autoclose": false,
   "autocomplete": true,
   "bibliofile": "biblio.bib",
   "cite_by": "apalike",
   "current_citInitial": 1,
   "eqLabelWithNumbers": true,
   "eqNumInitial": 1,
   "hotkeys": {
    "equation": "Ctrl-E",
    "itemize": "Ctrl-I"
   },
   "labels_anchors": false,
   "latex_user_defs": false,
   "report_style_numbering": false,
   "user_envs_cfg": false
  },
  "nbTranslate": {
   "displayLangs": [
    "*"
   ],
   "hotkey": "alt-t",
   "langInMainMenu": true,
   "sourceLang": "en",
   "targetLang": "fr",
   "useGoogleTranslate": true
  },
  "toc": {
   "base_numbering": 1,
   "nav_menu": {
    "height": "12px",
    "width": "160px"
   },
   "number_sections": true,
   "sideBar": true,
   "skip_h1_title": false,
   "title_cell": "Table of Contents",
   "title_sidebar": "Contents",
   "toc_cell": false,
   "toc_position": {},
   "toc_section_display": true,
   "toc_window_display": false
  },
  "varInspector": {
   "cols": {
    "lenName": 16,
    "lenType": 16,
    "lenVar": 40
   },
   "kernels_config": {
    "python": {
     "delete_cmd_postfix": "",
     "delete_cmd_prefix": "del ",
     "library": "var_list.py",
     "varRefreshCmd": "print(var_dic_list())"
    },
    "r": {
     "delete_cmd_postfix": ") ",
     "delete_cmd_prefix": "rm(",
     "library": "var_list.r",
     "varRefreshCmd": "cat(var_dic_list()) "
    }
   },
   "position": {
    "height": "735px",
    "left": "17px",
    "right": "20px",
    "top": "191px",
    "width": "362px"
   },
   "types_to_exclude": [
    "module",
    "function",
    "builtin_function_or_method",
    "instance",
    "_Feature"
   ],
   "window_display": true
  },
  "widgets": {
   "application/vnd.jupyter.widget-state+json": {
    "state": {},
    "version_major": 2,
    "version_minor": 0
   }
  }
 },
 "nbformat": 4,
 "nbformat_minor": 4
}
