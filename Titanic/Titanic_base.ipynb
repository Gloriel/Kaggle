{
 "cells": [
  {
   "cell_type": "code",
   "execution_count": 6,
   "metadata": {
    "scrolled": true
   },
   "outputs": [],
   "source": [
    "import pandas as pd\n",
    "pd.options.mode.chained_assignment = None  # default='warn'\n",
    "import numpy as np\n",
    "from sklearn.metrics import accuracy_score, log_loss\n",
    "from sklearn import preprocessing\n",
    "from sklearn.ensemble import RandomForestClassifier\n",
    "from sklearn.model_selection import train_test_split\n",
    "from sklearn.model_selection import cross_validate\n",
    "from sklearn.model_selection import cross_val_score\n",
    "from sklearn.model_selection import cross_val_predict\n",
    "from sklearn.metrics import confusion_matrix\n",
    "from sklearn.svm import SVC, LinearSVC\n",
    "from sklearn.preprocessing import LabelEncoder\n",
    "from sklearn.calibration import CalibratedClassifierCV\n",
    "%matplotlib inline\n",
    "\n",
    "trd = pd.read_csv('train.csv')\n",
    "tsd = pd.read_csv('test.csv')\n",
    "df = pd.concat([trd, tsd], ignore_index=True, sort  = False)"
   ]
  },
  {
   "cell_type": "code",
   "execution_count": 7,
   "metadata": {},
   "outputs": [
    {
     "data": {
      "text/plain": [
       "(1309, 12)"
      ]
     },
     "execution_count": 7,
     "metadata": {},
     "output_type": "execute_result"
    }
   ],
   "source": [
    "df.shape"
   ]
  },
  {
   "cell_type": "code",
   "execution_count": 8,
   "metadata": {},
   "outputs": [],
   "source": [
    "features= ['Pclass', 'Sex', 'Age', 'SibSp', 'Parch', 'Fare', 'Embarked']"
   ]
  },
  {
   "cell_type": "code",
   "execution_count": 9,
   "metadata": {},
   "outputs": [],
   "source": [
    "x = df[features]\n",
    "y = df['Survived']"
   ]
  },
  {
   "cell_type": "code",
   "execution_count": 10,
   "metadata": {},
   "outputs": [],
   "source": [
    "x['Age'] = x['Age'].fillna(x['Age'].median())\n",
    "x['Embarked']= x['Embarked'].fillna(x['Embarked'].value_counts().index[0])"
   ]
  },
  {
   "cell_type": "code",
   "execution_count": 18,
   "metadata": {},
   "outputs": [],
   "source": [
    "LE = LabelEncoder()\n",
    "x['Sex'] = LE.fit_transform(x['Sex'])\n",
    "x['Embarked'] = LE.fit_transform(x['Embarked'])"
   ]
  },
  {
   "cell_type": "code",
   "execution_count": null,
   "metadata": {},
   "outputs": [],
   "source": [
    "test_data = pd.read_csv('../input/titanic/test.csv')\n",
    "test_x = test_data[features]"
   ]
  },
  {
   "cell_type": "code",
   "execution_count": null,
   "metadata": {},
   "outputs": [],
   "source": [
    "##Now we predict the values\n",
    "prediction = classifier.predict(test_x)"
   ]
  },
  {
   "cell_type": "code",
   "execution_count": null,
   "metadata": {},
   "outputs": [],
   "source": [
    "td['Sex'] = LabelEncoder().fit_transform(td['Sex'])"
   ]
  },
  {
   "cell_type": "code",
   "execution_count": null,
   "metadata": {},
   "outputs": [],
   "source": [
    "#Создаем фрейм для предсказания\n",
    "X_to_be_predicted = td[td.Survived.isnull()] #В новом фрейме Удаляем все значения Y в колонке \n",
    "X_to_be_predicted = X_to_be_predicted.drop(['Survived'], axis = 1) #Затем удаляем всю колонку целиком\n",
    "\n",
    "train_data = td #Выбираем фрейм\n",
    "train_data = train_data.dropna() #В новом фрейме чистим от пустых строк\n",
    "y = train_data['Survived'] #Зависимая переменная\n",
    "X = train_data.drop(['Survived'], axis = 1) #Предикторы\n",
    "train_data.shape "
   ]
  },
  {
   "cell_type": "code",
   "execution_count": null,
   "metadata": {},
   "outputs": [],
   "source": [
    "#Расщепление на обучающую и тестовые выборки\n",
    "X_train, X_test, y_train, y_test = train_test_split(X, y, random_state=42,                                                    \n",
    "                                                    test_size=0.2 # доля объёма тестового множества\n",
    "                                                   )"
   ]
  },
  {
   "cell_type": "code",
   "execution_count": null,
   "metadata": {},
   "outputs": [],
   "source": [
    "model = RandomForestClassifier(random_state=42, #зерно датчика случайных чисел\n",
    "                               n_estimators=100, #число деревьев в лесу\n",
    "                               criterion='gini', #функция для дельта H, impurity ('gini' или 'entropy')\n",
    "                               max_depth=5, #Макс число слоев                               \n",
    "                               oob_score=True, #Вычислять out-of-bag ошибку                               \n",
    "                               warm_start=False, #использовать результаты предыдущего вызова и нарастить предыдущий лес\n",
    "                               class_weight=None #веса классов для балансировки выборки для обучения\n",
    "                              )\n",
    "\n",
    "model.fit(X_train, y_train)\n",
    "y_pred = model.predict(X_test)\n",
    "\n",
    "print(\"RF Accuracy: \"+repr(round(model.score(X_test, y_test) * 100, 2)) + \"%\")\n",
    "\n",
    "result_rf=cross_val_score(model, X_train, y_train, cv=10, scoring='accuracy')\n",
    "\n",
    "print('The cross validated score for Random forest is:',round(result_rf.mean()*100,2))\n",
    "y_pred = cross_val_predict(model, X_train, y_train, cv=10)\n",
    "\n",
    "#Важность вклада предикторов\n",
    "pd.DataFrame({'feature': X.columns,\n",
    "              'importance': model.feature_importances_}).sort_values('importance', ascending=False)"
   ]
  },
  {
   "cell_type": "code",
   "execution_count": null,
   "metadata": {},
   "outputs": [],
   "source": [
    "result = model.predict(X_to_be_predicted)\n",
    "submission = pd.DataFrame({'PassengerId':X_to_be_predicted.PassengerId,'Survived':result})\n",
    "submission.Survived = submission.Survived.astype(int)\n",
    "print(submission.shape)\n",
    "filename = 'Titanic_test_predictions.csv'\n",
    "submission.to_csv(filename,index=False)\n",
    "print('Saved file: ' + filename)"
   ]
  },
  {
   "cell_type": "code",
   "execution_count": null,
   "metadata": {},
   "outputs": [],
   "source": [
    "df = pd.read_csv('Titanic Predictions.csv')"
   ]
  },
  {
   "cell_type": "code",
   "execution_count": null,
   "metadata": {},
   "outputs": [],
   "source": []
  }
 ],
 "metadata": {
  "kernelspec": {
   "display_name": "Python 3",
   "language": "python",
   "name": "python3"
  },
  "language_info": {
   "codemirror_mode": {
    "name": "ipython",
    "version": 3
   },
   "file_extension": ".py",
   "mimetype": "text/x-python",
   "name": "python",
   "nbconvert_exporter": "python",
   "pygments_lexer": "ipython3",
   "version": "3.8.3"
  }
 },
 "nbformat": 4,
 "nbformat_minor": 4
}
