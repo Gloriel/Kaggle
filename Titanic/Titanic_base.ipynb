{
 "cells": [
  {
   "cell_type": "code",
   "execution_count": null,
   "metadata": {
    "scrolled": true
   },
   "outputs": [],
   "source": [
    "import pandas as pd\n",
    "import numpy as np\n",
    "import seaborn as sns\n",
    "import matplotlib \n",
    "import matplotlib.pyplot as plt\n",
    "from wordcloud import WordCloud\n",
    "from sklearn.metrics import accuracy_score, log_loss\n",
    "from sklearn.naive_bayes import GaussianNB\n",
    "from sklearn.ensemble import RandomForestClassifier\n",
    "from sklearn.model_selection import train_test_split\n",
    "from sklearn.model_selection import cross_validate\n",
    "from sklearn.model_selection import cross_val_score\n",
    "from sklearn.model_selection import cross_val_predict\n",
    "from sklearn.metrics import confusion_matrix\n",
    "from sklearn.svm import SVC, LinearSVC\n",
    "from sklearn.preprocessing import LabelEncoder\n",
    "%matplotlib inline\n",
    "\n",
    "#Настройки показа графиков в блокноте\n",
    "pd.options.display.float_format = '{:,.2f}'.format\n",
    "pd.set_option('display.width', 85)\n",
    "pd.set_option('display.max_columns', 8)\n",
    "\n",
    "from sklearn import preprocessing\n",
    "#%config InlineBackend.figure_format = 'svg' для большей четкости графиков\n",
    "matplotlib.style.use('ggplot')\n",
    "%matplotlib inline\n",
    "\n",
    "#Стандартизация данных\n",
    "from sklearn import preprocessing\n",
    "\n",
    "#Построение диаграмм рассеивания\n",
    "from pandas.plotting import scatter_matrix\n",
    "\n",
    "#Графика для интерпретации моделей\n",
    "from IPython.display import Image\n",
    "from sklearn.tree import export_graphviz\n",
    "from subprocess import call\n",
    "\n",
    "from sklearn.model_selection import train_test_split\n",
    "\n",
    "#Деревья решений для задачи классификации\n",
    "from sklearn.tree import DecisionTreeClassifier\n",
    "\n",
    "#Калибровка деревьев решений\n",
    "from sklearn.calibration import CalibratedClassifierCV\n",
    "\n",
    "df = pd.read_csv('train.csv')\n",
    "tsd = pd.read_csv('test.csv')\n"
   ]
  },
  {
   "cell_type": "code",
   "execution_count": null,
   "metadata": {},
   "outputs": [],
   "source": [
    "df.head().T"
   ]
  },
  {
   "cell_type": "code",
   "execution_count": null,
   "metadata": {},
   "outputs": [],
   "source": [
    "df['Salutation'] = df.Name.apply(lambda name: name.split(',')[1].split('.')[0].strip()) \n",
    "df.Salutation.nunique()\n",
    "wc = WordCloud(width = 1000,height = 450,background_color = 'white').generate(str(df.Salutation.values))\n",
    "plt.imshow(wc, interpolation = 'bilinear')\n",
    "plt.axis('off')\n",
    "plt.tight_layout(pad=0)\n",
    "plt.show()\n",
    "\n",
    "df.Salutation.value_counts()"
   ]
  },
  {
   "cell_type": "code",
   "execution_count": null,
   "metadata": {},
   "outputs": [],
   "source": [
    "df.head().T"
   ]
  },
  {
   "cell_type": "code",
   "execution_count": null,
   "metadata": {},
   "outputs": [],
   "source": [
    "#Меняем пропущенные значения на среднее значение по колонке \n",
    "grp = df.groupby(['Sex', 'Pclass'])  \n",
    "df.Age = grp.Age.apply(lambda x: x.fillna(x.median()))"
   ]
  },
  {
   "cell_type": "code",
   "execution_count": null,
   "metadata": {},
   "outputs": [],
   "source": [
    "#Преобразуем объектные столбцы в численные. \n",
    "df['Sex'] = df['Sex'].map({'female': 0, 'male': 1})"
   ]
  },
  {
   "cell_type": "code",
   "execution_count": null,
   "metadata": {},
   "outputs": [],
   "source": [
    "df.shape"
   ]
  },
  {
   "cell_type": "code",
   "execution_count": null,
   "metadata": {},
   "outputs": [],
   "source": [
    "df.drop(['Cabin', 'Name', 'Salutation', 'Ticket','Embarked', 'SibSp', 'Parch'], axis=1, inplace=True)"
   ]
  },
  {
   "cell_type": "code",
   "execution_count": null,
   "metadata": {},
   "outputs": [],
   "source": [
    "df.head()"
   ]
  },
  {
   "cell_type": "code",
   "execution_count": null,
   "metadata": {},
   "outputs": [],
   "source": [
    "X_to_be_predicted = df[df.Survived.isnull()]\n",
    "X_to_be_predicted = X_to_be_predicted.drop(['Survived'], axis = 1)\n",
    "# X_to_be_predicted[X_to_be_predicted.Age.isnull()]\n",
    "# X_to_be_predicted.dropna(inplace = True) # 417 x 27\n",
    "#Training data\n",
    "train_data = df\n",
    "train_data = train_data.dropna()\n",
    "feature_train = train_data['Survived']\n",
    "label_train = train_data.drop(['Survived'], axis = 1)"
   ]
  },
  {
   "cell_type": "code",
   "execution_count": null,
   "metadata": {},
   "outputs": [],
   "source": [
    "##Random forest\n",
    "clf = RandomForestClassifier(criterion='entropy',\n",
    "n_estimators=700,\n",
    "min_samples_split=10,\n",
    "min_samples_leaf=1,\n",
    "max_features='auto',\n",
    "oob_score=True,\n",
    "random_state=1,\n",
    "n_jobs=-1)\n",
    "x_train, x_test, y_train, y_test = train_test_split(label_train, feature_train, test_size=0.2)\n",
    "clf.fit(x_train, np.ravel(y_train))\n",
    "print(\"RF Accuracy: \"+repr(round(clf.score(x_test, y_test) * 100, 2)) + \"%\")\n",
    "result_rf=cross_val_score(clf,x_train,y_train,cv=10,scoring='accuracy')\n",
    "print('The cross validated score for Random forest is:',round(result_rf.mean()*100,2))\n",
    "y_pred = cross_val_predict(clf,x_train,y_train,cv=10)"
   ]
  },
  {
   "cell_type": "code",
   "execution_count": null,
   "metadata": {},
   "outputs": [],
   "source": [
    "test_data = pd.read_csv(\"test.csv\")\n",
    "test_data.head()"
   ]
  },
  {
   "cell_type": "code",
   "execution_count": null,
   "metadata": {},
   "outputs": [],
   "source": []
  }
 ],
 "metadata": {
  "kernelspec": {
   "display_name": "Python 3",
   "language": "python",
   "name": "python3"
  },
  "language_info": {
   "codemirror_mode": {
    "name": "ipython",
    "version": 3
   },
   "file_extension": ".py",
   "mimetype": "text/x-python",
   "name": "python",
   "nbconvert_exporter": "python",
   "pygments_lexer": "ipython3",
   "version": "3.8.3"
  }
 },
 "nbformat": 4,
 "nbformat_minor": 4
}
